{
 "cells": [
  {
   "cell_type": "code",
   "execution_count": 1,
   "id": "0a979335",
   "metadata": {},
   "outputs": [],
   "source": [
    "#1. Import the numpy package under the name np (★☆☆)\n",
    "#(hint: import … as …)\n",
    "import numpy as np"
   ]
  },
  {
   "cell_type": "code",
   "execution_count": 2,
   "id": "0f8d15e4",
   "metadata": {},
   "outputs": [
    {
     "name": "stdout",
     "output_type": "stream",
     "text": [
      "1.21.5\n",
      "blas_mkl_info:\n",
      "    libraries = ['mkl_rt']\n",
      "    library_dirs = ['C:/ProgramData/Anaconda3\\\\Library\\\\lib']\n",
      "    define_macros = [('SCIPY_MKL_H', None), ('HAVE_CBLAS', None)]\n",
      "    include_dirs = ['C:/ProgramData/Anaconda3\\\\Library\\\\include']\n",
      "blas_opt_info:\n",
      "    libraries = ['mkl_rt']\n",
      "    library_dirs = ['C:/ProgramData/Anaconda3\\\\Library\\\\lib']\n",
      "    define_macros = [('SCIPY_MKL_H', None), ('HAVE_CBLAS', None)]\n",
      "    include_dirs = ['C:/ProgramData/Anaconda3\\\\Library\\\\include']\n",
      "lapack_mkl_info:\n",
      "    libraries = ['mkl_rt']\n",
      "    library_dirs = ['C:/ProgramData/Anaconda3\\\\Library\\\\lib']\n",
      "    define_macros = [('SCIPY_MKL_H', None), ('HAVE_CBLAS', None)]\n",
      "    include_dirs = ['C:/ProgramData/Anaconda3\\\\Library\\\\include']\n",
      "lapack_opt_info:\n",
      "    libraries = ['mkl_rt']\n",
      "    library_dirs = ['C:/ProgramData/Anaconda3\\\\Library\\\\lib']\n",
      "    define_macros = [('SCIPY_MKL_H', None), ('HAVE_CBLAS', None)]\n",
      "    include_dirs = ['C:/ProgramData/Anaconda3\\\\Library\\\\include']\n",
      "Supported SIMD extensions in this NumPy install:\n",
      "    baseline = SSE,SSE2,SSE3\n",
      "    found = SSSE3,SSE41,POPCNT,SSE42,AVX,F16C,FMA3,AVX2\n",
      "    not found = AVX512F,AVX512CD,AVX512_SKX,AVX512_CLX,AVX512_CNL\n",
      "None\n"
     ]
    }
   ],
   "source": [
    "#2.Print the numpy version and the configuration (★☆☆)\n",
    "#(hint: np.__version__, np.show_config)\n",
    "print(np.__version__)\n",
    "print(np.show_config())"
   ]
  },
  {
   "cell_type": "code",
   "execution_count": 3,
   "id": "79e79c1f",
   "metadata": {},
   "outputs": [
    {
     "name": "stdout",
     "output_type": "stream",
     "text": [
      "[0. 0. 0. 0. 0. 0. 0. 0. 0. 0.]\n"
     ]
    }
   ],
   "source": [
    "#3. Create a null vector of size 10 (★☆☆)\n",
    "#(hint: np.zeros)\n",
    "def null_array(n):\n",
    "    x=np.zeros(n)\n",
    "    return x\n",
    "print(null_array(10))"
   ]
  },
  {
   "cell_type": "code",
   "execution_count": 4,
   "id": "57b27121",
   "metadata": {},
   "outputs": [
    {
     "name": "stdout",
     "output_type": "stream",
     "text": [
      "12\n"
     ]
    }
   ],
   "source": [
    "#4. How to find the memory size of any array (★☆☆)\n",
    "#(hint: size, itemsize)\n",
    "x=np.array([100,20,34])\n",
    "print(x.size*x.itemsize)"
   ]
  },
  {
   "cell_type": "code",
   "execution_count": 5,
   "id": "d21a4a84",
   "metadata": {},
   "outputs": [
    {
     "name": "stdout",
     "output_type": "stream",
     "text": [
      "add(x1, x2, /, out=None, *, where=True, casting='same_kind', order='K', dtype=None, subok=True[, signature, extobj])\n",
      "\n",
      "Add arguments element-wise.\n",
      "\n",
      "Parameters\n",
      "----------\n",
      "x1, x2 : array_like\n",
      "    The arrays to be added.\n",
      "    If ``x1.shape != x2.shape``, they must be broadcastable to a common\n",
      "    shape (which becomes the shape of the output).\n",
      "out : ndarray, None, or tuple of ndarray and None, optional\n",
      "    A location into which the result is stored. If provided, it must have\n",
      "    a shape that the inputs broadcast to. If not provided or None,\n",
      "    a freshly-allocated array is returned. A tuple (possible only as a\n",
      "    keyword argument) must have length equal to the number of outputs.\n",
      "where : array_like, optional\n",
      "    This condition is broadcast over the input. At locations where the\n",
      "    condition is True, the `out` array will be set to the ufunc result.\n",
      "    Elsewhere, the `out` array will retain its original value.\n",
      "    Note that if an uninitialized `out` array is created via the default\n",
      "    ``out=None``, locations within it where the condition is False will\n",
      "    remain uninitialized.\n",
      "**kwargs\n",
      "    For other keyword-only arguments, see the\n",
      "    :ref:`ufunc docs <ufuncs.kwargs>`.\n",
      "\n",
      "Returns\n",
      "-------\n",
      "add : ndarray or scalar\n",
      "    The sum of `x1` and `x2`, element-wise.\n",
      "    This is a scalar if both `x1` and `x2` are scalars.\n",
      "\n",
      "Notes\n",
      "-----\n",
      "Equivalent to `x1` + `x2` in terms of array broadcasting.\n",
      "\n",
      "Examples\n",
      "--------\n",
      ">>> np.add(1.0, 4.0)\n",
      "5.0\n",
      ">>> x1 = np.arange(9.0).reshape((3, 3))\n",
      ">>> x2 = np.arange(3.0)\n",
      ">>> np.add(x1, x2)\n",
      "array([[  0.,   2.,   4.],\n",
      "       [  3.,   5.,   7.],\n",
      "       [  6.,   8.,  10.]])\n",
      "\n",
      "The ``+`` operator can be used as a shorthand for ``np.add`` on ndarrays.\n",
      "\n",
      ">>> x1 = np.arange(9.0).reshape((3, 3))\n",
      ">>> x2 = np.arange(3.0)\n",
      ">>> x1 + x2\n",
      "array([[ 0.,  2.,  4.],\n",
      "       [ 3.,  5.,  7.],\n",
      "       [ 6.,  8., 10.]])\n",
      "None\n"
     ]
    }
   ],
   "source": [
    "#5.How to get the documentation of the numpy add function from the command line? (★☆☆)\n",
    "#(hint: np.info)\n",
    "print(np.info(np.add))\n"
   ]
  },
  {
   "cell_type": "code",
   "execution_count": 6,
   "id": "93899731",
   "metadata": {},
   "outputs": [
    {
     "name": "stdout",
     "output_type": "stream",
     "text": [
      "[0. 0. 0. 0. 0. 0. 0. 0. 0. 0.]\n",
      "Update 5th value to 1\n",
      "[0. 0. 0. 0. 1. 0. 0. 0. 0. 0.]\n"
     ]
    }
   ],
   "source": [
    "#6. Create a null vector of size 10 but the fifth value which is 1 (★☆☆)\n",
    "#(hint: array[4])\n",
    "x = np.zeros(10)\n",
    "print(x)\n",
    "print(\"Update 5th value to 1\")\n",
    "x[4] = 1\n",
    "print(x)"
   ]
  },
  {
   "cell_type": "code",
   "execution_count": 7,
   "id": "b79046bc",
   "metadata": {},
   "outputs": [
    {
     "name": "stdout",
     "output_type": "stream",
     "text": [
      "[10 11 12 13 14 15 16 17 18 19 20 21 22 23 24 25 26 27 28 29 30 31 32 33\n",
      " 34 35 36 37 38 39 40 41 42 43 44 45 46 47 48]\n"
     ]
    }
   ],
   "source": [
    "#7.Create a vector with values ranging from 10 to 49 (★☆☆)\n",
    "#(hint: np.arange)\n",
    "v = np.arange(10,49)\n",
    "print(v)"
   ]
  },
  {
   "cell_type": "code",
   "execution_count": 8,
   "id": "9facffb6",
   "metadata": {},
   "outputs": [
    {
     "data": {
      "text/plain": [
       "array([48, 47, 46, 45, 44, 43, 42, 41, 40, 39, 38, 37, 36, 35, 34, 33, 32,\n",
       "       31, 30, 29, 28, 27, 26, 25, 24, 23, 22, 21, 20, 19, 18, 17, 16, 15,\n",
       "       14, 13, 12, 11, 10])"
      ]
     },
     "execution_count": 8,
     "metadata": {},
     "output_type": "execute_result"
    }
   ],
   "source": [
    "#8. Reverse a vector (first element becomes last) (★☆☆)\n",
    "#(hint: array[::-1])\n",
    "v[::-1]"
   ]
  },
  {
   "cell_type": "code",
   "execution_count": 9,
   "id": "65d154a8",
   "metadata": {},
   "outputs": [
    {
     "name": "stdout",
     "output_type": "stream",
     "text": [
      "[[0 1 2]\n",
      " [3 4 5]\n",
      " [6 7 8]]\n"
     ]
    }
   ],
   "source": [
    "#9. Create a 3x3 matrix with values ranging from 0 to 8 (★☆☆)\n",
    "#(hint: reshape)\n",
    "x =  np.arange(0, 9).reshape(3,3)\n",
    "print(x)"
   ]
  },
  {
   "cell_type": "code",
   "execution_count": 10,
   "id": "c1762267",
   "metadata": {},
   "outputs": [
    {
     "name": "stdout",
     "output_type": "stream",
     "text": [
      "(array([0, 1, 4], dtype=int64),)\n"
     ]
    }
   ],
   "source": [
    "#10.Find indices of non-zero elements from [1,2,0,0,4,0] (★☆☆) \n",
    "\n",
    "arr=np.array([1,2,0,0,4,0])\n",
    "out=np.nonzero(arr)\n",
    "print(out)"
   ]
  },
  {
   "cell_type": "code",
   "execution_count": 11,
   "id": "7c0ac862",
   "metadata": {},
   "outputs": [
    {
     "name": "stdout",
     "output_type": "stream",
     "text": [
      "[[1. 0. 0.]\n",
      " [0. 1. 0.]\n",
      " [0. 0. 1.]]\n"
     ]
    }
   ],
   "source": [
    "#11.Create a 3x3 identity matrix.\n",
    "#(hint: np.eye)\n",
    "x=np.eye(3)\n",
    "print(x)"
   ]
  },
  {
   "cell_type": "code",
   "execution_count": 12,
   "id": "a1b12850",
   "metadata": {},
   "outputs": [
    {
     "name": "stdout",
     "output_type": "stream",
     "text": [
      "[[[0.85343896 0.83442513 0.75730178]\n",
      "  [0.60403969 0.78169216 0.8539517 ]\n",
      "  [0.26510367 0.48966288 0.20272358]]\n",
      "\n",
      " [[0.23605751 0.9834473  0.33787604]\n",
      "  [0.20644212 0.9113565  0.57925282]\n",
      "  [0.85192208 0.53912854 0.96093346]]\n",
      "\n",
      " [[0.25332136 0.12239868 0.26323784]\n",
      "  [0.74435098 0.60941622 0.50039225]\n",
      "  [0.40157212 0.58344091 0.11649299]]]\n"
     ]
    }
   ],
   "source": [
    "#12.Create a 3x3x3 array with random values\n",
    "#(hint: np.random.random)\n",
    "x=np.random.random((3,3,3))\n",
    "print(x)"
   ]
  },
  {
   "cell_type": "code",
   "execution_count": 13,
   "id": "40b308bc",
   "metadata": {},
   "outputs": [
    {
     "name": "stdout",
     "output_type": "stream",
     "text": [
      "0.002009050160548087 0.9979720098128482\n"
     ]
    }
   ],
   "source": [
    "#13.Create a 10x10 array with random values and find the minimum and maximum values \n",
    "#(hint: min, max)\n",
    "x=np.random.random((10,10))\n",
    "xmin,xmax=x.min(),x.max()\n",
    "print(xmin,xmax)"
   ]
  },
  {
   "cell_type": "code",
   "execution_count": 14,
   "id": "a332b77b",
   "metadata": {},
   "outputs": [
    {
     "data": {
      "text/plain": [
       "0.5484757784177746"
      ]
     },
     "execution_count": 14,
     "metadata": {},
     "output_type": "execute_result"
    }
   ],
   "source": [
    "#14. Create a random vector of size 30 and find the mean value (★☆☆)\n",
    "#(hint: mean)\n",
    "x=np.random.random(30)\n",
    "v=np.mean(x)\n",
    "v"
   ]
  },
  {
   "cell_type": "code",
   "execution_count": 15,
   "id": "d03d16a7",
   "metadata": {},
   "outputs": [
    {
     "name": "stdout",
     "output_type": "stream",
     "text": [
      "[[1. 1. 1. 1. 1.]\n",
      " [1. 1. 1. 1. 1.]\n",
      " [1. 1. 1. 1. 1.]\n",
      " [1. 1. 1. 1. 1.]\n",
      " [1. 1. 1. 1. 1.]]\n",
      "[[1. 1. 1. 1. 1.]\n",
      " [1. 0. 0. 0. 1.]\n",
      " [1. 0. 0. 0. 1.]\n",
      " [1. 0. 0. 0. 1.]\n",
      " [1. 1. 1. 1. 1.]]\n"
     ]
    }
   ],
   "source": [
    "#15. Create a 2d array with 1 on the border and 0 inside.\n",
    "#(hint: array[1:-1, 1:-1])\n",
    "x = np.ones((5,5))\n",
    "print(x)\n",
    "x[1:-1,1:-1] = 0\n",
    "print(x)\n"
   ]
  },
  {
   "cell_type": "code",
   "execution_count": 16,
   "id": "75ded0de",
   "metadata": {},
   "outputs": [
    {
     "name": "stdout",
     "output_type": "stream",
     "text": [
      "[[0. 0. 0. 0. 0.]\n",
      " [0. 1. 1. 1. 0.]\n",
      " [0. 1. 1. 1. 0.]\n",
      " [0. 1. 1. 1. 0.]\n",
      " [0. 0. 0. 0. 0.]]\n"
     ]
    }
   ],
   "source": [
    "#16. How to add a border (filled with 0's) around an existing array? (★☆☆)\n",
    "#(hint: np.pad)\n",
    "x = np.ones((3,3))\n",
    "x = np.pad(x, pad_width=1, mode='constant', constant_values=0)\n",
    "print(x)"
   ]
  },
  {
   "cell_type": "code",
   "execution_count": 17,
   "id": "3acfcb03",
   "metadata": {},
   "outputs": [
    {
     "name": "stdout",
     "output_type": "stream",
     "text": [
      "nan\n",
      "False\n",
      "False\n",
      "nan\n",
      "True\n",
      "False\n"
     ]
    }
   ],
   "source": [
    "#17. What is the result of the following expression? (★☆☆)\n",
    "#(hint: NaN = not a number, inf = infinity)\n",
    "print(0 * np.nan)\n",
    "print(np.nan == np.nan)\n",
    "print(np.inf > np.nan)\n",
    "print(np.nan - np.nan)\n",
    "print(np.nan in set([np.nan]))\n",
    "print(0.3 == 3 * 0.1)"
   ]
  },
  {
   "cell_type": "code",
   "execution_count": 18,
   "id": "b3c34a73",
   "metadata": {},
   "outputs": [
    {
     "name": "stdout",
     "output_type": "stream",
     "text": [
      "[[0 0 0 0 0]\n",
      " [1 0 0 0 0]\n",
      " [0 2 0 0 0]\n",
      " [0 0 3 0 0]\n",
      " [0 0 0 4 0]]\n"
     ]
    }
   ],
   "source": [
    "#18. Create a 5x5 matrix with values 1,2,3,4 just below the diagonal.\n",
    "#(hint: np.diag)\n",
    "x = np.diag(1+np.arange(4),k=-1)\n",
    "print(x)"
   ]
  },
  {
   "cell_type": "code",
   "execution_count": 19,
   "id": "44eb98fc",
   "metadata": {},
   "outputs": [
    {
     "name": "stdout",
     "output_type": "stream",
     "text": [
      "[[0 1 0 1 0 1 0 1]\n",
      " [1 0 1 0 1 0 1 0]\n",
      " [0 1 0 1 0 1 0 1]\n",
      " [1 0 1 0 1 0 1 0]\n",
      " [0 1 0 1 0 1 0 1]\n",
      " [1 0 1 0 1 0 1 0]\n",
      " [0 1 0 1 0 1 0 1]\n",
      " [1 0 1 0 1 0 1 0]]\n"
     ]
    }
   ],
   "source": [
    "#19. Create a 8x8 matrix and fill it with a checkerboard pattern\n",
    "#(hint: array[::2])\n",
    "\n",
    "x = np.zeros((8,8),dtype=int)\n",
    "x[1::2,::2] = 1\n",
    "x[::2,1::2] = 1\n",
    "print(x)"
   ]
  },
  {
   "cell_type": "code",
   "execution_count": 20,
   "id": "b2491549",
   "metadata": {},
   "outputs": [
    {
     "name": "stdout",
     "output_type": "stream",
     "text": [
      "(1, 5, 4)\n"
     ]
    }
   ],
   "source": [
    "#20.Consider a (6,7,8) shape array, what is the index (x,y,z) of the 100th element?\n",
    "#(hint: np.unravel_index)\n",
    "print(np.unravel_index(100,(6,7,8)))"
   ]
  },
  {
   "cell_type": "code",
   "execution_count": 21,
   "id": "1445586a",
   "metadata": {},
   "outputs": [
    {
     "name": "stdout",
     "output_type": "stream",
     "text": [
      "[[0 1 0 1 0 1 0 1]\n",
      " [1 0 1 0 1 0 1 0]\n",
      " [0 1 0 1 0 1 0 1]\n",
      " [1 0 1 0 1 0 1 0]\n",
      " [0 1 0 1 0 1 0 1]\n",
      " [1 0 1 0 1 0 1 0]\n",
      " [0 1 0 1 0 1 0 1]\n",
      " [1 0 1 0 1 0 1 0]]\n"
     ]
    }
   ],
   "source": [
    "#21. Create a checkerboard 8x8 matrix using the tile function (★☆☆)\n",
    "#(hint: np.tile)\n",
    "arr = np.array([[0,1],[1,0]])\n",
    "repetitions = (4,4)\n",
    "arr2 = np.tile(arr, repetitions)\n",
    "print(arr2)"
   ]
  },
  {
   "cell_type": "code",
   "execution_count": 22,
   "id": "4eeb39cc",
   "metadata": {},
   "outputs": [
    {
     "name": "stdout",
     "output_type": "stream",
     "text": [
      "[[0.38701601 0.06266692 0.67996549 0.05684772 0.78031297]\n",
      " [0.97770807 0.56455116 0.79710673 0.05482892 0.42708773]\n",
      " [0.00826541 0.79121492 0.08023901 0.59443556 0.7784673 ]\n",
      " [0.96819736 0.         0.5205483  0.38068205 0.58884312]\n",
      " [1.         0.24237621 0.43461048 0.04486645 0.89038985]]\n"
     ]
    }
   ],
   "source": [
    "#22.Normalize a 5x5 random matrix \n",
    "#(hint: (x - min) / (max - min))\n",
    "x= np.random.random((5,5))\n",
    "xmax, xmin = x.max(), x.min()\n",
    "x = (x - xmin)/(xmax - xmin)\n",
    "print(x)"
   ]
  },
  {
   "cell_type": "code",
   "execution_count": 23,
   "id": "ccfb9957",
   "metadata": {},
   "outputs": [
    {
     "name": "stdout",
     "output_type": "stream",
     "text": [
      "[('r', 'u1'), ('g', 'u1'), ('b', 'u1'), ('a', 'u1')]\n"
     ]
    }
   ],
   "source": [
    "#23.Create a custom dtype that describes a color as four unsigned bytes (RGBA)\n",
    "#(hint: np.dtype)\n",
    "color = np.dtype([(\"r\", np.ubyte),\n",
    "                  (\"g\", np.ubyte),\n",
    "                  (\"b\", np.ubyte),\n",
    "                  (\"a\", np.ubyte)])\n",
    "print(color)"
   ]
  },
  {
   "cell_type": "code",
   "execution_count": 24,
   "id": "65be412c",
   "metadata": {},
   "outputs": [
    {
     "name": "stdout",
     "output_type": "stream",
     "text": [
      "[[3. 3.]\n",
      " [3. 3.]\n",
      " [3. 3.]\n",
      " [3. 3.]\n",
      " [3. 3.]]\n"
     ]
    }
   ],
   "source": [
    "#24. Multiply a 5x3 matrix by a 3x2 matrix (real matrix product)\n",
    "#(hint: np.dot | @)\n",
    "Z = np.ones((5,3)) @ np.ones((3,2))\n",
    "print(Z)"
   ]
  },
  {
   "cell_type": "code",
   "execution_count": 25,
   "id": "a5f67ba6",
   "metadata": {},
   "outputs": [
    {
     "name": "stdout",
     "output_type": "stream",
     "text": [
      "[ 0  1  2  3 -4 -5 -6 -7 -8  9 10]\n"
     ]
    }
   ],
   "source": [
    "#25.Given a 1D array, negate all elements which are between 3 and 8, in place.\n",
    "#(hint: >, <=)\n",
    "arr = np.arange(11)\n",
    "arr[(arr>3) & (arr<=8)] *= -1\n",
    "print(arr)"
   ]
  },
  {
   "cell_type": "code",
   "execution_count": 26,
   "id": "a6a64a28",
   "metadata": {},
   "outputs": [
    {
     "name": "stdout",
     "output_type": "stream",
     "text": [
      "9\n",
      "10\n"
     ]
    }
   ],
   "source": [
    "#26. What is the output of the following script? (★☆☆)\n",
    "#(hint: np.sum)\n",
    "print(sum(range(5),-1))\n",
    "from numpy import *\n",
    "print(sum(range(5),-1))\n",
    "\n"
   ]
  },
  {
   "cell_type": "code",
   "execution_count": 27,
   "id": "a507792e",
   "metadata": {},
   "outputs": [],
   "source": [
    "#27. Consider an integer vector Z, which of these expressions are legal?\n",
    "#Z**Z\n",
    "#2 << Z >> 2\n",
    "#Z <- Z\n",
    "#1j*Z\n",
    "#Z/1/1\n",
    "#Z<Z>Z"
   ]
  },
  {
   "cell_type": "code",
   "execution_count": 28,
   "id": "76a2d44a",
   "metadata": {},
   "outputs": [
    {
     "name": "stdout",
     "output_type": "stream",
     "text": [
      "nan\n",
      "0\n",
      "[-2.14748365e+09]\n"
     ]
    },
    {
     "name": "stderr",
     "output_type": "stream",
     "text": [
      "C:\\Users\\bharath.g\\AppData\\Local\\Temp\\ipykernel_12236\\2353117617.py:2: RuntimeWarning: invalid value encountered in true_divide\n",
      "  print(np.array(0) / np.array(0))\n",
      "C:\\Users\\bharath.g\\AppData\\Local\\Temp\\ipykernel_12236\\2353117617.py:3: RuntimeWarning: divide by zero encountered in floor_divide\n",
      "  print(np.array(0) // np.array(0))\n"
     ]
    }
   ],
   "source": [
    "#28.What are the result of the following expressions\n",
    "print(np.array(0) / np.array(0))\n",
    "print(np.array(0) // np.array(0))\n",
    "print(np.array([np.nan]).astype(int).astype(float))"
   ]
  },
  {
   "cell_type": "code",
   "execution_count": 29,
   "id": "96aa920a",
   "metadata": {},
   "outputs": [
    {
     "name": "stdout",
     "output_type": "stream",
     "text": [
      "[ -3.   4.  -4.   2.  -9.   8.   4.  -3.   9. -10.]\n"
     ]
    }
   ],
   "source": [
    "#29. How to round away from zero a float array ?\n",
    "#(hint: np.uniform, np.copysign, np.ceil, np.abs)\n",
    "Z = np.random.uniform(-10,+10,10)\n",
    "print(np.copysign(np.ceil(np.abs(Z)), Z))\n"
   ]
  },
  {
   "cell_type": "code",
   "execution_count": 30,
   "id": "eb25ab00",
   "metadata": {},
   "outputs": [
    {
     "name": "stdout",
     "output_type": "stream",
     "text": [
      "[1 3 4]\n"
     ]
    }
   ],
   "source": [
    "#30.How to find common values between two arrays?\n",
    "#(hint: np.intersect1d)\n",
    "ar1 = np.array([0, 1, 2, 3, 4])\n",
    "ar2 = [1, 3, 4]\n",
    "print(np.intersect1d(ar1, ar2))"
   ]
  },
  {
   "cell_type": "code",
   "execution_count": 31,
   "id": "510c0759",
   "metadata": {},
   "outputs": [
    {
     "name": "stderr",
     "output_type": "stream",
     "text": [
      "C:\\ProgramData\\Anaconda3\\lib\\site-packages\\numpy\\lib\\nanfunctions.py:1119: RuntimeWarning: All-NaN slice encountered\n",
      "  r, k = function_base._ureduce(a, func=_nanmedian, axis=axis, out=out,\n"
     ]
    },
    {
     "data": {
      "text/plain": [
       "array([nan, nan, nan, nan, nan, nan, nan, nan, nan, nan])"
      ]
     },
     "execution_count": 31,
     "metadata": {},
     "output_type": "execute_result"
    }
   ],
   "source": [
    "#31.How to ignore all numpy warnings (not recommended)?\n",
    "#(hint: np.seterr, np.errstate)\n",
    "\n",
    "data = np.random.random(1000).reshape(10, 10,10) * np.nan\n",
    "np.seterr(all=\"ignore\")\n",
    "np.nanmedian(data, axis=[1, 2])"
   ]
  },
  {
   "cell_type": "code",
   "execution_count": 32,
   "id": "3f08785d",
   "metadata": {},
   "outputs": [
    {
     "data": {
      "text/plain": [
       "False"
      ]
     },
     "execution_count": 32,
     "metadata": {},
     "output_type": "execute_result"
    }
   ],
   "source": [
    "#32. Is the following expressions true? \n",
    "#(hint: imaginary number)\n",
    "np.sqrt(-1) == np.emath.sqrt(-1)"
   ]
  },
  {
   "cell_type": "code",
   "execution_count": 33,
   "id": "10dd4dbe",
   "metadata": {},
   "outputs": [
    {
     "name": "stdout",
     "output_type": "stream",
     "text": [
      "2023-06-11\n",
      "2023-06-10\n",
      "2023-06-12\n"
     ]
    }
   ],
   "source": [
    "#33. How to get the dates of yesterday, today and tomorrow? \n",
    "#(hint: np.datetime64, np.timedelta64)\n",
    "today = np.datetime64('today', 'D')\n",
    "yesterday = np.datetime64('today', 'D') - np.timedelta64(1, 'D')\n",
    "tomorrow =np.datetime64('today', 'D') + np.timedelta64(1, 'D')\n",
    "\n",
    "print(today)\n",
    "print(yesterday)\n",
    "print(tomorrow)"
   ]
  },
  {
   "cell_type": "code",
   "execution_count": 34,
   "id": "4be28faf",
   "metadata": {},
   "outputs": [
    {
     "name": "stdout",
     "output_type": "stream",
     "text": [
      "['2016-07-01' '2016-07-02' '2016-07-03' '2016-07-04' '2016-07-05'\n",
      " '2016-07-06' '2016-07-07' '2016-07-08' '2016-07-09' '2016-07-10'\n",
      " '2016-07-11' '2016-07-12' '2016-07-13' '2016-07-14' '2016-07-15'\n",
      " '2016-07-16' '2016-07-17' '2016-07-18' '2016-07-19' '2016-07-20'\n",
      " '2016-07-21' '2016-07-22' '2016-07-23' '2016-07-24' '2016-07-25'\n",
      " '2016-07-26' '2016-07-27' '2016-07-28' '2016-07-29' '2016-07-30'\n",
      " '2016-07-31']\n"
     ]
    }
   ],
   "source": [
    "#34. How to get all the dates corresponding to the month of July 2016?\n",
    "#(hint: np.arange(dtype=datetime64['D']))\n",
    "Z = np.arange('2016-07', '2016-08', dtype='datetime64[D]')\n",
    "print(Z)"
   ]
  },
  {
   "cell_type": "code",
   "execution_count": 35,
   "id": "4d1fd490",
   "metadata": {},
   "outputs": [
    {
     "data": {
      "text/plain": [
       "array([-1.5, -1.5, -1.5])"
      ]
     },
     "execution_count": 35,
     "metadata": {},
     "output_type": "execute_result"
    }
   ],
   "source": [
    "#35. How to compute ((A+B)*(-A/2)) in place (without copy)?\n",
    "#(hint: np.add(out=), np.negative(out=), np.multiply(out=), np.divide(out=))\n",
    "A = np.ones(3)*1\n",
    "B = np.ones(3)*2\n",
    "C = np.ones(3)*3\n",
    "np.add(A,B,out=B)\n",
    "np.divide(A,2,out=A)\n",
    "np.negative(A,out=A)\n",
    "np.multiply(A,B,out=A)"
   ]
  },
  {
   "cell_type": "code",
   "execution_count": 36,
   "id": "ac8032f9",
   "metadata": {},
   "outputs": [
    {
     "name": "stdout",
     "output_type": "stream",
     "text": [
      "[1. 5. 3. 7. 0. 1. 9. 9. 2. 0.]\n",
      "[1. 5. 3. 7. 0. 1. 9. 9. 2. 0.]\n",
      "[1. 5. 3. 7. 0. 1. 9. 9. 2. 0.]\n",
      "[1 5 3 7 0 1 9 9 2 0]\n",
      "[1. 5. 3. 7. 0. 1. 9. 9. 2. 0.]\n"
     ]
    }
   ],
   "source": [
    "#36. Extract the integer part of a random array using 5 different methods\n",
    "#(hint: %, np.floor, np.ceil, astype, np.trunc)\n",
    "Z = np.random.uniform(0,10,10)\n",
    "\n",
    "print (Z-Z%1)\n",
    "print (np.floor(Z))\n",
    "print (np.ceil(Z)-1)\n",
    "print (Z.astype(int))\n",
    "print (np.trunc(Z))"
   ]
  },
  {
   "cell_type": "code",
   "execution_count": 37,
   "id": "76c0dcba",
   "metadata": {},
   "outputs": [
    {
     "name": "stdout",
     "output_type": "stream",
     "text": [
      "[[0. 1. 2. 3. 4.]\n",
      " [0. 1. 2. 3. 4.]\n",
      " [0. 1. 2. 3. 4.]\n",
      " [0. 1. 2. 3. 4.]\n",
      " [0. 1. 2. 3. 4.]]\n"
     ]
    }
   ],
   "source": [
    "#37.Create a 5x5 matrix with row values ranging from 0 to 4 \n",
    "#(hint: np.arange)\n",
    "Z = np.zeros((5,5))\n",
    "Z += np.arange(5)\n",
    "print(Z)\n"
   ]
  },
  {
   "cell_type": "code",
   "execution_count": 38,
   "id": "d69c7bda",
   "metadata": {},
   "outputs": [
    {
     "name": "stdout",
     "output_type": "stream",
     "text": [
      "[0. 1. 2. 3. 4. 5. 6. 7. 8. 9.]\n"
     ]
    }
   ],
   "source": [
    "#38.Consider a generator function that generates 10 integers and use it to build an array \n",
    "#(hint: np.fromiter)\n",
    "def generate():\n",
    "    for x in range(10):\n",
    "        yield x\n",
    "x = np.fromiter(generate(),dtype=float,count=-1)\n",
    "print(x)\n"
   ]
  },
  {
   "cell_type": "code",
   "execution_count": 39,
   "id": "96d8edb2",
   "metadata": {},
   "outputs": [
    {
     "name": "stdout",
     "output_type": "stream",
     "text": [
      "[0.09090909 0.18181818 0.27272727 0.36363636 0.45454545 0.54545455\n",
      " 0.63636364 0.72727273 0.81818182 0.90909091]\n"
     ]
    }
   ],
   "source": [
    "#39. Create a vector of size 10 with values ranging from 0 to 1, both excluded\n",
    "#(hint: np.linspace)\n",
    "l = np.linspace(0,1,11,endpoint=False)[1:]\n",
    "print(l)"
   ]
  },
  {
   "cell_type": "code",
   "execution_count": 40,
   "id": "9cf33aa7",
   "metadata": {},
   "outputs": [
    {
     "name": "stdout",
     "output_type": "stream",
     "text": [
      "[0.06314484 0.2768189  0.39495869 0.41059351 0.52296644 0.54993385\n",
      " 0.56476287 0.59382516 0.73134201 0.96619398]\n"
     ]
    }
   ],
   "source": [
    "#40.Create a random vector of size 10 and sort it \n",
    "#(hint: sort)\n",
    "Z = np.random.random(10)\n",
    "Z.sort()\n",
    "print(Z)"
   ]
  },
  {
   "cell_type": "code",
   "execution_count": 41,
   "id": "e68d2194",
   "metadata": {},
   "outputs": [
    {
     "data": {
      "text/plain": [
       "45"
      ]
     },
     "execution_count": 41,
     "metadata": {},
     "output_type": "execute_result"
    }
   ],
   "source": [
    "#41. How to sum a small array faster than np.sum?\n",
    "#(hint: np.add.reduce)\n",
    "Z = np.arange(10)\n",
    "np.add.reduce(Z)\n"
   ]
  },
  {
   "cell_type": "code",
   "execution_count": 42,
   "id": "847bfc2c",
   "metadata": {},
   "outputs": [
    {
     "name": "stdout",
     "output_type": "stream",
     "text": [
      "False\n",
      "False\n"
     ]
    }
   ],
   "source": [
    "#42. Consider two random array A and B, check if they are equal\n",
    "#(hint: np.allclose, np.array_equal)\n",
    "A = np.random.randint(0,4,3)\n",
    "B = np.random.randint(0,4,3)\n",
    "equal = np.allclose(A,B)\n",
    "print(equal)\n",
    "equal = np.array_equal(A,B)\n",
    "print(equal)\n"
   ]
  },
  {
   "cell_type": "code",
   "execution_count": 43,
   "id": "f40d227e",
   "metadata": {},
   "outputs": [
    {
     "ename": "ValueError",
     "evalue": "assignment destination is read-only",
     "output_type": "error",
     "traceback": [
      "\u001b[1;31m---------------------------------------------------------------------------\u001b[0m",
      "\u001b[1;31mValueError\u001b[0m                                Traceback (most recent call last)",
      "Input \u001b[1;32mIn [43]\u001b[0m, in \u001b[0;36m<cell line: 6>\u001b[1;34m()\u001b[0m\n\u001b[0;32m      4\u001b[0m Z \u001b[38;5;241m=\u001b[39m np\u001b[38;5;241m.\u001b[39mzeros(\u001b[38;5;241m10\u001b[39m)\n\u001b[0;32m      5\u001b[0m Z\u001b[38;5;241m.\u001b[39mflags\u001b[38;5;241m.\u001b[39mwriteable \u001b[38;5;241m=\u001b[39m \u001b[38;5;28;01mFalse\u001b[39;00m\n\u001b[1;32m----> 6\u001b[0m Z[\u001b[38;5;241m0\u001b[39m] \u001b[38;5;241m=\u001b[39m \u001b[38;5;241m1\u001b[39m\n",
      "\u001b[1;31mValueError\u001b[0m: assignment destination is read-only"
     ]
    }
   ],
   "source": [
    "#43. Make an array immutable (read-only)\n",
    "#(hint: flags.writeable)\n",
    "\n",
    "Z = np.zeros(10)\n",
    "Z.flags.writeable = False\n",
    "Z[0] = 1"
   ]
  },
  {
   "cell_type": "code",
   "execution_count": 44,
   "id": "47b35787",
   "metadata": {},
   "outputs": [
    {
     "name": "stdout",
     "output_type": "stream",
     "text": [
      "[1.16250319 1.15714293 0.93020143 0.86944406 0.98661294 1.08824332\n",
      " 0.91038751 0.4602655  0.90538743 0.60482834]\n",
      "[0.9260711  0.7769983  0.46916331 0.03008741 0.75952917 0.69563138\n",
      " 0.15116879 0.94135348 1.42556338 0.56781443]\n"
     ]
    }
   ],
   "source": [
    "#44.Consider a random 10x2 matrix representing cartesian coordinates, convert them to polar coordinates \n",
    "Z = np.random.random((10,2))\n",
    "X,Y = Z[:,0], Z[:,1]\n",
    "R = np.sqrt(X**2+Y**2)\n",
    "T = np.arctan2(Y,X)\n",
    "print(R)\n",
    "print(T)"
   ]
  },
  {
   "cell_type": "code",
   "execution_count": 45,
   "id": "077311a8",
   "metadata": {},
   "outputs": [
    {
     "name": "stdout",
     "output_type": "stream",
     "text": [
      "[0.13468928 0.25367466 0.17081686 0.75748389 0.51520728 0.\n",
      " 0.01187694 0.63204794 0.14225243 0.17311676]\n"
     ]
    }
   ],
   "source": [
    "#45.Create random vector of size 10 and replace the maximum value by 0\n",
    "#(hint: argmax)\n",
    "Z = np.random.random(10)\n",
    "Z[Z.argmax()] = 0\n",
    "print(Z)"
   ]
  },
  {
   "cell_type": "code",
   "execution_count": 46,
   "id": "6ee1ea9d",
   "metadata": {},
   "outputs": [
    {
     "name": "stdout",
     "output_type": "stream",
     "text": [
      "[[(0.  , 0.  ) (0.25, 0.  ) (0.5 , 0.  ) (0.75, 0.  ) (1.  , 0.  )]\n",
      " [(0.  , 0.25) (0.25, 0.25) (0.5 , 0.25) (0.75, 0.25) (1.  , 0.25)]\n",
      " [(0.  , 0.5 ) (0.25, 0.5 ) (0.5 , 0.5 ) (0.75, 0.5 ) (1.  , 0.5 )]\n",
      " [(0.  , 0.75) (0.25, 0.75) (0.5 , 0.75) (0.75, 0.75) (1.  , 0.75)]\n",
      " [(0.  , 1.  ) (0.25, 1.  ) (0.5 , 1.  ) (0.75, 1.  ) (1.  , 1.  )]]\n"
     ]
    }
   ],
   "source": [
    "#46. Create a structured array with x and y coordinates covering the [0,1]x[0,1] area\n",
    "#(hint: np.meshgrid)\n",
    "Z = np.zeros((5,5), [('x',float),('y',float)])\n",
    "Z['x'], Z['y'] = np.meshgrid(np.linspace(0,1,5),\n",
    "                             np.linspace(0,1,5))\n",
    "print(Z)"
   ]
  },
  {
   "cell_type": "code",
   "execution_count": 47,
   "id": "92c8cb5d",
   "metadata": {},
   "outputs": [
    {
     "name": "stdout",
     "output_type": "stream",
     "text": [
      "3638.1636371179666\n"
     ]
    }
   ],
   "source": [
    "#47.Given two arrays, X and Y, construct the Cauchy matrix C (Cij =1/(xi - yj))\n",
    "#(hint: np.subtract.outer)\n",
    "X = np.arange(8)\n",
    "Y = X + 0.5\n",
    "C = 1.0 / np.subtract.outer(X, Y)\n",
    "print(np.linalg.det(C))"
   ]
  },
  {
   "cell_type": "code",
   "execution_count": 48,
   "id": "9f1b80f8",
   "metadata": {},
   "outputs": [
    {
     "name": "stdout",
     "output_type": "stream",
     "text": [
      "-128\n",
      "127\n",
      "-2147483648\n",
      "2147483647\n",
      "-9223372036854775808\n",
      "9223372036854775807\n",
      "-3.4028235e+38\n",
      "3.4028235e+38\n",
      "1.1920929e-07\n",
      "-1.7976931348623157e+308\n",
      "1.7976931348623157e+308\n",
      "2.220446049250313e-16\n"
     ]
    }
   ],
   "source": [
    "#48.Print the minimum and maximum representable value for each numpy scalar type \n",
    "#(hint: np.iinfo, np.finfo, eps)\n",
    "for dtype in [np.int8, np.int32, np.int64]:\n",
    "   print(np.iinfo(dtype).min)\n",
    "   print(np.iinfo(dtype).max)\n",
    "for dtype in [np.float32, np.float64]:\n",
    "   print(np.finfo(dtype).min)\n",
    "   print(np.finfo(dtype).max)\n",
    "   print(np.finfo(dtype).eps)"
   ]
  },
  {
   "cell_type": "code",
   "execution_count": 49,
   "id": "25279158",
   "metadata": {},
   "outputs": [
    {
     "name": "stdout",
     "output_type": "stream",
     "text": [
      "[[0. 0. 0. 0. 0. 0. 0. 0. 0. 0. 0. 0. 0. 0. 0. 0. 0. 0. 0. 0. 0. 0. 0. 0.\n",
      "  0. 0. 0. 0. 0. 0. 0. 0. 0. 0. 0. 0. 0. 0. 0. 0.]\n",
      " [0. 0. 0. 0. 0. 0. 0. 0. 0. 0. 0. 0. 0. 0. 0. 0. 0. 0. 0. 0. 0. 0. 0. 0.\n",
      "  0. 0. 0. 0. 0. 0. 0. 0. 0. 0. 0. 0. 0. 0. 0. 0.]\n",
      " [0. 0. 0. 0. 0. 0. 0. 0. 0. 0. 0. 0. 0. 0. 0. 0. 0. 0. 0. 0. 0. 0. 0. 0.\n",
      "  0. 0. 0. 0. 0. 0. 0. 0. 0. 0. 0. 0. 0. 0. 0. 0.]\n",
      " [0. 0. 0. 0. 0. 0. 0. 0. 0. 0. 0. 0. 0. 0. 0. 0. 0. 0. 0. 0. 0. 0. 0. 0.\n",
      "  0. 0. 0. 0. 0. 0. 0. 0. 0. 0. 0. 0. 0. 0. 0. 0.]\n",
      " [0. 0. 0. 0. 0. 0. 0. 0. 0. 0. 0. 0. 0. 0. 0. 0. 0. 0. 0. 0. 0. 0. 0. 0.\n",
      "  0. 0. 0. 0. 0. 0. 0. 0. 0. 0. 0. 0. 0. 0. 0. 0.]\n",
      " [0. 0. 0. 0. 0. 0. 0. 0. 0. 0. 0. 0. 0. 0. 0. 0. 0. 0. 0. 0. 0. 0. 0. 0.\n",
      "  0. 0. 0. 0. 0. 0. 0. 0. 0. 0. 0. 0. 0. 0. 0. 0.]\n",
      " [0. 0. 0. 0. 0. 0. 0. 0. 0. 0. 0. 0. 0. 0. 0. 0. 0. 0. 0. 0. 0. 0. 0. 0.\n",
      "  0. 0. 0. 0. 0. 0. 0. 0. 0. 0. 0. 0. 0. 0. 0. 0.]\n",
      " [0. 0. 0. 0. 0. 0. 0. 0. 0. 0. 0. 0. 0. 0. 0. 0. 0. 0. 0. 0. 0. 0. 0. 0.\n",
      "  0. 0. 0. 0. 0. 0. 0. 0. 0. 0. 0. 0. 0. 0. 0. 0.]\n",
      " [0. 0. 0. 0. 0. 0. 0. 0. 0. 0. 0. 0. 0. 0. 0. 0. 0. 0. 0. 0. 0. 0. 0. 0.\n",
      "  0. 0. 0. 0. 0. 0. 0. 0. 0. 0. 0. 0. 0. 0. 0. 0.]\n",
      " [0. 0. 0. 0. 0. 0. 0. 0. 0. 0. 0. 0. 0. 0. 0. 0. 0. 0. 0. 0. 0. 0. 0. 0.\n",
      "  0. 0. 0. 0. 0. 0. 0. 0. 0. 0. 0. 0. 0. 0. 0. 0.]\n",
      " [0. 0. 0. 0. 0. 0. 0. 0. 0. 0. 0. 0. 0. 0. 0. 0. 0. 0. 0. 0. 0. 0. 0. 0.\n",
      "  0. 0. 0. 0. 0. 0. 0. 0. 0. 0. 0. 0. 0. 0. 0. 0.]\n",
      " [0. 0. 0. 0. 0. 0. 0. 0. 0. 0. 0. 0. 0. 0. 0. 0. 0. 0. 0. 0. 0. 0. 0. 0.\n",
      "  0. 0. 0. 0. 0. 0. 0. 0. 0. 0. 0. 0. 0. 0. 0. 0.]\n",
      " [0. 0. 0. 0. 0. 0. 0. 0. 0. 0. 0. 0. 0. 0. 0. 0. 0. 0. 0. 0. 0. 0. 0. 0.\n",
      "  0. 0. 0. 0. 0. 0. 0. 0. 0. 0. 0. 0. 0. 0. 0. 0.]\n",
      " [0. 0. 0. 0. 0. 0. 0. 0. 0. 0. 0. 0. 0. 0. 0. 0. 0. 0. 0. 0. 0. 0. 0. 0.\n",
      "  0. 0. 0. 0. 0. 0. 0. 0. 0. 0. 0. 0. 0. 0. 0. 0.]\n",
      " [0. 0. 0. 0. 0. 0. 0. 0. 0. 0. 0. 0. 0. 0. 0. 0. 0. 0. 0. 0. 0. 0. 0. 0.\n",
      "  0. 0. 0. 0. 0. 0. 0. 0. 0. 0. 0. 0. 0. 0. 0. 0.]\n",
      " [0. 0. 0. 0. 0. 0. 0. 0. 0. 0. 0. 0. 0. 0. 0. 0. 0. 0. 0. 0. 0. 0. 0. 0.\n",
      "  0. 0. 0. 0. 0. 0. 0. 0. 0. 0. 0. 0. 0. 0. 0. 0.]\n",
      " [0. 0. 0. 0. 0. 0. 0. 0. 0. 0. 0. 0. 0. 0. 0. 0. 0. 0. 0. 0. 0. 0. 0. 0.\n",
      "  0. 0. 0. 0. 0. 0. 0. 0. 0. 0. 0. 0. 0. 0. 0. 0.]\n",
      " [0. 0. 0. 0. 0. 0. 0. 0. 0. 0. 0. 0. 0. 0. 0. 0. 0. 0. 0. 0. 0. 0. 0. 0.\n",
      "  0. 0. 0. 0. 0. 0. 0. 0. 0. 0. 0. 0. 0. 0. 0. 0.]\n",
      " [0. 0. 0. 0. 0. 0. 0. 0. 0. 0. 0. 0. 0. 0. 0. 0. 0. 0. 0. 0. 0. 0. 0. 0.\n",
      "  0. 0. 0. 0. 0. 0. 0. 0. 0. 0. 0. 0. 0. 0. 0. 0.]\n",
      " [0. 0. 0. 0. 0. 0. 0. 0. 0. 0. 0. 0. 0. 0. 0. 0. 0. 0. 0. 0. 0. 0. 0. 0.\n",
      "  0. 0. 0. 0. 0. 0. 0. 0. 0. 0. 0. 0. 0. 0. 0. 0.]\n",
      " [0. 0. 0. 0. 0. 0. 0. 0. 0. 0. 0. 0. 0. 0. 0. 0. 0. 0. 0. 0. 0. 0. 0. 0.\n",
      "  0. 0. 0. 0. 0. 0. 0. 0. 0. 0. 0. 0. 0. 0. 0. 0.]\n",
      " [0. 0. 0. 0. 0. 0. 0. 0. 0. 0. 0. 0. 0. 0. 0. 0. 0. 0. 0. 0. 0. 0. 0. 0.\n",
      "  0. 0. 0. 0. 0. 0. 0. 0. 0. 0. 0. 0. 0. 0. 0. 0.]\n",
      " [0. 0. 0. 0. 0. 0. 0. 0. 0. 0. 0. 0. 0. 0. 0. 0. 0. 0. 0. 0. 0. 0. 0. 0.\n",
      "  0. 0. 0. 0. 0. 0. 0. 0. 0. 0. 0. 0. 0. 0. 0. 0.]\n",
      " [0. 0. 0. 0. 0. 0. 0. 0. 0. 0. 0. 0. 0. 0. 0. 0. 0. 0. 0. 0. 0. 0. 0. 0.\n",
      "  0. 0. 0. 0. 0. 0. 0. 0. 0. 0. 0. 0. 0. 0. 0. 0.]\n",
      " [0. 0. 0. 0. 0. 0. 0. 0. 0. 0. 0. 0. 0. 0. 0. 0. 0. 0. 0. 0. 0. 0. 0. 0.\n",
      "  0. 0. 0. 0. 0. 0. 0. 0. 0. 0. 0. 0. 0. 0. 0. 0.]\n",
      " [0. 0. 0. 0. 0. 0. 0. 0. 0. 0. 0. 0. 0. 0. 0. 0. 0. 0. 0. 0. 0. 0. 0. 0.\n",
      "  0. 0. 0. 0. 0. 0. 0. 0. 0. 0. 0. 0. 0. 0. 0. 0.]\n",
      " [0. 0. 0. 0. 0. 0. 0. 0. 0. 0. 0. 0. 0. 0. 0. 0. 0. 0. 0. 0. 0. 0. 0. 0.\n",
      "  0. 0. 0. 0. 0. 0. 0. 0. 0. 0. 0. 0. 0. 0. 0. 0.]\n",
      " [0. 0. 0. 0. 0. 0. 0. 0. 0. 0. 0. 0. 0. 0. 0. 0. 0. 0. 0. 0. 0. 0. 0. 0.\n",
      "  0. 0. 0. 0. 0. 0. 0. 0. 0. 0. 0. 0. 0. 0. 0. 0.]\n",
      " [0. 0. 0. 0. 0. 0. 0. 0. 0. 0. 0. 0. 0. 0. 0. 0. 0. 0. 0. 0. 0. 0. 0. 0.\n",
      "  0. 0. 0. 0. 0. 0. 0. 0. 0. 0. 0. 0. 0. 0. 0. 0.]\n",
      " [0. 0. 0. 0. 0. 0. 0. 0. 0. 0. 0. 0. 0. 0. 0. 0. 0. 0. 0. 0. 0. 0. 0. 0.\n",
      "  0. 0. 0. 0. 0. 0. 0. 0. 0. 0. 0. 0. 0. 0. 0. 0.]\n",
      " [0. 0. 0. 0. 0. 0. 0. 0. 0. 0. 0. 0. 0. 0. 0. 0. 0. 0. 0. 0. 0. 0. 0. 0.\n",
      "  0. 0. 0. 0. 0. 0. 0. 0. 0. 0. 0. 0. 0. 0. 0. 0.]\n",
      " [0. 0. 0. 0. 0. 0. 0. 0. 0. 0. 0. 0. 0. 0. 0. 0. 0. 0. 0. 0. 0. 0. 0. 0.\n",
      "  0. 0. 0. 0. 0. 0. 0. 0. 0. 0. 0. 0. 0. 0. 0. 0.]\n",
      " [0. 0. 0. 0. 0. 0. 0. 0. 0. 0. 0. 0. 0. 0. 0. 0. 0. 0. 0. 0. 0. 0. 0. 0.\n",
      "  0. 0. 0. 0. 0. 0. 0. 0. 0. 0. 0. 0. 0. 0. 0. 0.]\n",
      " [0. 0. 0. 0. 0. 0. 0. 0. 0. 0. 0. 0. 0. 0. 0. 0. 0. 0. 0. 0. 0. 0. 0. 0.\n",
      "  0. 0. 0. 0. 0. 0. 0. 0. 0. 0. 0. 0. 0. 0. 0. 0.]\n",
      " [0. 0. 0. 0. 0. 0. 0. 0. 0. 0. 0. 0. 0. 0. 0. 0. 0. 0. 0. 0. 0. 0. 0. 0.\n",
      "  0. 0. 0. 0. 0. 0. 0. 0. 0. 0. 0. 0. 0. 0. 0. 0.]\n",
      " [0. 0. 0. 0. 0. 0. 0. 0. 0. 0. 0. 0. 0. 0. 0. 0. 0. 0. 0. 0. 0. 0. 0. 0.\n",
      "  0. 0. 0. 0. 0. 0. 0. 0. 0. 0. 0. 0. 0. 0. 0. 0.]\n",
      " [0. 0. 0. 0. 0. 0. 0. 0. 0. 0. 0. 0. 0. 0. 0. 0. 0. 0. 0. 0. 0. 0. 0. 0.\n",
      "  0. 0. 0. 0. 0. 0. 0. 0. 0. 0. 0. 0. 0. 0. 0. 0.]\n",
      " [0. 0. 0. 0. 0. 0. 0. 0. 0. 0. 0. 0. 0. 0. 0. 0. 0. 0. 0. 0. 0. 0. 0. 0.\n",
      "  0. 0. 0. 0. 0. 0. 0. 0. 0. 0. 0. 0. 0. 0. 0. 0.]\n",
      " [0. 0. 0. 0. 0. 0. 0. 0. 0. 0. 0. 0. 0. 0. 0. 0. 0. 0. 0. 0. 0. 0. 0. 0.\n",
      "  0. 0. 0. 0. 0. 0. 0. 0. 0. 0. 0. 0. 0. 0. 0. 0.]\n",
      " [0. 0. 0. 0. 0. 0. 0. 0. 0. 0. 0. 0. 0. 0. 0. 0. 0. 0. 0. 0. 0. 0. 0. 0.\n",
      "  0. 0. 0. 0. 0. 0. 0. 0. 0. 0. 0. 0. 0. 0. 0. 0.]]\n"
     ]
    }
   ],
   "source": [
    "#49. How to print all the values of an array? \n",
    "#(hint: np.set_printoptions)\n",
    "np.set_printoptions(threshold=float(\"inf\"))\n",
    "Z = np.zeros((40,40))\n",
    "print(Z)"
   ]
  },
  {
   "cell_type": "code",
   "execution_count": 50,
   "id": "e8e644e5",
   "metadata": {},
   "outputs": [
    {
     "name": "stdout",
     "output_type": "stream",
     "text": [
      "43\n"
     ]
    }
   ],
   "source": [
    "#50.How to find the closest value (to a given scalar) in a vector?\n",
    "#(hint: argmin)\n",
    "Z = np.arange(100)\n",
    "v = np.random.uniform(0,100)\n",
    "index = (np.abs(Z-v)).argmin()\n",
    "print(Z[index]) "
   ]
  },
  {
   "cell_type": "code",
   "execution_count": 51,
   "id": "904eaa5d",
   "metadata": {},
   "outputs": [
    {
     "name": "stderr",
     "output_type": "stream",
     "text": [
      "C:\\Users\\bharath.g\\AppData\\Local\\Temp\\ipykernel_12236\\3856014852.py:3: FutureWarning: Passing (type, 1) or '1type' as a synonym of type is deprecated; in a future version of numpy, it will be understood as (type, (1,)) / '(1,)type'.\n",
      "  Z = np.zeros(10, [ ('position', [ ('x', float, 1),\n"
     ]
    },
    {
     "data": {
      "text/plain": [
       "array([((0., 0.), (0., 0., 0.)), ((0., 0.), (0., 0., 0.)),\n",
       "       ((0., 0.), (0., 0., 0.)), ((0., 0.), (0., 0., 0.)),\n",
       "       ((0., 0.), (0., 0., 0.)), ((0., 0.), (0., 0., 0.)),\n",
       "       ((0., 0.), (0., 0., 0.)), ((0., 0.), (0., 0., 0.)),\n",
       "       ((0., 0.), (0., 0., 0.)), ((0., 0.), (0., 0., 0.))],\n",
       "      dtype=[('position', [('x', '<f8'), ('y', '<f8')]), ('color', [('r', '<f8'), ('g', '<f8'), ('b', '<f8')])])"
      ]
     },
     "execution_count": 51,
     "metadata": {},
     "output_type": "execute_result"
    }
   ],
   "source": [
    "#51. Create a structured array representing a position (x,y) and a color (r,g,b)\n",
    "#(hint: dtype)\n",
    "Z = np.zeros(10, [ ('position', [ ('x', float, 1),\n",
    "                                  ('y', float, 1)]),\n",
    "                   ('color',    [ ('r', float, 1),\n",
    "                                  ('g', float, 1),\n",
    "                                  ('b', float, 1)])])\n",
    "Z"
   ]
  },
  {
   "cell_type": "code",
   "execution_count": 52,
   "id": "c72eecd9",
   "metadata": {},
   "outputs": [
    {
     "name": "stdout",
     "output_type": "stream",
     "text": [
      "[[0.         0.55659602 0.1049504  0.48332948 0.87921704 0.72636696\n",
      "  0.62933419 0.64818647 0.18846699 0.51846307 0.78068574 0.27046822\n",
      "  0.7543328  0.1898472  0.34843241 0.56866997 0.50028422 0.06608813\n",
      "  0.40516364 0.34968972 1.04077884 0.24172183 0.40990707 0.5756378\n",
      "  0.30792543 0.84641253 0.16831565 0.16309342 0.06987784 0.09400776\n",
      "  0.75129388 0.98420889 0.95604282 0.76992561 0.16846514 0.65014186\n",
      "  0.37233696 0.39919624 0.1070311  0.59461123 0.70509669 0.70902837\n",
      "  0.523731   0.40119893 0.62118119 0.79264926 0.43148199 0.15714658\n",
      "  0.74157393 0.76883626 0.33961997 0.43044433 0.30892933 0.74596312\n",
      "  0.53956947 0.3825502  0.58391178 0.38134121 0.40499112 0.65065885\n",
      "  0.63455646 0.12787306 0.62244327 0.46531917 0.79008318 0.54057028\n",
      "  0.08864788 0.6475923  0.52605071 0.2422148  0.62488528 0.10991568\n",
      "  0.16159407 0.28033498 0.07681865 0.79997081 0.72398773 0.45491251\n",
      "  0.2821753  0.48645782 0.40759428 0.52533359 0.72970963 0.08733865\n",
      "  0.70449431 0.70034257 0.49941004 0.87079609 0.55857772 0.52471397\n",
      "  0.1623806  0.14945234 0.2002559  0.18775949 0.31778046 0.72035045\n",
      "  0.66915873 0.71439234 0.49237042 0.45938162]\n",
      " [0.55659602 0.         0.45185411 0.46592751 0.32906685 0.17111212\n",
      "  0.3604499  0.44782014 0.40714085 0.46556331 0.23852875 0.41538651\n",
      "  0.53859808 0.72399858 0.57459871 0.39236869 0.56698049 0.58222579\n",
      "  0.5240942  0.2285244  0.48655524 0.34703905 0.44948826 0.06007739\n",
      "  0.24879811 0.3006634  0.72456852 0.59653009 0.57903477 0.56498264\n",
      "  0.37247142 0.42902832 0.40339971 0.66189272 0.49311653 0.19314717\n",
      "  0.23219327 0.26655876 0.47378287 0.36117617 0.42133125 0.58000346\n",
      "  0.54118679 0.54446213 0.50066525 0.33309793 0.55181956 0.56446402\n",
      "  0.18535173 0.52842995 0.24927793 0.61543103 0.2483783  0.19978882\n",
      "  0.19973855 0.59590351 0.12557642 0.40856642 0.15227022 0.5507469\n",
      "  0.2353747  0.43913965 0.4831526  0.6128788  0.67944732 0.48143639\n",
      "  0.61490936 0.19987846 0.30275249 0.46726472 0.17926035 0.6309497\n",
      "  0.40708401 0.83671457 0.61108851 0.24976879 0.38826171 0.10241811\n",
      "  0.36842336 0.40608549 0.60966408 0.58053411 0.17694151 0.57334992\n",
      "  0.17336546 0.61115898 0.51320747 0.32764368 0.54358381 0.12441677\n",
      "  0.71149744 0.40720817 0.73862134 0.42634965 0.25775122 0.46679263\n",
      "  0.64041043 0.43972121 0.245407   0.56728859]\n",
      " [0.1049504  0.45185411 0.         0.43332451 0.77559441 0.62191753\n",
      "  0.54257243 0.58029827 0.11787262 0.45484703 0.67600954 0.20555502\n",
      "  0.68964552 0.28180588 0.33074209 0.49860814 0.47091865 0.14420804\n",
      "  0.37681197 0.25039661 0.93583073 0.14721896 0.36195611 0.47227342\n",
      "  0.2034345  0.74167675 0.27272277 0.19835188 0.14345114 0.14518673\n",
      "  0.65782547 0.87989113 0.85214924 0.72392615 0.14063258 0.55225336\n",
      "  0.27206504 0.30547414 0.05921535 0.51812775 0.62825191 0.6460398\n",
      "  0.48568852 0.37889272 0.55447533 0.69304178 0.40726044 0.18597266\n",
      "  0.6369681  0.70099089 0.23851469 0.41161013 0.2039894  0.64248783\n",
      "  0.44072261 0.3778431  0.48364959 0.31436969 0.30009176 0.58924867\n",
      "  0.5410714  0.04166872 0.55283696 0.45218462 0.74448577 0.48847754\n",
      "  0.17632039 0.55036669 0.44489785 0.19754176 0.52705495 0.1961343\n",
      "  0.07557083 0.38528256 0.16869679 0.6962177  0.63401924 0.35041054\n",
      "  0.20223141 0.41438797 0.39089294 0.49580817 0.62555775 0.14766182\n",
      "  0.60203062 0.65432234 0.4580091  0.76619674 0.50589196 0.42483452\n",
      "  0.26467444 0.04566866 0.29848632 0.11888568 0.21519091 0.6398215\n",
      "  0.6327972  0.63097933 0.39778943 0.43545705]\n",
      " [0.48332948 0.46592751 0.43332451 0.         0.65638377 0.56288187\n",
      "  0.77571549 0.19087649 0.3156572  0.78884113 0.68055128 0.58705925\n",
      "  0.2813527  0.66473108 0.74856516 0.13795371 0.10390678 0.45081139\n",
      "  0.11600235 0.31158726 0.87078702 0.48369567 0.07343191 0.42978435\n",
      "  0.37865163 0.72999115 0.60809082 0.62855292 0.44446585 0.41290823\n",
      "  0.82797805 0.76832155 0.72944502 0.29060778 0.56883772 0.38883689\n",
      "  0.50219916 0.56535772 0.49200269 0.18826047 0.27479566 0.95927467\n",
      "  0.07625651 0.1373539  0.8663372  0.79902075 0.12167339 0.36008456\n",
      "  0.58172905 0.30194433 0.48032423 0.82374652 0.398583   0.54614127\n",
      "  0.61429655 0.20276454 0.37975117 0.66507877 0.41184532 0.912739\n",
      "  0.33343135 0.46283615 0.85568548 0.16910752 0.31118005 0.05751941\n",
      "  0.46846096 0.37959053 0.18314374 0.60649924 0.37224527 0.46876624\n",
      "  0.36037602 0.68262689 0.47576772 0.59541959 0.83252942 0.40671939\n",
      "  0.55453978 0.73118454 0.80605747 0.11472959 0.55387603 0.42487277\n",
      "  0.49314602 0.22106032 0.04728603 0.75829579 0.85976341 0.34602789\n",
      "  0.55429324 0.40677396 0.55045442 0.52245438 0.45735661 0.88855971\n",
      "  0.20848563 0.86705004 0.61943075 0.12078704]\n",
      " [0.87921704 0.32906685 0.77559441 0.65638377 0.         0.15996743\n",
      "  0.56703883 0.53742027 0.71432757 0.73376862 0.20452084 0.73940665\n",
      "  0.57316646 1.05172948 0.8889616  0.531206   0.75791341 0.89794423\n",
      "  0.75139013 0.53423261 0.21966714 0.6760526  0.67389403 0.30363291\n",
      "  0.57256769 0.18322617 1.04750499 0.92552841 0.89405758 0.87604559\n",
      "  0.48869396 0.11324641 0.07811849 0.72797074 0.82194548 0.26994017\n",
      "  0.55651933 0.57886933 0.80150428 0.48061895 0.46001469 0.78671082\n",
      "  0.71794635 0.77439609 0.73235789 0.38114618 0.77048274 0.86445383\n",
      "  0.15016648 0.54803184 0.57694153 0.91831207 0.57479748 0.13334822\n",
      "  0.461611   0.83663765 0.30810544 0.71453045 0.47983159 0.77816611\n",
      "  0.32297739 0.76615914 0.71149841 0.82465943 0.73878737 0.64308827\n",
      "  0.92982089 0.27830965 0.47499798 0.79265372 0.29036452 0.9439218\n",
      "  0.72313856 1.15744458 0.92763129 0.07956659 0.53393859 0.42649971\n",
      "  0.69333586 0.68245597 0.91638259 0.76182001 0.15214775 0.88561347\n",
      "  0.17943124 0.70489969 0.69880375 0.19768942 0.80569888 0.3653707\n",
      "  1.02855044 0.73017531 1.05130955 0.7553403  0.58672236 0.63810004\n",
      "  0.76025285 0.60750909 0.52622903 0.77599409]\n",
      " [0.72636696 0.17111212 0.62191753 0.56288187 0.15996743 0.\n",
      "  0.43587903 0.48554523 0.56936554 0.58667157 0.13047175 0.5794682\n",
      "  0.54998816 0.89511041 0.73052082 0.45584475 0.66677656 0.74920631\n",
      "  0.64350104 0.38822269 0.3254493  0.5171566  0.56567056 0.15684353\n",
      "  0.41849687 0.16814363 0.89457735 0.76648324 0.74569943 0.72979211\n",
      "  0.38757451 0.25809156 0.2325336  0.69496326 0.66268911 0.18642889\n",
      "  0.39655468 0.41999197 0.64488726 0.41094659 0.4280527  0.6610324\n",
      "  0.63239387 0.66570604 0.5969052  0.30094318 0.66687723 0.72384735\n",
      "  0.01891022 0.53110829 0.41729051 0.76260463 0.4191084  0.05186238\n",
      "  0.31049163 0.72388778 0.18512455 0.55739314 0.32321996 0.64492094\n",
      "  0.24880323 0.61014868 0.57681039 0.72514124 0.70934459 0.56224655\n",
      "  0.78159867 0.19690726 0.38098916 0.63268631 0.19531644 0.79680517\n",
      "  0.57374645 1.00602512 0.77848346 0.08307766 0.42359056 0.27150702\n",
      "  0.53336865 0.53243242 0.75970917 0.67521561 0.01765853 0.73874357\n",
      "  0.08228373 0.65790741 0.60870707 0.19619338 0.66122931 0.23300361\n",
      "  0.87925904 0.57692142 0.9045546  0.59634479 0.42781169 0.52215569\n",
      "  0.70235514 0.49185209 0.37272987 0.67705297]\n",
      " [0.62933419 0.3604499  0.54257243 0.77571549 0.56703883 0.43587903\n",
      "  0.         0.79983188 0.57839164 0.19764563 0.36701077 0.36741859\n",
      "  0.89626701 0.72447611 0.42716949 0.73501686 0.86514854 0.68416636\n",
      "  0.79715066 0.46907263 0.59789287 0.3957638  0.73604521 0.41984659\n",
      "  0.42018872 0.41473166 0.76766576 0.56968123 0.68438304 0.68760051\n",
      "  0.14334631 0.6169449  0.61370665 1.01034171 0.48170414 0.5496686\n",
      "  0.29354475 0.24136311 0.52232166 0.71204098 0.78102834 0.22576273\n",
      "  0.85135744 0.81221129 0.16601252 0.24018896 0.82936017 0.71982656\n",
      "  0.43417974 0.88768745 0.32553345 0.41710693 0.40265981 0.48700873\n",
      "  0.16616257 0.84545717 0.48602624 0.27002577 0.36402311 0.2111396\n",
      "  0.59574018 0.50632395 0.14488017 0.88968238 1.02897602 0.80592694\n",
      "  0.7143705  0.55751705 0.64369792 0.413519   0.53859185 0.73526107\n",
      "  0.54906178 0.87980967 0.70444023 0.50929101 0.09974014 0.374645\n",
      "  0.34731841 0.17512491 0.42546634 0.88403562 0.4524835  0.69018852\n",
      "  0.49370011 0.95386474 0.82067155 0.42218087 0.25299601 0.47438555\n",
      "  0.78736675 0.51622829 0.82873766 0.44220205 0.35328085 0.11285129\n",
      "  0.97213418 0.09331607 0.16017152 0.85167603]\n",
      " [0.64818647 0.44782014 0.58029827 0.19087649 0.53742027 0.48554523\n",
      "  0.79983188 0.         0.46516672 0.85764543 0.6147178  0.69565417\n",
      "  0.11107532 0.83564089 0.86691511 0.08230914 0.2614754  0.62523522\n",
      "  0.306376   0.38799165 0.7570873  0.5914917  0.25469666 0.3946992\n",
      "  0.46574564 0.65096724 0.78672663 0.77858774 0.61909138 0.58878083\n",
      "  0.81924669 0.64261197 0.60212603 0.21470198 0.70376095 0.2992882\n",
      "  0.56767018 0.62896645 0.63552416 0.08780409 0.09189256 1.00706787\n",
      "  0.21438415 0.32679367 0.91902535 0.76475973 0.3068444  0.54168658\n",
      "  0.50288292 0.12088701 0.5558108  0.93480131 0.48412324 0.45353306\n",
      "  0.63375352 0.39090525 0.32955839 0.75219919 0.45805531 0.96827003\n",
      "  0.23705641 0.60174502 0.90478776 0.34022738 0.23175506 0.14369456\n",
      "  0.64648479 0.28880292 0.16216818 0.72647229 0.29425458 0.6493126\n",
      "  0.50472785 0.86785259 0.65226657 0.49260621 0.8359601  0.42986326\n",
      "  0.65542817 0.79679051 0.92013079 0.25452943 0.47202183 0.60084939\n",
      "  0.40493165 0.1723944  0.21056036 0.67798988 0.93389479 0.32639499\n",
      "  0.73711644 0.54504006 0.73681363 0.64741074 0.53946213 0.91009781\n",
      "  0.22285206 0.88444121 0.65828157 0.29729468]\n",
      " [0.18846699 0.40714085 0.11787262 0.3156572  0.71432757 0.56936554\n",
      "  0.57839164 0.46516672 0.         0.52745494 0.64336258 0.29226195\n",
      "  0.57363705 0.37828964 0.43958036 0.38417046 0.3585014  0.18695098\n",
      "  0.26657631 0.18116274 0.89243782 0.20127929 0.24485431 0.4133259\n",
      "  0.17281784 0.70707134 0.34697717 0.31523038 0.18230427 0.16184596\n",
      "  0.67567852 0.82341481 0.79224905 0.60625681 0.25432756 0.47063018\n",
      "  0.28650037 0.3377761  0.17634657 0.40729228 0.51782891 0.714506\n",
      "  0.37008648 0.27193378 0.62058599 0.69132575 0.29842656 0.1584386\n",
      "  0.58618755 0.58604474 0.25331637 0.51817257 0.18473913 0.58151135\n",
      "  0.44904021 0.28307033 0.41003034 0.38983148 0.26704381 0.66061894\n",
      "  0.4498354  0.14826622 0.61539349 0.3486731  0.62683574 0.37062212\n",
      "  0.21734267 0.46706646 0.33764529 0.29984494 0.44550842 0.23005208\n",
      "  0.0459357  0.44922675 0.21702812 0.6365585  0.66072816 0.30593777\n",
      "  0.27215485 0.478434   0.49878394 0.38303264 0.5699255  0.17178712\n",
      "  0.53586194 0.53671047 0.34170656 0.73348046 0.58793134 0.35091503\n",
      "  0.31692285 0.0944793  0.33706583 0.21519658 0.22561994 0.68440622\n",
      "  0.51691759 0.67078672 0.42151602 0.32615261]\n",
      " [0.51846307 0.46556331 0.45484703 0.78884113 0.73376862 0.58667157\n",
      "  0.19764563 0.85764543 0.52745494 0.         0.54460564 0.25059065\n",
      "  0.96358967 0.57157736 0.24382379 0.78259748 0.86307209 0.58131203\n",
      "  0.78114856 0.48061436 0.78978117 0.32618197 0.7345571  0.52400004\n",
      "  0.41019039 0.59925077 0.62957793 0.41925119 0.58322383 0.59490595\n",
      "  0.3388349  0.79732091 0.789133   1.05500114 0.3526556  0.65693557\n",
      "  0.29122923 0.22885551 0.41630607 0.77203519 0.85944459 0.19143805\n",
      "  0.85996879 0.79141969 0.10343692 0.43709495 0.81414013 0.64081917\n",
      "  0.58964012 0.96110289 0.30900418 0.22098461 0.39025923 0.63415479\n",
      "  0.27682127 0.81014942 0.58287589 0.14050306 0.39981315 0.13446205\n",
      "  0.68986889 0.41361451 0.10868541 0.87002605 1.07495423 0.83008742\n",
      "  0.60709832 0.6625853  0.69550307 0.27796725 0.63995053 0.62837753\n",
      "  0.48763519 0.7350777  0.5951472  0.66697481 0.28936324 0.43477718\n",
      "  0.25661518 0.06129974 0.23152979 0.88519338 0.60125572 0.59422884\n",
      "  0.62759833 0.99171713 0.82886528 0.61021204 0.07836261 0.55243911\n",
      "  0.66253158 0.44389409 0.70759856 0.33765598 0.33149845 0.23229577\n",
      "  0.99589889 0.24067903 0.22046571 0.83990919]\n",
      " [0.78068574 0.23852875 0.67600954 0.68055128 0.20452084 0.13047175\n",
      "  0.36701077 0.6147178  0.64336258 0.54460564 0.         0.59362811\n",
      "  0.68044598 0.93489957 0.72473869 0.58106708 0.78420798 0.8126523\n",
      "  0.75265517 0.46671661 0.26584053 0.55209396 0.67583288 0.25427098\n",
      "  0.47794418 0.06600151 0.94632095 0.7948643  0.80996492 0.79828746\n",
      "  0.28481004 0.25271545 0.24677018 0.82510504 0.69104439 0.31547608\n",
      "  0.42064705 0.42481148 0.68859102 0.53800861 0.55852432 0.58331507\n",
      "  0.75240665 0.77406446 0.53301704 0.18219842 0.77821028 0.80144155\n",
      "  0.11509149 0.66137937 0.44859792 0.74307888 0.47333828 0.17329287\n",
      "  0.28723942 0.82884543 0.30125293 0.54731438 0.3794008  0.57739557\n",
      "  0.37766341 0.65697562 0.51188753 0.83801006 0.83964102 0.68463326\n",
      "  0.84558288 0.32595475 0.501767   0.64831177 0.32187419 0.86269719\n",
      "  0.63938366 1.06042704 0.84063666 0.16539866 0.32941914 0.33754266\n",
      "  0.55123036 0.49837811 0.74422416 0.79440807 0.14599955 0.80597196\n",
      "  0.21273967 0.78690015 0.72721253 0.09044736 0.61271735 0.33818628\n",
      "  0.9397703  0.63328334 0.96976245 0.6283471  0.46596105 0.43365496\n",
      "  0.8294719  0.40308403 0.35382054 0.79074062]\n",
      " [0.27046822 0.41538651 0.20555502 0.58705925 0.73940665 0.5794682\n",
      "  0.36741859 0.69565417 0.29226195 0.25059065 0.59362811 0.\n",
      "  0.80645393 0.36102227 0.1734473  0.61446138 0.64599596 0.33169437\n",
      "  0.55702128 0.30986558 0.85926632 0.10475643 0.52333848 0.45869646\n",
      "  0.23212453 0.65852692 0.40024916 0.20884347 0.33332171 0.34432115\n",
      "  0.49945554 0.82951154 0.80956051 0.87095941 0.11432441 0.57422091\n",
      "  0.18342246 0.1693768  0.1661008  0.61822929 0.72080056 0.44202522\n",
      "  0.65123829 0.56377083 0.35204483 0.5601405  0.589425   0.39116538\n",
      "  0.58996133 0.81093387 0.16883256 0.23951134 0.21566946 0.61440328\n",
      "  0.31498041 0.57356454 0.49675844 0.11121627 0.28187065 0.38459344\n",
      "  0.58551174 0.16396446 0.35236543 0.64090145 0.89153672 0.63602682\n",
      "  0.35867962 0.5761362  0.5391261  0.05469582 0.5513787  0.37998294\n",
      "  0.24842584 0.51265538 0.34725491 0.66166004 0.46552269 0.33535768\n",
      "  0.04737096 0.21600931 0.22449372 0.66978619 0.58859806 0.34377863\n",
      "  0.58753742 0.80342083 0.62105543 0.6784778  0.30062321 0.44714069\n",
      "  0.42257011 0.20115486 0.46564971 0.08721066 0.17041544 0.45171754\n",
      "  0.79496084 0.44781338 0.25405568 0.61671374]\n",
      " [0.7543328  0.53859808 0.68964552 0.2813527  0.57316646 0.54998816\n",
      "  0.89626701 0.11107532 0.57363705 0.96358967 0.68044598 0.80645393\n",
      "  0.         0.94026565 0.97790963 0.19323692 0.3260181  0.72803979\n",
      "  0.39091372 0.49813633 0.79001398 0.70240703 0.3516881  0.4820101\n",
      "  0.57603918 0.70868065 0.88774598 0.88799715 0.72179306 0.69084507\n",
      "  0.90516053 0.66933521 0.62884663 0.15613039 0.81447089 0.36964573\n",
      "  0.67497895 0.73547607 0.74542783 0.19186932 0.12224404 1.10801196\n",
      "  0.28020586 0.40863215 1.02153942 0.84162474 0.38413965 0.6405261\n",
      "  0.56576131 0.03106584 0.66448304 1.04545451 0.59420558 0.51096844\n",
      "  0.73099391 0.46858398 0.41515461 0.86117878 0.56382823 1.07113778\n",
      "  0.31104404 0.71200106 1.00659684 0.40425904 0.16569182 0.22585399\n",
      "  0.74762785 0.35956052 0.27012434 0.83754033 0.37093465 0.74901094\n",
      "  0.6141074  0.96397853 0.75419202 0.54171679 0.92581588 0.53199879\n",
      "  0.76589838 0.90249644 1.0309464  0.31172398 0.53465868 0.7028989\n",
      "  0.46770816 0.1532763  0.28717209 0.73426611 1.04041344 0.42218969\n",
      "  0.8353261  0.65519774 0.8317433  0.75843616 0.64892651 1.00480537\n",
      "  0.22337952 0.97815543 0.75986266 0.36840401]\n",
      " [0.1898472  0.72399858 0.28180588 0.66473108 1.05172948 0.89511041\n",
      "  0.72447611 0.83564089 0.37828964 0.57157736 0.93489957 0.36102227\n",
      "  0.94026565 0.         0.34349399 0.75700909 0.66865935 0.2143399\n",
      "  0.57585776 0.53219294 1.19945844 0.38287206 0.59159025 0.75012768\n",
      "  0.48032048 1.00086407 0.08994436 0.15493584 0.22073745 0.25272334\n",
      "  0.85983382 1.15287962 1.12716163 0.94570095 0.24935427 0.83405875\n",
      "  0.51475066 0.52329868 0.25027173 0.78412055 0.89453586 0.74871947\n",
      "  0.69756383 0.56783292 0.67313767 0.91986992 0.59829216 0.31175606\n",
      "  0.90901076 0.95590006 0.48634    0.4119803  0.47697718 0.91942618\n",
      "  0.67037032 0.53589727 0.76497448 0.45542173 0.57209218 0.69022607\n",
      "  0.82175591 0.28570123 0.68025623 0.62180725 0.96541247 0.72224974\n",
      "  0.20192889 0.83214743 0.71589754 0.31133273 0.80886076 0.20905997\n",
      "  0.34899942 0.16633105 0.19202672 0.97216332 0.82376982 0.62526237\n",
      "  0.39341808 0.55871401 0.3890422  0.69316824 0.90025935 0.24102071\n",
      "  0.88113466 0.87679368 0.67583142 1.02334087 0.58745047 0.7063745\n",
      "  0.15708381 0.3271273  0.1984486  0.30725906 0.47043368 0.79728064\n",
      "  0.83929518 0.79826231 0.6130802  0.62495764]\n",
      " [0.34843241 0.57459871 0.33074209 0.74856516 0.8889616  0.73052082\n",
      "  0.42716949 0.86691511 0.43958036 0.24382379 0.72473869 0.1734473\n",
      "  0.97790963 0.34349399 0.         0.78525451 0.79806607 0.41434023\n",
      "  0.70541395 0.48287614 0.98586814 0.2757244  0.6813031  0.62268235\n",
      "  0.40536468 0.78671804 0.41468441 0.20512865 0.41830967 0.43998102\n",
      "  0.5703469  0.97095241 0.95499969 1.03623831 0.19123732 0.74322342\n",
      "  0.34481453 0.31064582 0.27400696 0.79079018 0.89405377 0.4074464\n",
      "  0.80837741 0.70884151 0.33883512 0.65505334 0.7366127  0.49880277\n",
      "  0.73883445 0.98319066 0.33719286 0.08231831 0.38910688 0.76983962\n",
      "  0.43750278 0.7080282  0.66542011 0.17744489 0.45141692 0.34974094\n",
      "  0.75739801 0.29299584 0.34939537 0.78286543 1.05688025 0.79997469\n",
      "  0.43158089 0.7457291  0.71180343 0.14221726 0.72104972 0.45140663\n",
      "  0.39365817 0.50981245 0.41815045 0.81357491 0.52513779 0.50323022\n",
      "  0.21841286 0.25212692 0.06035772 0.82261265 0.74149934 0.43501704\n",
      "  0.74796417 0.96779049 0.77913964 0.80313274 0.24555535 0.61798812\n",
      "  0.46101336 0.3451745  0.50791734 0.22620411 0.34244405 0.4761169\n",
      "  0.95433635 0.48345827 0.3709524  0.76465087]\n",
      " [0.56866997 0.39236869 0.49860814 0.13795371 0.531206   0.45584475\n",
      "  0.73501686 0.08230914 0.38417046 0.78259748 0.58106708 0.61446138\n",
      "  0.19323692 0.75700909 0.78525451 0.         0.23064561 0.54837843\n",
      "  0.25161354 0.30832507 0.74900829 0.5100843  0.18821607 0.34441703\n",
      "  0.38564945 0.6238608  0.71088608 0.69679798 0.54233555 0.51264585\n",
      "  0.7646564  0.6412355  0.60156212 0.27582196 0.62145501 0.27204996\n",
      "  0.4916396  0.55375138 0.5535063  0.05178531 0.14379134 0.93706017\n",
      "  0.18782666 0.27391539 0.8475768  0.71906161 0.25962701 0.46851551\n",
      "  0.47416721 0.20243782 0.47800201 0.85381133 0.40435785 0.43126148\n",
      "  0.56900795 0.33973355 0.28365031 0.67366921 0.38454222 0.89635545\n",
      "  0.21149124 0.51957098 0.83410803 0.30417258 0.2949615  0.11210444\n",
      "  0.57091008 0.26192594 0.09138605 0.64454966 0.2605338  0.57490839\n",
      "  0.42305851 0.79563084 0.57604124 0.4764641  0.7774901  0.36130289\n",
      "  0.57484479 0.72211973 0.83885521 0.23164104 0.44438904 0.52468436\n",
      "  0.37951244 0.2196562  0.17255056 0.65171648 0.85809519 0.26811119\n",
      "  0.66361967 0.46291772 0.66596539 0.5652038  0.46056118 0.84657333\n",
      "  0.25014069 0.82198902 0.5886619  0.25696049]\n",
      " [0.50028422 0.56698049 0.47091865 0.10390678 0.75791341 0.66677656\n",
      "  0.86514854 0.2614754  0.3585014  0.86307209 0.78420798 0.64599596\n",
      "  0.3260181  0.66865935 0.79806607 0.23064561 0.         0.45603183\n",
      "  0.09535557 0.39645204 0.97339673 0.54633399 0.12983234 0.53272164\n",
      "  0.45580854 0.83389088 0.60138282 0.65648601 0.44964541 0.41755504\n",
      "  0.9245477  0.8692701  0.83003782 0.28142857 0.61104982 0.49170132\n",
      "  0.58325944 0.64551537 0.53000085 0.28242509 0.35243223 1.03966321\n",
      "  0.04727567 0.10084033 0.94584766 0.89977242 0.07046642 0.35690342\n",
      "  0.68561942 0.35248102 0.55823702 0.87651528 0.47546681 0.64956562\n",
      "  0.70679415 0.14744184 0.48358593 0.73330769 0.50171862 0.99074188\n",
      "  0.4350781  0.50580567 0.93657953 0.07927252 0.30012086 0.12103582\n",
      "  0.46699243 0.48228634 0.28662951 0.65804981 0.47566549 0.46257944\n",
      "  0.40441136 0.66083762 0.47663584 0.69834894 0.9265648  0.50225097\n",
      "  0.61858368 0.80751894 0.85726911 0.02511072 0.65769887 0.42876589\n",
      "  0.59662799 0.21572699 0.0591107  0.86219787 0.93085143 0.44868677\n",
      "  0.54073038 0.45296206 0.52818505 0.57326188 0.53334269 0.97770737\n",
      "  0.17065206 0.95746922 0.70669232 0.04581573]\n",
      " [0.06608813 0.58222579 0.14420804 0.45081139 0.89794423 0.74920631\n",
      "  0.68416636 0.62523522 0.18695098 0.58131203 0.8126523  0.33169437\n",
      "  0.72803979 0.2143399  0.41434023 0.54837843 0.45603183 0.\n",
      "  0.36232962 0.36380813 1.06867595 0.29060053 0.37789513 0.59503339\n",
      "  0.33492879 0.8777972  0.16351469 0.22442019 0.00641114 0.03854077\n",
      "  0.80173009 1.00554205 0.97555681 0.7316064  0.23372269 0.65757189\n",
      "  0.41594562 0.44915853 0.16573269 0.57913271 0.68871615 0.77235018\n",
      "  0.48360363 0.35545876 0.683535   0.83674402 0.38597473 0.10112372\n",
      "  0.76529274 0.74473446 0.3821769  0.49625239 0.33957031 0.76470148\n",
      "  0.58476712 0.32942321 0.59600906 0.44290626 0.43352735 0.71421671\n",
      "  0.63589639 0.17787355 0.68404819 0.41416501 0.75139686 0.50832142\n",
      "  0.03296096 0.65401172 0.51567905 0.30673069 0.6324393  0.05193171\n",
      "  0.1754639  0.26227626 0.0300774  0.81945015 0.77696736 0.47980777\n",
      "  0.33890609 0.54703391 0.473324   0.48078116 0.7510771  0.02737355\n",
      "  0.7205126  0.6625834  0.46153703 0.90308562 0.62338639 0.53672398\n",
      "  0.13067069 0.1813803  0.15713589 0.24646876 0.35805304 0.77834033\n",
      "  0.62642624 0.77106415 0.54176109 0.41318034]\n",
      " [0.40516364 0.5240942  0.37681197 0.11600235 0.75139013 0.64350104\n",
      "  0.79715066 0.306376   0.26657631 0.78114856 0.75265517 0.55702128\n",
      "  0.39091372 0.57585776 0.70541395 0.25161354 0.09535557 0.36232962\n",
      "  0.         0.32969967 0.96081304 0.45977457 0.07800195 0.49838843\n",
      "  0.38005401 0.80697261 0.51137104 0.56114994 0.35592472 0.32379177\n",
      "  0.8671837  0.86439605 0.82659929 0.37037654 0.5172619  0.48146202\n",
      "  0.50881146 0.56957585 0.43573084 0.29990108 0.39071328 0.9616804\n",
      "  0.12232904 0.02318801 0.86748524 0.8526889  0.03300242 0.26454164\n",
      "  0.6623828  0.41374467 0.48138961 0.78458378 0.39908997 0.63349179\n",
      "  0.64414038 0.0886261  0.4584197  0.64833131 0.43824023 0.91102416\n",
      "  0.4314436  0.41259198 0.85940959 0.0926445  0.38985388 0.16586777\n",
      "  0.37487066 0.47313349 0.27796765 0.56638788 0.46189461 0.37181399\n",
      "  0.31224137 0.57722025 0.38396451 0.68542847 0.86472139 0.44746969\n",
      "  0.53211755 0.72734639 0.76494031 0.12046558 0.63666769 0.33520391\n",
      "  0.58058935 0.30219457 0.10510023 0.8352932  0.84667072 0.41462205\n",
      "  0.45300664 0.36093138 0.44433098 0.48177275 0.45529803 0.90878406\n",
      "  0.26438601 0.89024221 0.63724759 0.05969767]\n",
      " [0.34968972 0.2285244  0.25039661 0.31158726 0.53423261 0.38822269\n",
      "  0.46907263 0.38799165 0.18116274 0.48061436 0.46671661 0.30986558\n",
      "  0.49813633 0.53219294 0.48287614 0.30832507 0.39645204 0.36380813\n",
      "  0.32969967 0.         0.7117898  0.20785468 0.26703576 0.23223065\n",
      "  0.07800771 0.52918444 0.51677041 0.43080773 0.35985222 0.34219603\n",
      "  0.53895911 0.64259341 0.61196404 0.57566447 0.33854878 0.30187837\n",
      "  0.19104963 0.25434377 0.28973297 0.30857039 0.41128583 0.64773416\n",
      "  0.38559477 0.34627303 0.55499287 0.53448904 0.3613584  0.33663257\n",
      "  0.40512169 0.50147939 0.17200757 0.54779859 0.09613367 0.40109592\n",
      "  0.31451085 0.3871302  0.23423272 0.36571824 0.10902006 0.60181371\n",
      "  0.2941207  0.25251322 0.54412342 0.42232351 0.59584223 0.34981799\n",
      "  0.39559364 0.30015564 0.22940207 0.34592907 0.276698   0.40981201\n",
      "  0.18988233 0.62442276 0.39358912 0.45599693 0.5350624  0.13101568\n",
      "  0.26798419 0.42165001 0.53399551 0.41601989 0.38880944 0.35153857\n",
      "  0.35679212 0.5113981  0.35452781 0.55613949 0.55400179 0.17502789\n",
      "  0.49446673 0.20513591 0.51736713 0.27450679 0.15258864 0.5814354\n",
      "  0.51629429 0.56176403 0.31024241 0.3829019 ]\n",
      " [1.04077884 0.48655524 0.93583073 0.87078702 0.21966714 0.3254493\n",
      "  0.59789287 0.7570873  0.89243782 0.78978117 0.26584053 0.85926632\n",
      "  0.79001398 1.19945844 0.98586814 0.74900829 0.97339673 1.06867595\n",
      "  0.96081304 0.7117898  0.         0.81661624 0.88284888 0.48206713\n",
      "  0.73433214 0.20077048 1.20775705 1.06058706 1.06554436 1.05140447\n",
      "  0.47766095 0.1249312  0.16351298 0.94555706 0.9566773  0.48197134\n",
      "  0.68602697 0.69020005 0.951772   0.69895221 0.67896188 0.78945478\n",
      "  0.93465629 0.9835252  0.75912092 0.36292218 0.98182881 1.04824633\n",
      "  0.30762279 0.76387105 0.71322214 0.99831876 0.73191871 0.32746155\n",
      "  0.5496161  1.04391141 0.50552237 0.80864936 0.63615103 0.79732638\n",
      "  0.53874681 0.91919214 0.73787589 1.03774178 0.95568128 0.86047315\n",
      "  1.10140455 0.49120525 0.68798865 0.91396068 0.49962745 1.11750463\n",
      "  0.89363481 1.32108939 1.09740091 0.27569194 0.53104216 0.58894267\n",
      "  0.81706191 0.75004185 1.00138948 0.97843879 0.32829853 1.05986862\n",
      "  0.38024363 0.92421092 0.91434688 0.18273548 0.85080828 0.55741122\n",
      "  1.19757023 0.89200442 1.22517302 0.89352654 0.72941172 0.63326096\n",
      "  0.97991901 0.60512423 0.61564259 0.98912401]\n",
      " [0.24172183 0.34703905 0.14721896 0.48369567 0.6760526  0.5171566\n",
      "  0.3957638  0.5914917  0.20127929 0.32618197 0.55209396 0.10475643\n",
      "  0.70240703 0.38287206 0.2757244  0.5100843  0.54633399 0.29060053\n",
      "  0.45977457 0.20785468 0.81661624 0.         0.4215564  0.38173862\n",
      "  0.13154169 0.61807746 0.39897829 0.24949108 0.29025893 0.29191066\n",
      "  0.51119816 0.77339737 0.74966526 0.76642594 0.14641385 0.48700594\n",
      "  0.13330542 0.15857208 0.13933353 0.51510882 0.61907459 0.51396477\n",
      "  0.54933975 0.46828568 0.42037887 0.55127583 0.49255799 0.32599266\n",
      "  0.52993672 0.70746773 0.10349634 0.34422499 0.11763282 0.54616231\n",
      "  0.29812024 0.48415415 0.41104875 0.18920777 0.19985835 0.45954648\n",
      "  0.49216117 0.11408979 0.41620291 0.54643208 0.7869884  0.53187989\n",
      "  0.32197949 0.48779846 0.4361845  0.1383369  0.46311253 0.3423418\n",
      "  0.16229171 0.51402362 0.31320735 0.59680744 0.48680193 0.25494565\n",
      "  0.07235768 0.27825038 0.32879911 0.56967345 0.52390485 0.29483383\n",
      "  0.51332961 0.69906929 0.51886711 0.64081575 0.38771144 0.35750539\n",
      "  0.40395716 0.12230715 0.44143804 0.07932218 0.08935141 0.49506844\n",
      "  0.69195941 0.48502296 0.25138984 0.51925408]\n",
      " [0.40990707 0.44948826 0.36195611 0.07343191 0.67389403 0.56567056\n",
      "  0.73604521 0.25469666 0.24485431 0.7345571  0.67583288 0.52333848\n",
      "  0.3516881  0.59159025 0.6813031  0.18821607 0.12983234 0.37789513\n",
      "  0.07800195 0.26703576 0.88284888 0.4215564  0.         0.42167589\n",
      "  0.32623536 0.72955876 0.53622274 0.55604877 0.37157064 0.34016914\n",
      "  0.79916813 0.78698043 0.74937696 0.36255661 0.49897503 0.40395926\n",
      "  0.45345294 0.51578991 0.42091694 0.23245573 0.33150128 0.91004234\n",
      "  0.12790058 0.10069667 0.81631184 0.78003062 0.10255583 0.28885589\n",
      "  0.58456049 0.37052738 0.42869457 0.75779925 0.34596123 0.55550354\n",
      "  0.57904421 0.16331052 0.38055888 0.60658671 0.37334537 0.86145925\n",
      "  0.35507025 0.39284819 0.80688254 0.16339058 0.38302801 0.13082264\n",
      "  0.39626921 0.39576952 0.2019584  0.53970103 0.38412099 0.39732601\n",
      "  0.29018699 0.6136219  0.40324313 0.60751911 0.79932039 0.37736634\n",
      "  0.49336904 0.67846546 0.73949596 0.15083403 0.55872571 0.35217206\n",
      "  0.50261471 0.29282797 0.09793344 0.75789483 0.80332901 0.33765048\n",
      "  0.4838803  0.33746084 0.48222006 0.45514943 0.40407317 0.84846647\n",
      "  0.27303622 0.82858911 0.57722594 0.11868737]\n",
      " [0.5756378  0.06007739 0.47227342 0.42978435 0.30363291 0.15684353\n",
      "  0.41984659 0.3946992  0.4133259  0.52400004 0.25427098 0.45869646\n",
      "  0.4820101  0.75012768 0.62268235 0.34441703 0.53272164 0.59503339\n",
      "  0.49838843 0.23223065 0.48206713 0.38173862 0.42167589 0.\n",
      "  0.26989942 0.31024219 0.74390302 0.62987309 0.59130236 0.5743699\n",
      "  0.42471105 0.41056181 0.38080296 0.60935277 0.52799816 0.1334026\n",
      "  0.27795179 0.31876435 0.50045089 0.30943087 0.36343859 0.64001907\n",
      "  0.50347818 0.51980267 0.56068365 0.37483441 0.52413249 0.5671027\n",
      "  0.17444505 0.47076994 0.29011614 0.66729054 0.27371218 0.17032955\n",
      "  0.25981531 0.575082   0.06698043 0.46101271 0.18191864 0.61077433\n",
      "  0.17595882 0.46446939 0.54321687 0.58419624 0.62640553 0.43964749\n",
      "  0.62714838 0.13989399 0.25754175 0.50875738 0.11921346 0.6418043\n",
      "  0.41986931 0.85388439 0.6245813  0.22461327 0.44380602 0.12689067\n",
      "  0.4113465  0.46407803 0.66041305 0.54437399 0.1566018  0.58358959\n",
      "  0.13184935 0.56113561 0.47689614 0.3383709  0.60218209 0.08428905\n",
      "  0.72549649 0.42676136 0.74945463 0.46061994 0.29401254 0.52514839\n",
      "  0.59422926 0.49764015 0.30437914 0.53724361]\n",
      " [0.30792543 0.24879811 0.2034345  0.37865163 0.57256769 0.41849687\n",
      "  0.42018872 0.46574564 0.17281784 0.41019039 0.47794418 0.23212453\n",
      "  0.57603918 0.48032048 0.40536468 0.38564945 0.45580854 0.33492879\n",
      "  0.38005401 0.07800771 0.73433214 0.13154169 0.32623536 0.26989942\n",
      "  0.         0.54293168 0.47608451 0.36619228 0.33210937 0.3207123\n",
      "  0.5066249  0.67645675 0.6488809  0.65039934 0.26900478 0.36171593\n",
      "  0.12878476 0.18993557 0.23125548 0.38656583 0.48870031 0.58385467\n",
      "  0.45017819 0.39367605 0.4900775  0.51852568 0.41279362 0.32996714\n",
      "  0.43364873 0.57948588 0.10246089 0.46979197 0.01993139 0.4396964\n",
      "  0.27912416 0.42528844 0.2882118  0.28998689 0.09860741 0.53537541\n",
      "  0.36232895 0.19484646 0.48082538 0.47192038 0.67072066 0.42094973\n",
      "  0.36781278 0.36154715 0.30739128 0.26986726 0.33714926 0.38475764\n",
      "  0.16177653 0.58792689 0.36328938 0.49309944 0.49560472 0.14699946\n",
      "  0.18997801 0.35286244 0.45606142 0.47704045 0.42217282 0.32813158\n",
      "  0.40083683 0.5850635  0.41903281 0.56839151 0.48162359 0.23169409\n",
      "  0.46324877 0.15847812 0.49194346 0.20284608 0.0787184  0.53046926\n",
      "  0.58600022 0.51350075 0.26014848 0.43675593]\n",
      " [0.84641253 0.3006634  0.74167675 0.72999115 0.18322617 0.16814363\n",
      "  0.41473166 0.65096724 0.70707134 0.59925077 0.06600151 0.65852692\n",
      "  0.70868065 1.00086407 0.78671804 0.6238608  0.83389088 0.8777972\n",
      "  0.80697261 0.52918444 0.20077048 0.61807746 0.72955876 0.31024219\n",
      "  0.54293168 0.         1.01221055 0.86048678 0.87503533 0.86292193\n",
      "  0.31545345 0.20314086 0.20579306 0.85741766 0.75674813 0.35321625\n",
      "  0.48650579 0.48943019 0.75457969 0.57843008 0.58813151 0.62337801\n",
      "  0.80017503 0.82877746 0.58007239 0.20258767 0.83148997 0.86485274\n",
      "  0.14969845 0.68753434 0.51458113 0.80232329 0.53871966 0.19826542\n",
      "  0.34958847 0.88508493 0.35058573 0.60930554 0.44432969 0.6223948\n",
      "  0.41543236 0.7229026  0.55877304 0.89053198 0.87092004 0.7303524\n",
      "  0.91070774 0.36362531 0.54875681 0.71322254 0.36334142 0.92766037\n",
      "  0.70411827 1.12625383 0.90591039 0.17139982 0.36470353 0.40114163\n",
      "  0.61651596 0.55567878 0.80432477 0.84283093 0.17971025 0.87075067\n",
      "  0.2461796  0.82329577 0.77610359 0.0283567  0.66472995 0.39273145\n",
      "  1.0052266  0.69877928 1.03486346 0.69423449 0.53194839 0.4699079\n",
      "  0.86951218 0.43981994 0.41591386 0.84276099]\n",
      " [0.16831565 0.72456852 0.27272277 0.60809082 1.04750499 0.89457735\n",
      "  0.76766576 0.78672663 0.34697717 0.62957793 0.94632095 0.40024916\n",
      "  0.88774598 0.08994436 0.41468441 0.71088608 0.60138282 0.16351469\n",
      "  0.51137104 0.51677041 1.20775705 0.39897829 0.53622274 0.74390302\n",
      "  0.47608451 1.01221055 0.         0.21234151 0.16926919 0.19824315\n",
      "  0.89768299 1.1524766  1.12435711 0.88151224 0.28601949 0.81554388\n",
      "  0.53212183 0.55082432 0.25970341 0.7424714  0.85185418 0.8128875\n",
      "  0.6336991  0.50091898 0.73263436 0.94832526 0.53099356 0.24829224\n",
      "  0.90968538 0.90547626 0.5008258  0.4883246  0.47648424 0.91423237\n",
      "  0.69566588 0.46288067 0.75090128 0.50382456 0.57267836 0.7539812\n",
      "  0.79678786 0.28946111 0.73777481 0.54883128 0.90075946 0.6653228\n",
      "  0.14025892 0.81254445 0.67912134 0.35685542 0.79030762 0.13975823\n",
      "  0.32719384 0.11506118 0.13494229 0.96827758 0.86552327 0.6230834\n",
      "  0.42471852 0.60957373 0.46495034 0.62528684 0.89800899 0.18621375\n",
      "  0.87246087 0.81356482 0.61426898 1.03611341 0.65353168 0.69159492\n",
      "  0.06896441 0.31767772 0.10850811 0.33159506 0.48102553 0.84853629\n",
      "  0.77162304 0.84673008 0.64329426 0.55655799]\n",
      " [0.16309342 0.59653009 0.19835188 0.62855292 0.92552841 0.76648324\n",
      "  0.56968123 0.77858774 0.31523038 0.41925119 0.7948643  0.20884347\n",
      "  0.88799715 0.15493584 0.20512865 0.69679798 0.65648601 0.22442019\n",
      "  0.56114994 0.43080773 1.06058706 0.24949108 0.55604877 0.62987309\n",
      "  0.36619228 0.86048678 0.21234151 0.         0.22954035 0.25672212\n",
      "  0.70579719 1.02207301 0.99892539 0.91859286 0.10420786 0.72783783\n",
      "  0.37496082 0.37540382 0.14439234 0.71503046 0.82470058 0.60072371\n",
      "  0.6761509  0.55930692 0.52176334 0.76898348 0.58917018 0.32022916\n",
      "  0.77900234 0.8992203  0.35008263 0.28304093 0.3581656  0.79553799\n",
      "  0.52235602 0.54464463 0.65418895 0.30048637 0.44814038 0.54185594\n",
      "  0.7248703  0.18053333 0.52784571 0.62628407 0.93904014 0.68457376\n",
      "  0.23512279 0.7274459  0.64037255 0.15725998 0.70316694 0.2533274\n",
      "  0.27390425 0.31588247 0.22151259 0.84629827 0.66907269 0.50301722\n",
      "  0.24539941 0.40405682 0.25952619 0.68159546 0.77338197 0.24900886\n",
      "  0.76170144 0.84885332 0.64994256 0.88172923 0.44119275 0.5978623\n",
      "  0.2558848  0.23531676 0.3027907  0.17018821 0.33880617 0.64289514\n",
      "  0.82294665 0.64346026 0.46270824 0.61734523]\n",
      " [0.06987784 0.57903477 0.14345114 0.44446585 0.89405758 0.74569943\n",
      "  0.68438304 0.61909138 0.18230427 0.58322383 0.80996492 0.33332171\n",
      "  0.72179306 0.22073745 0.41830967 0.54233555 0.44964541 0.00641114\n",
      "  0.35592472 0.35985222 1.06554436 0.29025893 0.37157064 0.59130236\n",
      "  0.33210937 0.87503533 0.16926919 0.22954035 0.         0.03213359\n",
      "  0.8012325  1.00184634 0.97171762 0.7251957  0.23663475 0.65292475\n",
      "  0.41475147 0.44875457 0.16723839 0.57326529 0.68278981 0.77436656\n",
      "  0.47719258 0.34908388 0.6852882  0.83538924 0.3795997  0.09494755\n",
      "  0.76185638 0.73854321 0.3808974  0.50030656 0.33708697 0.76085017\n",
      "  0.58364216 0.3232711  0.59171437 0.44453505 0.43071662 0.71631515\n",
      "  0.63086827 0.17807247 0.68560849 0.40794399 0.74498577 0.50197379\n",
      "  0.03590425 0.64929852 0.51005975 0.30928383 0.62780999 0.05331353\n",
      "  0.17205362 0.26699796 0.03503182 0.81564293 0.77685906 0.47662099\n",
      "  0.33965408 0.54838994 0.47743305 0.47440011 0.74744522 0.02108733\n",
      "  0.71646183 0.65617446 0.45513139 0.90040699 0.62595444 0.53245424\n",
      "  0.13483167 0.17956131 0.15983627 0.24771308 0.35654448 0.77909795\n",
      "  0.62003081 0.77157709 0.54121371 0.40681966]\n",
      " [0.09400776 0.56498264 0.14518673 0.41290823 0.87604559 0.72979211\n",
      "  0.68760051 0.58878083 0.16184596 0.59490595 0.79828746 0.34432115\n",
      "  0.69084507 0.25272334 0.43998102 0.51264585 0.41755504 0.03854077\n",
      "  0.32379177 0.34219603 1.05140447 0.29191066 0.34016914 0.5743699\n",
      "  0.3207123  0.86292193 0.19824315 0.25672212 0.03213359 0.\n",
      "  0.80074505 0.98478724 0.95391744 0.69310458 0.25418984 0.63100195\n",
      "  0.41145815 0.44934407 0.17921528 0.54459208 0.65374187 0.78633139\n",
      "  0.44507773 0.31703425 0.69606407 0.83053468 0.34754866 0.06421388\n",
      "  0.74630675 0.70793107 0.3773003  0.52223995 0.3274464  0.74311005\n",
      "  0.58027173 0.29224047 0.57175764 0.45513766 0.41898576 0.72873275\n",
      "  0.60688034 0.18369149 0.69544444 0.37655832 0.71288212 0.47039607\n",
      "  0.0588847  0.62701955 0.48284725 0.32476222 0.60600483 0.06842762\n",
      "  0.15896199 0.29086127 0.06348574 0.79809755 0.7783483  0.46278124\n",
      "  0.34637899 0.55743434 0.49964919 0.44232671 0.73087693 0.01207013\n",
      "  0.69769574 0.62411181 0.42310896 0.88870771 0.64073502 0.51270627\n",
      "  0.15716703 0.17498623 0.17526473 0.25744745 0.35188311 0.78489067\n",
      "  0.58791449 0.77616591 0.54084702 0.37482121]\n",
      " [0.75129388 0.37247142 0.65782547 0.82797805 0.48869396 0.38757451\n",
      "  0.14334631 0.81924669 0.67567852 0.3388349  0.28481004 0.49945554\n",
      "  0.90516053 0.85983382 0.5703469  0.7646564  0.9245477  0.80173009\n",
      "  0.8671837  0.53895911 0.47766095 0.51119816 0.79916813 0.42471105\n",
      "  0.5066249  0.31545345 0.89768299 0.70579719 0.8012325  0.80074505\n",
      "  0.         0.51680597 0.52119612 1.03375988 0.61331022 0.5396602\n",
      "  0.39128316 0.3526391  0.64526042 0.73324812 0.78466683 0.31226498\n",
      "  0.9041951  0.88468408 0.2863402  0.11589598 0.89797771 0.82597077\n",
      "  0.3798798  0.89193022 0.42543724 0.55944171 0.49199523 0.43891004\n",
      "  0.22752386 0.92555136 0.49081424 0.40918606 0.42994872 0.32090892\n",
      "  0.59476806 0.62487995 0.26563412 0.95942289 1.05099939 0.84968446\n",
      "  0.83317436 0.54903903 0.6744579  0.54862667 0.53492978 0.8535223\n",
      "  0.65264562 1.0112879  0.82426116 0.44624518 0.05389417 0.42230874\n",
      "  0.47318709 0.31822115 0.56842051 0.94084127 0.40522808 0.80469422\n",
      "  0.46056191 0.98362849 0.87470816 0.31520051 0.38600621 0.496546\n",
      "  0.91216726 0.62612666 0.95154873 0.56748069 0.45233365 0.15637074\n",
      "  1.01149936 0.12754789 0.26004763 0.91754962]\n",
      " [0.98420889 0.42902832 0.87989113 0.76832155 0.11324641 0.25809156\n",
      "  0.6169449  0.64261197 0.82341481 0.79732091 0.25271545 0.82951154\n",
      "  0.66933521 1.15287962 0.97095241 0.6412355  0.8692701  1.00554205\n",
      "  0.86439605 0.64259341 0.1249312  0.77339737 0.78698043 0.41056181\n",
      "  0.67645675 0.20314086 1.1524766  1.02207301 1.00184634 0.98478724\n",
      "  0.51680597 0.         0.04063382 0.82530421 0.91796925 0.3830315\n",
      "  0.64886603 0.66428489 0.90274619 0.59015975 0.5612876  0.82630269\n",
      "  0.8286062  0.8874266  0.78265381 0.4019162  0.8831821  0.97510709\n",
      "  0.24387382 0.64248942 0.67202925 0.99354987 0.67719609 0.24234742\n",
      "  0.53542018 0.94980684 0.4201071  0.7942216  0.58125329 0.82540349\n",
      "  0.43496179 0.86816431 0.76138431 0.93690364 0.8347604  0.75331389\n",
      "  1.03770064 0.39126256 0.58759305 0.88362048 0.40360743 1.05233561\n",
      "  0.83025296 1.26355474 1.03503063 0.18715968 0.5671164  0.52951459\n",
      "  0.7846068  0.75057379 0.99368191 0.8724953  0.25465167 0.99409681\n",
      "  0.29125495 0.80690083 0.81019003 0.20182523 0.86504738 0.47653056\n",
      "  1.13592302 0.83479891 1.15994849 0.85227494 0.68422632 0.67224031\n",
      "  0.86483629 0.64234482 0.60179474 0.88825692]\n",
      " [0.95604282 0.40339971 0.85214924 0.72944502 0.07811849 0.2325336\n",
      "  0.61370665 0.60212603 0.79224905 0.789133   0.24677018 0.80956051\n",
      "  0.62884663 1.12716163 0.95499969 0.60156212 0.83003782 0.97555681\n",
      "  0.82659929 0.61196404 0.16351298 0.74966526 0.74937696 0.38080296\n",
      "  0.6488809  0.20579306 1.12435711 0.99892539 0.97171762 0.95391744\n",
      "  0.52119612 0.04063382 0.         0.78478241 0.89504816 0.34569232\n",
      "  0.62758766 0.64636016 0.87689043 0.5503694  0.5206566  0.82753436\n",
      "  0.78908553 0.84967347 0.77971883 0.40808787 0.84492829 0.94256848\n",
      "  0.22013274 0.60209815 0.64939144 0.98066342 0.65052796 0.21087216\n",
      "  0.52228746 0.91240796 0.38616334 0.77911933 0.5550701  0.82373636\n",
      "  0.39631592 0.841839   0.75856133 0.89820367 0.7943173  0.71366254\n",
      "  1.00750743 0.35363889 0.54933075 0.86328911 0.36690245 1.02173192\n",
      "  0.80059084 1.23467362 1.00519639 0.15618969 0.569928   0.50234338\n",
      "  0.7640328  0.74040733 0.97988051 0.83297003 0.22693651 0.9634329\n",
      "  0.25754358 0.76626917 0.77098742 0.2100351  0.85868564 0.44348902\n",
      "  1.10612044 0.80683099 1.12917472 0.82882214 0.66032757 0.67509748\n",
      "  0.82427965 0.64484824 0.58812461 0.84958238]\n",
      " [0.76992561 0.66189272 0.72392615 0.29060778 0.72797074 0.69496326\n",
      "  1.01034171 0.21470198 0.60625681 1.05500114 0.82510504 0.87095941\n",
      "  0.15613039 0.94570095 1.03623831 0.27582196 0.28142857 0.7316064\n",
      "  0.37037654 0.57566447 0.94555706 0.76642594 0.36255661 0.60935277\n",
      "  0.65039934 0.85741766 0.88151224 0.91859286 0.7251957  0.69310458\n",
      "  1.03375988 0.82530421 0.78478241 0.         0.85900943 0.510221\n",
      "  0.76380821 0.82659184 0.78260336 0.30072729 0.27009925 1.21260459\n",
      "  0.24821131 0.38085479 1.12265877 0.97889544 0.3511707  0.63486451\n",
      "  0.71161699 0.18442425 0.74754215 1.10961495 0.6699205  0.65915305\n",
      "  0.84421365 0.42714815 0.54424194 0.94038622 0.65930396 1.17117362\n",
      "  0.44878537 0.75315098 1.10949654 0.34670556 0.02065119 0.23658024\n",
      "  0.74517996 0.49980778 0.36682051 0.89402333 0.50732265 0.74210914\n",
      "  0.65084502 0.94210844 0.75407053 0.69316679 1.04964711 0.63709606\n",
      "  0.83520792 0.99506418 1.09276677 0.2588618  0.680515   0.70471741\n",
      "  0.61316969 0.06974727 0.27061181 0.88367485 1.1293737  0.53935439\n",
      "  0.82183821 0.69683769 0.8095525  0.81075835 0.72788469 1.1215147\n",
      "  0.1187222  1.09647137 0.86440725 0.32710573]\n",
      " [0.16846514 0.49311653 0.14063258 0.56883772 0.82194548 0.66268911\n",
      "  0.48170414 0.70376095 0.25432756 0.3526556  0.69104439 0.11432441\n",
      "  0.81447089 0.24935427 0.19123732 0.62145501 0.61104982 0.23372269\n",
      "  0.5172619  0.33854878 0.9566773  0.14641385 0.49897503 0.52799816\n",
      "  0.26900478 0.75674813 0.28601949 0.10420786 0.23663475 0.25418984\n",
      "  0.61331022 0.91796925 0.89504816 0.85900943 0.         0.63006707\n",
      "  0.27083967 0.27415893 0.08283481 0.63456177 0.74254938 0.54205217\n",
      "  0.62435163 0.5195252  0.4559512  0.67055765 0.54785426 0.3100021\n",
      "  0.67504478 0.82319828 0.24594277 0.27299775 0.25897907 0.69246739\n",
      "  0.42131673 0.51689584 0.55517099 0.21973119 0.34607952 0.48342092\n",
      "  0.63083433 0.10612697 0.45865246 0.59254787 0.87963935 0.62258313\n",
      "  0.25663679 0.63024522 0.55760331 0.07471339 0.60573023 0.27771855\n",
      "  0.20878882 0.39835994 0.24412446 0.7428279  0.57983854 0.4011319\n",
      "  0.14409823 0.32593711 0.25158644 0.63585838 0.66982427 0.25087896\n",
      "  0.65967221 0.78972574 0.59603012 0.77824272 0.39016667 0.50005834\n",
      "  0.31114928 0.16218039 0.35547652 0.06742237 0.23540892 0.56395156\n",
      "  0.77124079 0.56115846 0.36376761 0.57603461]\n",
      " [0.65014186 0.19314717 0.55225336 0.38883689 0.26994017 0.18642889\n",
      "  0.5496686  0.2992882  0.47063018 0.65693557 0.31547608 0.57422091\n",
      "  0.36964573 0.83405875 0.74322342 0.27204996 0.49170132 0.65757189\n",
      "  0.48146202 0.30187837 0.48197134 0.48700594 0.40395926 0.1334026\n",
      "  0.36171593 0.35321625 0.81554388 0.72783783 0.65292475 0.63100195\n",
      "  0.5396602  0.3830315  0.34569232 0.510221   0.63006707 0.\n",
      "  0.39994944 0.44668264 0.59002037 0.2253521  0.24756389 0.77182934\n",
      "  0.45405162 0.50445885 0.69369782 0.4719853  0.50092553 0.61071454\n",
      "  0.20408043 0.35382225 0.40628375 0.79275522 0.37112221 0.15928718\n",
      "  0.3924641  0.56680293 0.07785139 0.58810991 0.29238457 0.7437525\n",
      "  0.06237508 0.5528882  0.6760056  0.55598869 0.52525708 0.38130302\n",
      "  0.68777549 0.01048641 0.20607214 0.62102249 0.02525671 0.69941652\n",
      "  0.48879433 0.91984537 0.68764906 0.20664806 0.56495668 0.24003753\n",
      "  0.52711758 0.59673559 0.78442351 0.49761805 0.17354917 0.64157857\n",
      "  0.10756795 0.4715791  0.43274383 0.38074753 0.73519693 0.13005028\n",
      "  0.7873724  0.50700923 0.80474152 0.56314543 0.40452139 0.65196695\n",
      "  0.51630404 0.62352732 0.43768589 0.50733711]\n",
      " [0.37233696 0.23219327 0.27206504 0.50219916 0.55651933 0.39655468\n",
      "  0.29354475 0.56767018 0.28650037 0.29122923 0.42064705 0.18342246\n",
      "  0.67497895 0.51475066 0.34481453 0.4916396  0.58325944 0.41594562\n",
      "  0.50881146 0.19104963 0.68602697 0.13330542 0.45345294 0.27795179\n",
      "  0.12878476 0.48650579 0.53212183 0.37496082 0.41475147 0.41145815\n",
      "  0.39128316 0.64886603 0.62758766 0.76380821 0.27083967 0.39994944\n",
      "  0.         0.06330195 0.27241914 0.4831108  0.57548712 0.45725469\n",
      "  0.57541043 0.52243123 0.36413873 0.42099373 0.54152057 0.43468764\n",
      "  0.40757978 0.67420615 0.03424107 0.39307757 0.11013648 0.43098173\n",
      "  0.16894603 0.55271225 0.32213191 0.19125912 0.11380299 0.41076859\n",
      "  0.41965654 0.24467604 0.3537948  0.60070413 0.78373921 0.54074651\n",
      "  0.44831315 0.4031148  0.40556009 0.23616255 0.3786588  0.46784468\n",
      "  0.26139049 0.64713121 0.44071908 0.47846212 0.37428201 0.16048956\n",
      "  0.13687486 0.2313465  0.38447562 0.60396211 0.40534567 0.41625189\n",
      "  0.40494248 0.70085319 0.54426278 0.5086434  0.36647212 0.27882131\n",
      "  0.53465161 0.23649187 0.57029053 0.20775081 0.06118434 0.40255946\n",
      "  0.7073329  0.38665157 0.13506945 0.5652994 ]\n",
      " [0.39919624 0.26655876 0.30547414 0.56535772 0.57886933 0.41999197\n",
      "  0.24136311 0.62896645 0.3377761  0.22885551 0.42481148 0.1693768\n",
      "  0.73547607 0.52329868 0.31064582 0.55375138 0.64551537 0.44915853\n",
      "  0.56957585 0.25434377 0.69020005 0.15857208 0.51578991 0.31876435\n",
      "  0.18993557 0.48943019 0.55082432 0.37540382 0.44875457 0.44934407\n",
      "  0.3526391  0.66428489 0.64636016 0.82659184 0.27415893 0.44668264\n",
      "  0.06330195 0.         0.29407937 0.54371896 0.63366381 0.3943976\n",
      "  0.63836053 0.58254021 0.30104633 0.39783595 0.6024074  0.478928\n",
      "  0.42870537 0.73382297 0.08829784 0.34894532 0.17057811 0.45934745\n",
      "  0.14716626 0.61042426 0.36959616 0.14228008 0.17185656 0.34749279\n",
      "  0.47168835 0.27230177 0.29110296 0.66104979 0.84646601 0.60404533\n",
      "  0.48053726 0.45082396 0.46679987 0.22402744 0.42687973 0.50091355\n",
      "  0.30770015 0.66559105 0.47165202 0.50301268 0.32909236 0.21201833\n",
      "  0.1301961  0.16849081 0.34319642 0.66646001 0.4308546  0.45279361\n",
      "  0.43937097 0.76390847 0.60720453 0.50914359 0.30498938 0.33142489\n",
      "  0.56081837 0.27597867 0.59934908 0.21935848 0.11520702 0.34674476\n",
      "  0.77063252 0.33317451 0.09319142 0.62661043]\n",
      " [0.1070311  0.47378287 0.05921535 0.49200269 0.80150428 0.64488726\n",
      "  0.52232166 0.63552416 0.17634657 0.41630607 0.68859102 0.1661008\n",
      "  0.74542783 0.25027173 0.27400696 0.5535063  0.53000085 0.16573269\n",
      "  0.43573084 0.28973297 0.951772   0.13933353 0.42091694 0.50045089\n",
      "  0.23125548 0.75457969 0.25970341 0.14439234 0.16723839 0.17921528\n",
      "  0.64526042 0.90274619 0.87689043 0.78260336 0.08283481 0.59002037\n",
      "  0.27241914 0.29407937 0.         0.57079288 0.68035594 0.60762281\n",
      "  0.54489017 0.43737952 0.51812312 0.68998817 0.46596843 0.23067057\n",
      "  0.65890428 0.75592834 0.241343   0.35557888 0.22689742 0.66935056\n",
      "  0.43691846 0.43406477 0.51846232 0.27730547 0.32182058 0.54980832\n",
      "  0.5835791  0.03722109 0.51837329 0.50991849 0.80318198 0.54684669\n",
      "  0.19366151 0.588958   0.49598074 0.14681416 0.56504549 0.21488965\n",
      "  0.13234529 0.37472529 0.18289218 0.72193788 0.61721018 0.37510425\n",
      "  0.17514973 0.38131539 0.33433658 0.55491426 0.64998838 0.17798616\n",
      "  0.63183474 0.71305205 0.51715047 0.77794377 0.46166088 0.46074517\n",
      "  0.26694297 0.09099931 0.3067602  0.08105832 0.22263157 0.61374329\n",
      "  0.69199159 0.60746334 0.38722116 0.49419625]\n",
      " [0.59461123 0.36117617 0.51812775 0.18826047 0.48061895 0.41094659\n",
      "  0.71204098 0.08780409 0.40729228 0.77203519 0.53800861 0.61822929\n",
      "  0.19186932 0.78412055 0.79079018 0.05178531 0.28242509 0.57913271\n",
      "  0.29990108 0.30857039 0.69895221 0.51510882 0.23245573 0.30943087\n",
      "  0.38656583 0.57843008 0.7424714  0.71503046 0.57326529 0.54459208\n",
      "  0.73324812 0.59015975 0.5503694  0.30072729 0.63456177 0.2253521\n",
      "  0.4831108  0.54371896 0.57079288 0.         0.11053952 0.91959871\n",
      "  0.2394831  0.32256243 0.8319021  0.68201449 0.30972809 0.50419819\n",
      "  0.42896814 0.19298555 0.47289546 0.85634697 0.40421448 0.38386012\n",
      "  0.54595349 0.38841922 0.24562378 0.66967413 0.37222212 0.88126096\n",
      "  0.16361987 0.53561976 0.81748019 0.35559263 0.31844796 0.16356444\n",
      "  0.60332243 0.21502077 0.07918118 0.65193504 0.21617127 0.60872477\n",
      "  0.44315339 0.83109636 0.60757005 0.42761247 0.7489848  0.34245101\n",
      "  0.57650932 0.71101818 0.8425256  0.28324736 0.39872041 0.55652889\n",
      "  0.33286715 0.25214031 0.2242346  0.60605062 0.84869522 0.23892879\n",
      "  0.69812582 0.47979357 0.70303717 0.57537919 0.45794323 0.82238995\n",
      "  0.29152645 0.79683144 0.57086047 0.30811783]\n",
      " [0.70509669 0.42133125 0.62825191 0.27479566 0.46001469 0.4280527\n",
      "  0.78102834 0.09189256 0.51782891 0.85944459 0.55852432 0.72080056\n",
      "  0.12224404 0.89453586 0.89405377 0.14379134 0.35243223 0.68871615\n",
      "  0.39071328 0.41128583 0.67896188 0.61907459 0.33150128 0.36343859\n",
      "  0.48870031 0.58813151 0.85185418 0.82470058 0.68278981 0.65374187\n",
      "  0.78466683 0.5612876  0.5206566  0.27009925 0.74254938 0.24756389\n",
      "  0.57548712 0.63366381 0.68035594 0.11053952 0.         0.99630533\n",
      "  0.3055693  0.41211841 0.91188047 0.71953544 0.39426254 0.61146017\n",
      "  0.44403309 0.10741524 0.56893728 0.95711058 0.50535745 0.3900192\n",
      "  0.61699263 0.47725464 0.29646665 0.76519853 0.46217674 0.96180166\n",
      "  0.18990959 0.64487842 0.89611609 0.4307269  0.28290641 0.23290113\n",
      "  0.71232607 0.23754815 0.18495671 0.75684597 0.24979588 0.71709731\n",
      "  0.55343925 0.93863139 0.71691228 0.42306764 0.80671934 0.42483463\n",
      "  0.67768405 0.79814759 0.94424581 0.34624502 0.41290671 0.66572518\n",
      "  0.34580518 0.2456148  0.29969453 0.61410019 0.9371437  0.30988724\n",
      "  0.80618008 0.58938564 0.8094343  0.68212526 0.55645684 0.88812204\n",
      "  0.30544914 0.86091534 0.65006488 0.38666422]\n",
      " [0.70902837 0.58000346 0.6460398  0.95927467 0.78671082 0.6610324\n",
      "  0.22576273 1.00706787 0.714506   0.19143805 0.58331507 0.44202522\n",
      "  1.10801196 0.74871947 0.4074464  0.93706017 1.03966321 0.77235018\n",
      "  0.9616804  0.64773416 0.78945478 0.51396477 0.91004234 0.64001907\n",
      "  0.58385467 0.62337801 0.8128875  0.60072371 0.77436656 0.78633139\n",
      "  0.31226498 0.82630269 0.82753436 1.21260459 0.54205217 0.77182934\n",
      "  0.45725469 0.3943976  0.60762281 0.91959871 0.99630533 0.\n",
      "  1.03266499 0.9733927  0.09427651 0.42804443 0.99464711 0.83199607\n",
      "  0.65861302 1.10171369 0.48144222 0.35545218 0.56421856 0.71237527\n",
      "  0.38053881 0.99585689 0.70491161 0.33170557 0.55384642 0.0589559\n",
      "  0.81483399 0.6049112  0.10365551 1.05211788 1.23195787 0.9961988\n",
      "  0.79767072 0.77922306 0.84692367 0.46741088 0.75923169 0.81891453\n",
      "  0.67618743 0.91438674 0.78554398 0.73271234 0.25988395 0.57720488\n",
      "  0.44632618 0.23610641 0.37429055 1.06078594 0.67779981 0.78558582\n",
      "  0.71936383 1.15244891 1.00151661 0.62580856 0.1618986  0.68670193\n",
      "  0.84971401 0.6336416  0.8953826  0.52908875 0.50673863 0.15619394\n",
      "  1.1631664  0.18481181 0.34879799 1.01952263]\n",
      " [0.523731   0.54118679 0.48568852 0.07625651 0.71794635 0.63239387\n",
      "  0.85135744 0.21438415 0.37008648 0.85996879 0.75240665 0.65123829\n",
      "  0.28020586 0.69756383 0.80837741 0.18782666 0.04727567 0.48360363\n",
      "  0.12232904 0.38559477 0.93465629 0.54933975 0.12790058 0.50347818\n",
      "  0.45017819 0.80017503 0.6336991  0.6761509  0.47719258 0.44507773\n",
      "  0.9041951  0.8286062  0.78908553 0.24821131 0.62435163 0.45405162\n",
      "  0.57541043 0.63836053 0.54489017 0.2394831  0.3055693  1.03266499\n",
      "  0.         0.13468264 0.93939537 0.87425305 0.10673233 0.3866731\n",
      "  0.65113554 0.30611446 0.55239916 0.88533559 0.47006848 0.61282525\n",
      "  0.69035716 0.18953165 0.45116068 0.73363485 0.48736142 0.98531969\n",
      "  0.39591145 0.51834786 0.92918114 0.12650985 0.26784996 0.07615488\n",
      "  0.49697872 0.44437358 0.25142439 0.66706256 0.43928147 0.49413556\n",
      "  0.41585546 0.69794651 0.50586679 0.66041813 0.90875221 0.48296587\n",
      "  0.62103262 0.80303907 0.86683674 0.04388937 0.62257461 0.45663742\n",
      "  0.56014215 0.17986579 0.03116101 0.82839273 0.92972782 0.42022145\n",
      "  0.57502135 0.46373952 0.56504409 0.58238614 0.52865835 0.96418036\n",
      "  0.1471353  0.94288435 0.69454359 0.0882765 ]\n",
      " [0.40119893 0.54446213 0.37889272 0.1373539  0.77439609 0.66570604\n",
      "  0.81221129 0.32679367 0.27193378 0.79141969 0.77406446 0.56377083\n",
      "  0.40863215 0.56783292 0.70884151 0.27391539 0.10084033 0.35545876\n",
      "  0.02318801 0.34627303 0.9835252  0.46828568 0.10069667 0.51980267\n",
      "  0.39367605 0.82877746 0.50091898 0.55930692 0.34908388 0.31703425\n",
      "  0.88468408 0.8874266  0.84967347 0.38085479 0.5195252  0.50445885\n",
      "  0.52243123 0.58254021 0.43737952 0.32256243 0.41211841 0.9733927\n",
      "  0.13468264 0.         0.87913458 0.8720461  0.03051602 0.25607832\n",
      "  0.68457638 0.43219223 0.49425095 0.7886658  0.41240906 0.65615188\n",
      "  0.66075575 0.06586527 0.4806852  0.65731069 0.45514281 0.92210132\n",
      "  0.45460437 0.41585493 0.87151321 0.07872837 0.39993346 0.18492273\n",
      "  0.36615271 0.49616725 0.30113615 0.57098437 0.48478115 0.36188728\n",
      "  0.31707424 0.56326666 0.37581459 0.70821561 0.88125286 0.4661507\n",
      "  0.54049775 0.73843371 0.76864965 0.12537956 0.6590331  0.32815329\n",
      "  0.60328465 0.31367778 0.12153981 0.85708317 0.85581391 0.43622525\n",
      "  0.44104052 0.36569164 0.43036845 0.48669348 0.46779433 0.92347823\n",
      "  0.27149239 0.90541674 0.65212866 0.05818516]\n",
      " [0.62118119 0.50066525 0.55447533 0.8663372  0.73235789 0.5969052\n",
      "  0.16601252 0.91902535 0.62058599 0.10343692 0.53301704 0.35204483\n",
      "  1.02153942 0.67313767 0.33883512 0.8475768  0.94584766 0.683535\n",
      "  0.86748524 0.55499287 0.75912092 0.42037887 0.81631184 0.56068365\n",
      "  0.4900775  0.58007239 0.73263436 0.52176334 0.6852882  0.69606407\n",
      "  0.2863402  0.78265381 0.77971883 1.12265877 0.4559512  0.69369782\n",
      "  0.36413873 0.30104633 0.51812312 0.8319021  0.91188047 0.09427651\n",
      "  0.93939537 0.87913458 0.         0.39700571 0.90045823 0.7402555\n",
      "  0.59659171 1.01635754 0.38762283 0.30087593 0.47038333 0.64719647\n",
      "  0.30137771 0.90168173 0.62406645 0.2409499  0.46336343 0.05012452\n",
      "  0.73358567 0.51364622 0.02132738 0.957861   1.14218098 0.90410852\n",
      "  0.70976789 0.7005437  0.75804382 0.3812972  0.67957506 0.7310637\n",
      "  0.58266589 0.83735434 0.69793963 0.67265516 0.23270288 0.48963423\n",
      "  0.35363329 0.14218252 0.31608133 0.96710405 0.61297681 0.695774\n",
      "  0.6490966  1.06168499 0.90823756 0.58643508 0.10660755 0.60201016\n",
      "  0.76596842 0.54066899 0.81101656 0.43861997 0.41270856 0.14920523\n",
      "  1.07096331 0.16719087 0.26189491 0.92539962]\n",
      " [0.79264926 0.33309793 0.69304178 0.79902075 0.38114618 0.30094318\n",
      "  0.24018896 0.76475973 0.69132575 0.43709495 0.18219842 0.5601405\n",
      "  0.84162474 0.91986992 0.65505334 0.71906161 0.89977242 0.83674402\n",
      "  0.8526889  0.53448904 0.36292218 0.55127583 0.78003062 0.37483441\n",
      "  0.51852568 0.20258767 0.94832526 0.76898348 0.83538924 0.83053468\n",
      "  0.11589598 0.4019162  0.40808787 0.97889544 0.67055765 0.4719853\n",
      "  0.42099373 0.39783595 0.68998817 0.68201449 0.71953544 0.42804443\n",
      "  0.87425305 0.8720461  0.39700571 0.         0.88166202 0.84746341\n",
      "  0.28962042 0.8253652  0.45458701 0.65403186 0.50733316 0.34967226\n",
      "  0.25315567 0.91919181 0.43643622 0.48406858 0.42900151 0.43441826\n",
      "  0.53142837 0.66477672 0.37587061 0.94308692 0.99490892 0.8133421\n",
      "  0.86921689 0.48206809 0.63219099 0.61275487 0.47203595 0.88858965\n",
      "  0.67534382 1.06322508 0.86171159 0.34753302 0.16846399 0.40684133\n",
      "  0.52667923 0.40622609 0.66050379 0.91360087 0.31826351 0.83600245\n",
      "  0.38031148 0.93414537 0.84629811 0.2000928  0.49211382 0.45522508\n",
      "  0.95502323 0.65625913 0.99124786 0.61714202 0.47896456 0.27226417\n",
      "  0.96902781 0.24323897 0.30679203 0.89848024]\n",
      " [0.43148199 0.55181956 0.40726044 0.12167339 0.77048274 0.66687723\n",
      "  0.82936017 0.3068444  0.29842656 0.81414013 0.77821028 0.589425\n",
      "  0.38413965 0.59829216 0.7366127  0.25962701 0.07046642 0.38597473\n",
      "  0.03300242 0.3613584  0.98182881 0.49255799 0.10255583 0.52413249\n",
      "  0.41279362 0.83148997 0.53099356 0.58917018 0.3795997  0.34754866\n",
      "  0.89797771 0.8831821  0.84492829 0.3511707  0.54785426 0.50092553\n",
      "  0.54152057 0.6024074  0.46596843 0.30972809 0.39426254 0.99464711\n",
      "  0.10673233 0.03051602 0.90045823 0.88166202 0.         0.28654506\n",
      "  0.68578373 0.4086069  0.51424911 0.81608127 0.43188582 0.65498022\n",
      "  0.6756006  0.08473038 0.48179115 0.68120492 0.46961333 0.94402295\n",
      "  0.44879976 0.44364857 0.89234303 0.06155506 0.37010389 0.16344397\n",
      "  0.39656797 0.4922593  0.29560773 0.59806623 0.48225988 0.3921201\n",
      "  0.34392548 0.59194761 0.40628192 0.70617275 0.89618281 0.47740596\n",
      "  0.56488792 0.76034623 0.79627373 0.09488587 0.65945903 0.35866911\n",
      "  0.60194711 0.28446447 0.09758858 0.85983852 0.87957395 0.44003132\n",
      "  0.47068114 0.39261316 0.45912229 0.51355863 0.48821154 0.94112145\n",
      "  0.24108836 0.92239317 0.66955305 0.02827335]\n",
      " [0.15714658 0.56446402 0.18597266 0.36008456 0.86445383 0.72384735\n",
      "  0.71982656 0.54168658 0.1584386  0.64081917 0.80144155 0.39116538\n",
      "  0.6405261  0.31175606 0.49880277 0.46851551 0.35690342 0.10112372\n",
      "  0.26454164 0.33663257 1.04824633 0.32599266 0.28885589 0.5671027\n",
      "  0.32996714 0.86485274 0.24829224 0.32022916 0.09494755 0.06421388\n",
      "  0.82597077 0.97510709 0.94256848 0.63486451 0.3100021  0.61071454\n",
      "  0.43468764 0.478928   0.23067057 0.50419819 0.61146017 0.83199607\n",
      "  0.3866731  0.25607832 0.7402555  0.84746341 0.28654506 0.\n",
      "  0.74110027 0.65915169 0.40055077 0.58111455 0.34016241 0.73275967\n",
      "  0.60147013 0.22832734 0.55705753 0.50034127 0.42539772 0.7752134\n",
      "  0.58104047 0.22730398 0.73823373 0.31306988 0.65439008 0.41718469\n",
      "  0.11032913 0.60579949 0.44801059 0.37747833 0.58620494 0.10869998\n",
      "  0.17340764 0.32717343 0.11973704 0.78794752 0.80718651 0.46390219\n",
      "  0.38717007 0.59967571 0.55885636 0.38142754 0.72338117 0.07390098\n",
      "  0.68509554 0.5663877  0.36630657 0.8914323  0.6907715  0.49910348\n",
      "  0.19543232 0.20394765 0.19943393 0.30406205 0.37368059 0.82099573\n",
      "  0.52754271 0.81031392 0.56783512 0.31333375]\n",
      " [0.74157393 0.18535173 0.6369681  0.58172905 0.15016648 0.01891022\n",
      "  0.43417974 0.50288292 0.58618755 0.58964012 0.11509149 0.58996133\n",
      "  0.56576131 0.90901076 0.73883445 0.47416721 0.68561942 0.76529274\n",
      "  0.6623828  0.40512169 0.30762279 0.52993672 0.58456049 0.17444505\n",
      "  0.43364873 0.14969845 0.90968538 0.77900234 0.76185638 0.74630675\n",
      "  0.3798798  0.24387382 0.22013274 0.71161699 0.67504478 0.20408043\n",
      "  0.40757978 0.42870537 0.65890428 0.42896814 0.44403309 0.65861302\n",
      "  0.65113554 0.68457638 0.59659171 0.28962042 0.68578373 0.74110027\n",
      "  0.         0.54639994 0.42929236 0.76915278 0.43371476 0.06006175\n",
      "  0.31453569 0.74268589 0.20402275 0.56472596 0.33762024 0.64414672\n",
      "  0.26643521 0.62443672 0.57627706 0.7440508  0.7258066  0.58084345\n",
      "  0.79776035 0.21453878 0.39974924 0.64348511 0.21364318 0.8131467\n",
      "  0.58983474 1.02145917 0.79447798 0.07734794 0.41762018 0.28668274\n",
      "  0.54418307 0.53637781 0.76679675 0.69399161 0.03113388 0.75515606\n",
      "  0.09844951 0.67527397 0.62752016 0.17764595 0.66344043 0.25154206\n",
      "  0.89517966 0.59212594 0.92090676 0.60898544 0.44066127 0.51753883\n",
      "  0.72027038 0.48709323 0.37795471 0.69595982]\n",
      " [0.76883626 0.52842995 0.70099089 0.30194433 0.54803184 0.53110829\n",
      "  0.88768745 0.12088701 0.58604474 0.96110289 0.66137937 0.81093387\n",
      "  0.03106584 0.95590006 0.98319066 0.20243782 0.35248102 0.74473446\n",
      "  0.41374467 0.50147939 0.76387105 0.70746773 0.37052738 0.47076994\n",
      "  0.57948588 0.68753434 0.90547626 0.8992203  0.73854321 0.70793107\n",
      "  0.89193022 0.64248942 0.60209815 0.18442425 0.82319828 0.35382225\n",
      "  0.67420615 0.73382297 0.75592834 0.19298555 0.10741524 1.10171369\n",
      "  0.30611446 0.43219223 1.01635754 0.8253652  0.4086069  0.65915169\n",
      "  0.54639994 0.         0.66523301 1.04927782 0.59719534 0.49055089\n",
      "  0.72316749 0.49327397 0.40379017 0.86203171 0.5619665  1.06614722\n",
      "  0.29717545 0.72187345 1.00096154 0.43119022 0.19244801 0.24794752\n",
      "  0.76523065 0.3439813  0.27215508 0.8436693  0.35700204 0.76732459\n",
      "  0.62542816 0.9839578  0.77138698 0.51927219 0.91413334 0.52764408\n",
      "  0.76945242 0.89987631 1.03532439 0.3391615  0.51539164 0.71999981\n",
      "  0.44889077 0.18434067 0.31117346 0.71271863 1.03836848 0.41502421\n",
      "  0.85436713 0.66528497 0.85211822 0.7657799  0.65077877 0.99520034\n",
      "  0.25438766 0.96811125 0.75446729 0.39399998]\n",
      " [0.33961997 0.24927793 0.23851469 0.48032423 0.57694153 0.41729051\n",
      "  0.32553345 0.5558108  0.25331637 0.30900418 0.44859792 0.16883256\n",
      "  0.66448304 0.48634    0.33719286 0.47800201 0.55823702 0.3821769\n",
      "  0.48138961 0.17200757 0.71322214 0.10349634 0.42869457 0.29011614\n",
      "  0.10246089 0.51458113 0.5008258  0.35008263 0.3808974  0.3773003\n",
      "  0.42543724 0.67202925 0.64939144 0.74754215 0.24594277 0.40628375\n",
      "  0.03424107 0.08829784 0.241343   0.47289546 0.56893728 0.48144222\n",
      "  0.55239916 0.49425095 0.38762283 0.45458701 0.51424911 0.40055077\n",
      "  0.42929236 0.66523301 0.         0.39142719 0.08277634 0.44905723\n",
      "  0.20300285 0.52251905 0.3285889  0.19680464 0.11423038 0.43297976\n",
      "  0.42103645 0.21232417 0.37852326 0.57277728 0.76767077 0.52109133\n",
      "  0.41462992 0.40860522 0.39437094 0.21878066 0.38390345 0.43404722\n",
      "  0.22732059 0.61571856 0.40721132 0.49817964 0.40784577 0.16670526\n",
      "  0.12146928 0.25086072 0.38093057 0.57950131 0.42503214 0.3821739\n",
      "  0.41982664 0.6834036  0.52124264 0.53736575 0.38199441 0.280993\n",
      "  0.50178559 0.20236406 0.53692583 0.18079652 0.02775259 0.43336677\n",
      "  0.68695446 0.41835846 0.16833131 0.53860715]\n",
      " [0.43044433 0.61543103 0.41161013 0.82374652 0.91831207 0.76260463\n",
      "  0.41710693 0.93480131 0.51817257 0.22098461 0.74307888 0.23951134\n",
      "  1.04545451 0.4119803  0.08231831 0.85381133 0.87651528 0.49625239\n",
      "  0.78458378 0.54779859 0.99831876 0.34422499 0.75779925 0.66729054\n",
      "  0.46979197 0.80232329 0.4883246  0.28304093 0.50030656 0.52223995\n",
      "  0.55944171 0.99354987 0.98066342 1.10961495 0.27299775 0.79275522\n",
      "  0.39307757 0.34894532 0.35557888 0.85634697 0.95711058 0.35545218\n",
      "  0.88533559 0.7886658  0.30087593 0.65403186 0.81608127 0.58111455\n",
      "  0.76915278 1.04927782 0.39142719 0.         0.45225492 0.80504508\n",
      "  0.45843884 0.78931262 0.71502242 0.20691426 0.50454802 0.30096434\n",
      "  0.81187135 0.3730356  0.31534893 0.8633108  1.13022328 0.87400198\n",
      "  0.5128394  0.79611729 0.77716736 0.21849308 0.77170701 0.53243181\n",
      "  0.47237577 0.57763969 0.49935036 0.84546331 0.51034489 0.553557\n",
      "  0.27984164 0.24898703 0.02352957 0.90089385 0.77491475 0.51718217\n",
      "  0.7878187  1.04168527 0.85573149 0.81632057 0.19733318 0.67124549\n",
      "  0.53808902 0.42370876 0.58503167 0.30329791 0.40104304 0.44691411\n",
      "  1.03060568 0.45910094 0.39258172 0.84400893]\n",
      " [0.30892933 0.2483783  0.2039894  0.398583   0.57479748 0.4191084\n",
      "  0.40265981 0.48412324 0.18473913 0.39025923 0.47333828 0.21566946\n",
      "  0.59420558 0.47697718 0.38910688 0.40435785 0.47546681 0.33957031\n",
      "  0.39908997 0.09613367 0.73191871 0.11763282 0.34596123 0.27371218\n",
      "  0.01993139 0.53871966 0.47648424 0.3581656  0.33708697 0.3274464\n",
      "  0.49199523 0.67719609 0.65052796 0.6699205  0.25897907 0.37112221\n",
      "  0.11013648 0.17057811 0.22689742 0.40421448 0.50535745 0.56421856\n",
      "  0.47006848 0.41240906 0.47038333 0.50733316 0.43188582 0.34016241\n",
      "  0.43371476 0.59719534 0.08277634 0.45225492 0.         0.4424717\n",
      "  0.26477189 0.44289752 0.29632536 0.27051082 0.09621538 0.51556772\n",
      "  0.37457084 0.19136329 0.46127143 0.49077582 0.69021907 0.44079333\n",
      "  0.37252826 0.3714524  0.32504027 0.2554063  0.34687507 0.39010875\n",
      "  0.16925652 0.5892637  0.36733245 0.49523712 0.47961687 0.14829876\n",
      "  0.17246271 0.33297119 0.43894165 0.49678314 0.42359694 0.33430561\n",
      "  0.40533383 0.60472752 0.43892601 0.56372536 0.46174012 0.24116951\n",
      "  0.46651717 0.16019332 0.49670096 0.19203717 0.05879169 0.51245355\n",
      "  0.60591245 0.49593374 0.24288894 0.45603278]\n",
      " [0.74596312 0.19978882 0.64248783 0.54614127 0.13334822 0.05186238\n",
      "  0.48700873 0.45353306 0.58151135 0.63415479 0.17329287 0.61440328\n",
      "  0.51096844 0.91942618 0.76983962 0.43126148 0.64956562 0.76470148\n",
      "  0.63349179 0.40109592 0.32746155 0.54616231 0.55550354 0.17032955\n",
      "  0.4396964  0.19826542 0.91423237 0.79553799 0.76085017 0.74311005\n",
      "  0.43891004 0.24234742 0.21087216 0.65915305 0.69246739 0.15928718\n",
      "  0.43098173 0.45934745 0.66935056 0.38386012 0.3900192  0.71237527\n",
      "  0.61282525 0.65615188 0.64719647 0.34967226 0.65498022 0.73275967\n",
      "  0.06006175 0.49055089 0.44905723 0.80504508 0.4424717  0.\n",
      "  0.35739103 0.71646153 0.17936014 0.59884408 0.34823635 0.69547407\n",
      "  0.22024721 0.63374135 0.62725027 0.7116409  0.67270905 0.54050384\n",
      "  0.79663648 0.16934113 0.3630054  0.66673318 0.1739069  0.81088091\n",
      "  0.58981641 1.02409639 0.79435989 0.05518801 0.47538834 0.29427029\n",
      "  0.56767419 0.57887591 0.80124299 0.65624637 0.03461552 0.75258769\n",
      "  0.05307602 0.6256679  0.59081392 0.22474284 0.70942352 0.2344651\n",
      "  0.89528279 0.59701856 0.91835608 0.62547265 0.45707199 0.57400292\n",
      "  0.67355815 0.54370805 0.41793897 0.6631373 ]\n",
      " [0.53956947 0.19973855 0.44072261 0.61429655 0.461611   0.31049163\n",
      "  0.16616257 0.63375352 0.44904021 0.27682127 0.28723942 0.31498041\n",
      "  0.73099391 0.67037032 0.43750278 0.56900795 0.70679415 0.58476712\n",
      "  0.64414038 0.31451085 0.5496161  0.29812024 0.57904421 0.25981531\n",
      "  0.27912416 0.34958847 0.69566588 0.52235602 0.58364216 0.58027173\n",
      "  0.22752386 0.53542018 0.52228746 0.84421365 0.42131673 0.3924641\n",
      "  0.16894603 0.14716626 0.43691846 0.54595349 0.61699263 0.38053881\n",
      "  0.69035716 0.66075575 0.30137771 0.25315567 0.6756006  0.60147013\n",
      "  0.31453569 0.72316749 0.20300285 0.45843884 0.26477189 0.35739103\n",
      "  0.         0.69942948 0.3243745  0.26007502 0.20600649 0.35137181\n",
      "  0.43429555 0.41170036 0.2835416  0.73672543 0.86282316 0.64213278\n",
      "  0.61703871 0.39948324 0.47765543 0.36922395 0.37897854 0.63668456\n",
      "  0.42813883 0.81066101 0.60922017 0.39180032 0.22058635 0.20961492\n",
      "  0.27734885 0.22195894 0.45826194 0.72462903 0.3247092  0.58517325\n",
      "  0.35192688 0.78806808 0.66002    0.36716662 0.35274023 0.30882588\n",
      "  0.70192658 0.40536464 0.73850358 0.36519817 0.22862395 0.27766217\n",
      "  0.80771621 0.25395343 0.06660966 0.69644731]\n",
      " [0.3825502  0.59590351 0.3778431  0.20276454 0.83663765 0.72388778\n",
      "  0.84545717 0.39090525 0.28307033 0.81014942 0.82884543 0.57356454\n",
      "  0.46858398 0.53589727 0.7080282  0.33973355 0.14744184 0.32942321\n",
      "  0.0886261  0.3871302  1.04391141 0.48415415 0.16331052 0.575082\n",
      "  0.42528844 0.88508493 0.46288067 0.54464463 0.3232711  0.29224047\n",
      "  0.92555136 0.94980684 0.91240796 0.42714815 0.51689584 0.56680293\n",
      "  0.55271225 0.61042426 0.43406477 0.38841922 0.47725464 0.99585689\n",
      "  0.18953165 0.06586527 0.90168173 0.91919181 0.08473038 0.22832734\n",
      "  0.74268589 0.49327397 0.52251905 0.78931262 0.44289752 0.71646153\n",
      "  0.69942948 0.         0.53942381 0.67290163 0.49587123 0.94278665\n",
      "  0.51837174 0.41747694 0.89546204 0.08603344 0.44519535 0.24788961\n",
      "  0.33464409 0.55877007 0.36514111 0.57451553 0.54647411 0.32702539\n",
      "  0.32528917 0.51548846 0.34574303 0.76915339 0.91897765 0.51235135\n",
      "  0.5552237  0.75983208 0.76832275 0.16847569 0.71793499 0.30222762\n",
      "  0.66382327 0.36278416 0.18231794 0.91330188 0.8709389  0.49246763\n",
      "  0.39942517 0.37251483 0.38344383 0.49202902 0.49524544 0.95526686\n",
      "  0.31228199 0.93876079 0.68543416 0.10199076]\n",
      " [0.58391178 0.12557642 0.48364959 0.37975117 0.30810544 0.18512455\n",
      "  0.48602624 0.32955839 0.41003034 0.58287589 0.30125293 0.49675844\n",
      "  0.41515461 0.76497448 0.66542011 0.28365031 0.48358593 0.59600906\n",
      "  0.4584197  0.23423272 0.50552237 0.41104875 0.38055888 0.06698043\n",
      "  0.2882118  0.35058573 0.75090128 0.65418895 0.59171437 0.57175764\n",
      "  0.49081424 0.4201071  0.38616334 0.54424194 0.55517099 0.07785139\n",
      "  0.32213191 0.36959616 0.51846232 0.24562378 0.29646665 0.70491161\n",
      "  0.45116068 0.4806852  0.62406645 0.43643622 0.48179115 0.55705753\n",
      "  0.20402275 0.40379017 0.3285889  0.71502242 0.29632536 0.17936014\n",
      "  0.3243745  0.53942381 0.         0.51068173 0.21489159 0.6741909\n",
      "  0.10994643 0.48154102 0.60705129 0.54027828 0.56098898 0.38388031\n",
      "  0.62711919 0.08125688 0.20078945 0.54404614 0.0573977  0.64006184\n",
      "  0.4237736  0.85767938 0.62599474 0.23391323 0.51068813 0.16220367\n",
      "  0.44958696 0.52226433 0.7065981  0.49326978 0.17851528 0.58181642\n",
      "  0.12885557 0.49776237 0.42619184 0.37893082 0.66123073 0.05934633\n",
      "  0.72654438 0.43807013 0.74673834 0.48798993 0.32742569 0.59193794\n",
      "  0.53375634 0.56453508 0.36514371 0.49233609]\n",
      " [0.38134121 0.40856642 0.31436969 0.66507877 0.71453045 0.55739314\n",
      "  0.27002577 0.75219919 0.38983148 0.14050306 0.54731438 0.11121627\n",
      "  0.86117878 0.45542173 0.17744489 0.67366921 0.73330769 0.44290626\n",
      "  0.64833131 0.36571824 0.80864936 0.18920777 0.60658671 0.46101271\n",
      "  0.28998689 0.60930554 0.50382456 0.30048637 0.44453505 0.45513766\n",
      "  0.40918606 0.7942216  0.77911933 0.94038622 0.21973119 0.58810991\n",
      "  0.19125912 0.14228008 0.27730547 0.66967413 0.76519853 0.33170557\n",
      "  0.73363485 0.65731069 0.2409499  0.48406858 0.68120492 0.50034127\n",
      "  0.56472596 0.86203171 0.19680464 0.20691426 0.27051082 0.59884408\n",
      "  0.26007502 0.67290163 0.51068173 0.         0.3049182  0.27495372\n",
      "  0.61055183 0.27320573 0.24118817 0.73556243 0.96070487 0.70988594\n",
      "  0.46971582 0.59193287 0.59105478 0.14697188 0.56776671 0.49102256\n",
      "  0.34876295 0.61367868 0.45815889 0.64042437 0.36972451 0.35072375\n",
      "  0.11769326 0.10620614 0.20241972 0.75618419 0.56922384 0.45483084\n",
      "  0.58091472 0.87489535 0.70277906 0.62592775 0.19852411 0.46974309\n",
      "  0.53077964 0.30409452 0.57470484 0.19769131 0.21316412 0.34472808\n",
      "  0.87343879 0.34350041 0.19350989 0.70763825]\n",
      " [0.40499112 0.15227022 0.30009176 0.41184532 0.47983159 0.32321996\n",
      "  0.36402311 0.45805531 0.26704381 0.39981315 0.3794008  0.28187065\n",
      "  0.56382823 0.57209218 0.45141692 0.38454222 0.50171862 0.43352735\n",
      "  0.43824023 0.10902006 0.63615103 0.19985835 0.37334537 0.18191864\n",
      "  0.09860741 0.44432969 0.57267836 0.44814038 0.43071662 0.41898576\n",
      "  0.42994872 0.58125329 0.5550701  0.65930396 0.34607952 0.29238457\n",
      "  0.11380299 0.17185656 0.32182058 0.37222212 0.46217674 0.55384642\n",
      "  0.48736142 0.45514281 0.46336343 0.42900151 0.46961333 0.42539772\n",
      "  0.33762024 0.5619665  0.11423038 0.50454802 0.09621538 0.34823635\n",
      "  0.20600649 0.49587123 0.21489159 0.3049182  0.         0.51191444\n",
      "  0.30733328 0.28692878 0.45046518 0.53078618 0.67886152 0.4441853\n",
      "  0.46641716 0.29449844 0.29606237 0.32957013 0.26977237 0.48333949\n",
      "  0.26003467 0.68529856 0.46182189 0.40028013 0.42657472 0.05509003\n",
      "  0.23473384 0.33881784 0.49468633 0.52019885 0.32817359 0.42657996\n",
      "  0.31364048 0.59860688 0.4566509  0.46984502 0.47661293 0.16690615\n",
      "  0.56160965 0.25589769 0.59055087 0.27870515 0.11311261 0.47682723\n",
      "  0.6111067  0.45589572 0.208211   0.49048043]\n",
      " [0.65065885 0.5507469  0.58924867 0.912739   0.77816611 0.64492094\n",
      "  0.2111396  0.96827003 0.66061894 0.13446205 0.57739557 0.38459344\n",
      "  1.07113778 0.69022607 0.34974094 0.89635545 0.99074188 0.71421671\n",
      "  0.91102416 0.60181371 0.79732638 0.45954648 0.86145925 0.61077433\n",
      "  0.53537541 0.6223948  0.7539812  0.54185594 0.71631515 0.72873275\n",
      "  0.32090892 0.82540349 0.82373636 1.17117362 0.48342092 0.7437525\n",
      "  0.41076859 0.34749279 0.54980832 0.88126096 0.96180166 0.0589559\n",
      "  0.98531969 0.92210132 0.05012452 0.43441826 0.94402295 0.7752134\n",
      "  0.64414672 1.06614722 0.43297976 0.30096434 0.51556772 0.69547407\n",
      "  0.35137181 0.94278665 0.6741909  0.27495372 0.51191444 0.\n",
      "  0.78370649 0.54795974 0.06844075 1.00081321 1.19076727 0.95135575\n",
      "  0.73928415 0.75062442 0.80707383 0.40883098 0.72968594 0.76050974\n",
      "  0.62145318 0.85576073 0.72709358 0.71983635 0.26704749 0.53915841\n",
      "  0.39077273 0.18368733 0.3188712  1.01229327 0.66115278 0.7277943\n",
      "  0.69828673 1.10979964 0.95415942 0.62747757 0.10474639 0.65195491\n",
      "  0.7907879  0.57814092 0.83648542 0.47176937 0.45741239 0.17226733\n",
      "  1.11806176 0.19587732 0.31174945 0.96930468]\n",
      " [0.63455646 0.2353747  0.5410714  0.33343135 0.32297739 0.24880323\n",
      "  0.59574018 0.23705641 0.4498354  0.68986889 0.37766341 0.58551174\n",
      "  0.31104404 0.82175591 0.75739801 0.21149124 0.4350781  0.63589639\n",
      "  0.4314436  0.2941207  0.53874681 0.49216117 0.35507025 0.17595882\n",
      "  0.36232895 0.41543236 0.79678786 0.7248703  0.63086827 0.60688034\n",
      "  0.59476806 0.43496179 0.39631592 0.44878537 0.63083433 0.06237508\n",
      "  0.41965654 0.47168835 0.5835791  0.16361987 0.18990959 0.81483399\n",
      "  0.39591145 0.45460437 0.73358567 0.53142837 0.44879976 0.58104047\n",
      "  0.26643521 0.29717545 0.42103645 0.81187135 0.37457084 0.22024721\n",
      "  0.43429555 0.51837174 0.10994643 0.61055183 0.30733328 0.78370649\n",
      "  0.         0.54638801 0.71673783 0.50194756 0.46415687 0.32204262\n",
      "  0.66482148 0.05190193 0.15349541 0.62917517 0.05991577 0.6749119\n",
      "  0.47319338 0.89750141 0.66586626 0.26506393 0.61743715 0.2599737\n",
      "  0.5392476  0.62891867 0.80191915 0.43969323 0.23583735 0.6179482\n",
      "  0.1694354  0.40927494 0.37597152 0.44287589 0.76820965 0.14083825\n",
      "  0.76402347 0.49686635 0.7781664  0.56513499 0.41519684 0.70091494\n",
      "  0.45409607 0.67317921 0.47375204 0.45330747]\n",
      " [0.12787306 0.43913965 0.04166872 0.46283615 0.76615914 0.61014868\n",
      "  0.50632395 0.60174502 0.14826622 0.41361451 0.65697562 0.16396446\n",
      "  0.71200106 0.28570123 0.29299584 0.51957098 0.50580567 0.17787355\n",
      "  0.41259198 0.25251322 0.91919214 0.11408979 0.39284819 0.46446939\n",
      "  0.19484646 0.7229026  0.28946111 0.18053333 0.17807247 0.18369149\n",
      "  0.62487995 0.86816431 0.841839   0.75315098 0.10612697 0.5528882\n",
      "  0.24467604 0.27230177 0.03722109 0.53561976 0.64487842 0.6049112\n",
      "  0.51834786 0.41585493 0.51364622 0.66477672 0.44364857 0.22730398\n",
      "  0.62443672 0.72187345 0.21232417 0.3730356  0.19136329 0.63374135\n",
      "  0.41170036 0.41747694 0.48154102 0.27320573 0.28692878 0.54795974\n",
      "  0.54638801 0.         0.51237261 0.49028383 0.77377143 0.51684784\n",
      "  0.20856897 0.55178504 0.46025484 0.15707983 0.52789708 0.22922272\n",
      "  0.1026619  0.40399717 0.19938871 0.68659983 0.59922743 0.33965944\n",
      "  0.16269509 0.37409094 0.35281518 0.53051675 0.61490251 0.18490939\n",
      "  0.59564909 0.68379695 0.48993612 0.74668415 0.46422771 0.42370324\n",
      "  0.29024804 0.056931   0.32734866 0.0772187  0.19162907 0.60164844\n",
      "  0.66517543 0.59364804 0.36532667 0.47171786]\n",
      " [0.62244327 0.4831526  0.55283696 0.85568548 0.71149841 0.57681039\n",
      "  0.14488017 0.90478776 0.61539349 0.10868541 0.51188753 0.35236543\n",
      "  1.00659684 0.68025623 0.34939537 0.83410803 0.93657953 0.68404819\n",
      "  0.85940959 0.54412342 0.73787589 0.41620291 0.80688254 0.54321687\n",
      "  0.48082538 0.55877304 0.73777481 0.52784571 0.68560849 0.69544444\n",
      "  0.26563412 0.76138431 0.75856133 1.10949654 0.45865246 0.6760056\n",
      "  0.3537948  0.29110296 0.51837329 0.81748019 0.89611609 0.10365551\n",
      "  0.92918114 0.87151321 0.02132738 0.37587061 0.89234303 0.73823373\n",
      "  0.57627706 1.00096154 0.37852326 0.31534893 0.46127143 0.62725027\n",
      "  0.2835416  0.89546204 0.60705129 0.24118817 0.45046518 0.06844075\n",
      "  0.71673783 0.51237261 0.         0.95020886 1.12891645 0.89255071\n",
      "  0.710879   0.68298905 0.74421652 0.38424421 0.66226148 0.73218578\n",
      "  0.57839625 0.84370451 0.69925988 0.6521957  0.21212301 0.47503991\n",
      "  0.35108995 0.13857471 0.32961919 0.95756276 0.59297019 0.69552429\n",
      "  0.62984599 1.0490603  0.89803891 0.56510779 0.12418112 0.58624182\n",
      "  0.76941741 0.53735332 0.8140969  0.43824288 0.40416131 0.13213148\n",
      "  1.05951402 0.14818685 0.24674701 0.91699048]\n",
      " [0.46531917 0.6128788  0.45218462 0.16910752 0.82465943 0.72514124\n",
      "  0.88968238 0.34022738 0.3486731  0.87002605 0.83801006 0.64090145\n",
      "  0.40425904 0.62180725 0.78286543 0.30417258 0.07927252 0.41416501\n",
      "  0.0926445  0.42232351 1.03774178 0.54643208 0.16339058 0.58419624\n",
      "  0.47192038 0.89053198 0.54883128 0.62628407 0.40794399 0.37655832\n",
      "  0.95942289 0.93690364 0.89820367 0.34670556 0.59254787 0.55598869\n",
      "  0.60070413 0.66104979 0.50991849 0.35559263 0.4307269  1.05211788\n",
      "  0.12650985 0.07872837 0.957861   0.94308692 0.06155506 0.31306988\n",
      "  0.7440508  0.43119022 0.57277728 0.8633108  0.49077582 0.7116409\n",
      "  0.73672543 0.08603344 0.54027828 0.73556243 0.53078618 1.00081321\n",
      "  0.50194756 0.49028383 0.95020886 0.         0.36395274 0.19812835\n",
      "  0.42035771 0.54702101 0.34994664 0.64638609 0.53821955 0.41301337\n",
      "  0.39325783 0.59908309 0.4312818  0.76207608 0.95731089 0.53896072\n",
      "  0.61854769 0.81715048 0.84291636 0.09313204 0.71725072 0.38686129\n",
      "  0.6585652  0.28522651 0.13227315 0.91888845 0.93408521 0.49997403\n",
      "  0.48502583 0.44165896 0.46772682 0.56252105 0.54640256 1.00121335\n",
      "  0.22970281 0.9828038  0.72972052 0.04866951]\n",
      " [0.79008318 0.67944732 0.74448577 0.31118005 0.73878737 0.70934459\n",
      "  1.02897602 0.23175506 0.62683574 1.07495423 0.83964102 0.89153672\n",
      "  0.16569182 0.96541247 1.05688025 0.2949615  0.30012086 0.75139686\n",
      "  0.38985388 0.59584223 0.95568128 0.7869884  0.38302801 0.62640553\n",
      "  0.67072066 0.87092004 0.90075946 0.93904014 0.74498577 0.71288212\n",
      "  1.05099939 0.8347604  0.7943173  0.02065119 0.87963935 0.52525708\n",
      "  0.78373921 0.84646601 0.80318198 0.31844796 0.28290641 1.23195787\n",
      "  0.26784996 0.39993346 1.14218098 0.99490892 0.37010389 0.65439008\n",
      "  0.7258066  0.19244801 0.76767077 1.13022328 0.69021907 0.67270905\n",
      "  0.86282316 0.44519535 0.56098898 0.96070487 0.67886152 1.19076727\n",
      "  0.46415687 0.77377143 1.12891645 0.36395274 0.         0.25722923\n",
      "  0.76471713 0.51488194 0.38572652 0.9146658  0.52302951 0.76145154\n",
      "  0.67145061 0.96045015 0.77369643 0.70569416 1.06742234 0.65608975\n",
      "  0.85570918 1.01495043 1.11339251 0.27720571 0.69468161 0.72446673\n",
      "  0.62736931 0.09020347 0.29069663 0.89698125 1.14944033 0.55730218\n",
      "  0.84077196 0.71746967 0.82800573 0.83140843 0.74812765 1.13998118\n",
      "  0.13473185 1.11479064 0.88362321 0.34567807]\n",
      " [0.54057028 0.48143639 0.48847754 0.05751941 0.64308827 0.56224655\n",
      "  0.80592694 0.14369456 0.37062212 0.83008742 0.68463326 0.63602682\n",
      "  0.22585399 0.72224974 0.79997469 0.11210444 0.12103582 0.50832142\n",
      "  0.16586777 0.34981799 0.86047315 0.53187989 0.13082264 0.43964749\n",
      "  0.42094973 0.7303524  0.6653228  0.68457376 0.50197379 0.47039607\n",
      "  0.84968446 0.75331389 0.71366254 0.23658024 0.62258313 0.38130302\n",
      "  0.54074651 0.60404533 0.54684669 0.16356444 0.23290113 0.9961988\n",
      "  0.07615488 0.18492273 0.90410852 0.8133421  0.16344397 0.41718469\n",
      "  0.58084345 0.24794752 0.52109133 0.87400198 0.44079333 0.54050384\n",
      "  0.64213278 0.24788961 0.38388031 0.70988594 0.4441853  0.95135575\n",
      "  0.32204262 0.51684784 0.89255071 0.19812835 0.25722923 0.\n",
      "  0.52581745 0.37142127 0.1831093  0.65776322 0.36777967 0.52588426\n",
      "  0.41477252 0.7386143  0.5332083  0.58703248 0.85757744 0.43268945\n",
      "  0.60172472 0.77142526 0.85683058 0.11974265 0.55172443 0.48235333\n",
      "  0.48815883 0.16781581 0.06692294 0.75843982 0.90248414 0.35812547\n",
      "  0.61097974 0.46040336 0.60617094 0.57428863 0.49946969 0.9186548\n",
      "  0.16702069 0.89597199 0.65237783 0.1538389 ]\n",
      " [0.08864788 0.61490936 0.17632039 0.46846096 0.92982089 0.78159867\n",
      "  0.7143705  0.64648479 0.21734267 0.60709832 0.84558288 0.35867962\n",
      "  0.74762785 0.20192889 0.43158089 0.57091008 0.46699243 0.03296096\n",
      "  0.37487066 0.39559364 1.10140455 0.32197949 0.39626921 0.62714838\n",
      "  0.36781278 0.91070774 0.14025892 0.23512279 0.03590425 0.0588847\n",
      "  0.83317436 1.03770064 1.00750743 0.74517996 0.25663679 0.68777549\n",
      "  0.44831315 0.48053726 0.19366151 0.60332243 0.71232607 0.79767072\n",
      "  0.49697872 0.36615271 0.70976789 0.86921689 0.39656797 0.11032913\n",
      "  0.79776035 0.76523065 0.41462992 0.5128394  0.37252826 0.79663648\n",
      "  0.61703871 0.33464409 0.62711919 0.46971582 0.46641716 0.73928415\n",
      "  0.66482148 0.20856897 0.710879   0.42035771 0.76471713 0.52581745\n",
      "  0.         0.6840187  0.54172095 0.33070885 0.66269767 0.02130685\n",
      "  0.2079554  0.23268028 0.01361423 0.85145154 0.80777074 0.51249339\n",
      "  0.36817325 0.57454428 0.48964337 0.49140926 0.78332118 0.04720121\n",
      "  0.75211032 0.67664603 0.47632165 0.93601862 0.64678869 0.56789447\n",
      "  0.0996015  0.21423414 0.12418696 0.27471632 0.3906924  0.80731856\n",
      "  0.63764394 0.80061508 0.57332398 0.42309632]\n",
      " [0.6475923  0.19987846 0.55036669 0.37959053 0.27830965 0.19690726\n",
      "  0.55751705 0.28880292 0.46706646 0.6625853  0.32595475 0.5761362\n",
      "  0.35956052 0.83214743 0.7457291  0.26192594 0.48228634 0.65401172\n",
      "  0.47313349 0.30015564 0.49120525 0.48779846 0.39576952 0.13989399\n",
      "  0.36154715 0.36362531 0.81254445 0.7274459  0.64929852 0.62701955\n",
      "  0.54903903 0.39126256 0.35363889 0.49980778 0.63024522 0.01048641\n",
      "  0.4031148  0.45082396 0.588958   0.21502077 0.23754815 0.77922306\n",
      "  0.44437358 0.49616725 0.7005437  0.48206809 0.4922593  0.60579949\n",
      "  0.21453878 0.3439813  0.40860522 0.79611729 0.3714524  0.16934113\n",
      "  0.39948324 0.55877007 0.08125688 0.59193287 0.29449844 0.75062442\n",
      "  0.05190193 0.55178504 0.68298905 0.54702101 0.51488194 0.37142127\n",
      "  0.6840187  0.         0.19707608 0.62244073 0.02476717 0.69540725\n",
      "  0.48610997 0.91627935 0.68408734 0.21612236 0.57389953 0.24284707\n",
      "  0.52913507 0.60222804 0.78750837 0.48798456 0.18397857 0.63768404\n",
      "  0.11785162 0.4610927  0.42328917 0.39113144 0.74089075 0.13032751\n",
      "  0.78359402 0.50525265 0.80043043 0.56347824 0.40614154 0.66033437\n",
      "  0.50588775 0.63200678 0.44373732 0.4983584 ]\n",
      " [0.52605071 0.30275249 0.44489785 0.18314374 0.47499798 0.38098916\n",
      "  0.64369792 0.16216818 0.33764529 0.69550307 0.501767   0.5391261\n",
      "  0.27012434 0.71589754 0.71180343 0.09138605 0.28662951 0.51567905\n",
      "  0.27796765 0.22940207 0.68798865 0.4361845  0.2019584  0.25754175\n",
      "  0.30739128 0.54875681 0.67912134 0.64037255 0.51005975 0.48284725\n",
      "  0.6744579  0.58759305 0.54933075 0.36682051 0.55760331 0.20607214\n",
      "  0.40556009 0.46679987 0.49598074 0.07918118 0.18495671 0.84692367\n",
      "  0.25142439 0.30113615 0.75804382 0.63219099 0.29560773 0.44801059\n",
      "  0.39974924 0.27215508 0.39437094 0.77716736 0.32504027 0.3630054\n",
      "  0.47765543 0.36514111 0.20078945 0.59105478 0.29606237 0.80707383\n",
      "  0.15349541 0.46025484 0.74421652 0.34994664 0.38572652 0.1831093\n",
      "  0.54172095 0.19707608 0.         0.57329155 0.18910342 0.54892284\n",
      "  0.37077806 0.77244932 0.54484801 0.41244735 0.6864655  0.27038007\n",
      "  0.49732882 0.63468587 0.76337968 0.29425667 0.37138121 0.49455955\n",
      "  0.31002765 0.31091852 0.22806784 0.57696934 0.77172828 0.17834651\n",
      "  0.63872248 0.40511371 0.64739718 0.49750266 0.37897924 0.75519769\n",
      "  0.3377034  0.73060598 0.49825686 0.30128623]\n",
      " [0.2422148  0.46726472 0.19754176 0.60649924 0.79265372 0.63268631\n",
      "  0.413519   0.72647229 0.29984494 0.27796725 0.64831177 0.05469582\n",
      "  0.83754033 0.31133273 0.14221726 0.64454966 0.65804981 0.30673069\n",
      "  0.56638788 0.34592907 0.91396068 0.1383369  0.53970103 0.50875738\n",
      "  0.26986726 0.71322254 0.35685542 0.15725998 0.30928383 0.32476222\n",
      "  0.54862667 0.88362048 0.86328911 0.89402333 0.07471339 0.62102249\n",
      "  0.23616255 0.22402744 0.14681416 0.65193504 0.75684597 0.46741088\n",
      "  0.66706256 0.57098437 0.3812972  0.61275487 0.59806623 0.37747833\n",
      "  0.64348511 0.8436693  0.21878066 0.21849308 0.2554063  0.66673318\n",
      "  0.36922395 0.57451553 0.54404614 0.14697188 0.32957013 0.40883098\n",
      "  0.62917517 0.15707983 0.38424421 0.64638609 0.9146658  0.65776322\n",
      "  0.33070885 0.62244073 0.57329155 0.         0.59767941 0.35187683\n",
      "  0.25415801 0.46713623 0.31837309 0.71461429 0.51259227 0.38392725\n",
      "  0.0993203  0.25288825 0.19979554 0.68240784 0.64148468 0.32239833\n",
      "  0.63857707 0.82557874 0.63760691 0.73315472 0.31667222 0.49260551\n",
      "  0.38521124 0.20546489 0.42987747 0.08480483 0.21663207 0.49169706\n",
      "  0.81266958 0.4901308  0.30751609 0.62590378]\n",
      " [0.62488528 0.17926035 0.52705495 0.37224527 0.29036452 0.19531644\n",
      "  0.53859185 0.29425458 0.44550842 0.63995053 0.32187419 0.5513787\n",
      "  0.37093465 0.80886076 0.72104972 0.2605338  0.47566549 0.6324393\n",
      "  0.46189461 0.276698   0.49962745 0.46311253 0.38412099 0.11921346\n",
      "  0.33714926 0.36334142 0.79030762 0.70316694 0.62780999 0.60600483\n",
      "  0.53492978 0.40360743 0.36690245 0.50732265 0.60573023 0.02525671\n",
      "  0.3786588  0.42687973 0.56504549 0.21617127 0.24979588 0.75923169\n",
      "  0.43928147 0.48478115 0.67957506 0.47203595 0.48225988 0.58620494\n",
      "  0.21364318 0.35700204 0.38390345 0.77170701 0.34687507 0.1739069\n",
      "  0.37897854 0.54647411 0.0573977  0.56776671 0.26977237 0.72968594\n",
      "  0.05991577 0.52789708 0.66226148 0.53821955 0.52302951 0.36777967\n",
      "  0.66269767 0.02476717 0.18910342 0.59767941 0.         0.67442579\n",
      "  0.46353973 0.89470751 0.66251583 0.22393819 0.55807196 0.21830119\n",
      "  0.50438668 0.57943055 0.76299014 0.48257497 0.18406161 0.6165487\n",
      "  0.120976   0.46577367 0.41694717 0.39124072 0.7182914  0.10570881\n",
      "  0.7622977  0.48183359 0.77987388 0.53891079 0.38137446 0.6426676\n",
      "  0.50768942 0.61467112 0.42168243 0.48964231]\n",
      " [0.10991568 0.6309497  0.1961343  0.46876624 0.9439218  0.79680517\n",
      "  0.73526107 0.6493126  0.23005208 0.62837753 0.86269719 0.37998294\n",
      "  0.74901094 0.20905997 0.45140663 0.57490839 0.46257944 0.05193171\n",
      "  0.37181399 0.40981201 1.11750463 0.3423418  0.39732601 0.6418043\n",
      "  0.38475764 0.92766037 0.13975823 0.2533274  0.05331353 0.06842762\n",
      "  0.8535223  1.05233561 1.02173192 0.74210914 0.27771855 0.69941652\n",
      "  0.46784468 0.50091355 0.21488965 0.60872477 0.71709731 0.81891453\n",
      "  0.49413556 0.36188728 0.7310637  0.88858965 0.3921201  0.10869998\n",
      "  0.8131467  0.76732459 0.43404722 0.53243181 0.39010875 0.81088091\n",
      "  0.63668456 0.32702539 0.64006184 0.49102256 0.48333949 0.76050974\n",
      "  0.6749119  0.22922272 0.73218578 0.41301337 0.76145154 0.52588426\n",
      "  0.02130685 0.69540725 0.54892284 0.35187683 0.67442579 0.\n",
      "  0.22390075 0.2236161  0.03369218 0.86580784 0.82844744 0.52858095\n",
      "  0.3892642  0.59583772 0.50917368 0.48671713 0.7981916  0.05831831\n",
      "  0.76576867 0.67399151 0.47451592 0.95314438 0.66783296 0.58096652\n",
      "  0.08980503 0.23287416 0.10776066 0.29593613 0.40980553 0.82848442\n",
      "  0.63308907 0.82167696 0.59358979 0.41811515]\n",
      " [0.16159407 0.40708401 0.07557083 0.36037602 0.72313856 0.57374645\n",
      "  0.54906178 0.50472785 0.0459357  0.48763519 0.63938366 0.24842584\n",
      "  0.6141074  0.34899942 0.39365817 0.42305851 0.40441136 0.1754639\n",
      "  0.31224137 0.18988233 0.89363481 0.16229171 0.29018699 0.41986931\n",
      "  0.16177653 0.70411827 0.32719384 0.27390425 0.17205362 0.15896199\n",
      "  0.65264562 0.83025296 0.80059084 0.65084502 0.20878882 0.48879433\n",
      "  0.26139049 0.30770015 0.13234529 0.44315339 0.55343925 0.67618743\n",
      "  0.41585546 0.31707424 0.58266589 0.67534382 0.34392548 0.17340764\n",
      "  0.58983474 0.62542816 0.22732059 0.47237577 0.16925652 0.58981641\n",
      "  0.42813883 0.32528917 0.4237736  0.34876295 0.26003467 0.62145318\n",
      "  0.47319338 0.1026619  0.57839625 0.39325783 0.67145061 0.41477252\n",
      "  0.2079554  0.48610997 0.37077806 0.25415801 0.46353973 0.22390075\n",
      "  0.         0.43463532 0.2047937  0.6444228  0.63465817 0.30469494\n",
      "  0.23122457 0.44054177 0.45290661 0.42895923 0.57571174 0.16663653\n",
      "  0.5464729  0.58140692 0.38731836 0.72981547 0.54611525 0.36444643\n",
      "  0.30567035 0.04869314 0.33153822 0.1696536  0.20031504 0.65274699\n",
      "  0.56258903 0.64055174 0.39509881 0.3717459 ]\n",
      " [0.28033498 0.83671457 0.38528256 0.68262689 1.15744458 1.00602512\n",
      "  0.87980967 0.86785259 0.44922675 0.7350777  1.06042704 0.51265538\n",
      "  0.96397853 0.16633105 0.50981245 0.79563084 0.66083762 0.26227626\n",
      "  0.57722025 0.62442276 1.32108939 0.51402362 0.6136219  0.85388439\n",
      "  0.58792689 1.12625383 0.11506118 0.31588247 0.26699796 0.29086127\n",
      "  1.0112879  1.26355474 1.23467362 0.94210844 0.39835994 0.91984537\n",
      "  0.64713121 0.66559105 0.37472529 0.83109636 0.93863139 0.91438674\n",
      "  0.69794651 0.56326666 0.83735434 1.06322508 0.59194761 0.32717343\n",
      "  1.02145917 0.9839578  0.61571856 0.57763969 0.5892637  1.02409639\n",
      "  0.81066101 0.51548846 0.85767938 0.61367868 0.68529856 0.85576073\n",
      "  0.89750141 0.40399717 0.84370451 0.59908309 0.96045015 0.7386143\n",
      "  0.23268028 0.91627935 0.77244932 0.46713623 0.89470751 0.2236161\n",
      "  0.43463532 0.         0.2321989  1.07848844 0.97817339 0.73479145\n",
      "  0.53882058 0.71867406 0.55486518 0.68327572 1.00891511 0.27961908\n",
      "  0.98110816 0.87631812 0.68220417 1.15035906 0.75339453 0.7983436\n",
      "  0.1338466  0.42952539 0.1329168  0.4462604  0.59562612 0.95779927\n",
      "  0.82774874 0.95715506 0.75788589 0.61506932]\n",
      " [0.07681865 0.61108851 0.16869679 0.47576772 0.92763129 0.77848346\n",
      "  0.70444023 0.65226657 0.21702812 0.5951472  0.84063666 0.34725491\n",
      "  0.75419202 0.19202672 0.41815045 0.57604124 0.47663584 0.0300774\n",
      "  0.38396451 0.39358912 1.09740091 0.31320735 0.40324313 0.6245813\n",
      "  0.36328938 0.90591039 0.13494229 0.22151259 0.03503182 0.06348574\n",
      "  0.82426116 1.03503063 1.00519639 0.75407053 0.24412446 0.68764906\n",
      "  0.44071908 0.47165202 0.18289218 0.60757005 0.71691228 0.78554398\n",
      "  0.50586679 0.37581459 0.69793963 0.86171159 0.40628192 0.11973704\n",
      "  0.79447798 0.77138698 0.40721132 0.49935036 0.36733245 0.79435989\n",
      "  0.60922017 0.34574303 0.62599474 0.45815889 0.46182189 0.72709358\n",
      "  0.66586626 0.19938871 0.69925988 0.4312818  0.77369643 0.5332083\n",
      "  0.01361423 0.68408734 0.54484801 0.31837309 0.66251583 0.03369218\n",
      "  0.2047937  0.2321989  0.         0.8490632  0.79827519 0.50868501\n",
      "  0.35779997 0.56322145 0.4761402  0.50116366 0.78050471 0.05141768\n",
      "  0.75034357 0.68535553 0.48471452 0.93104244 0.63419784 0.56669896\n",
      "  0.10092408 0.20810452 0.12998664 0.26391959 0.38369034 0.79662838\n",
      "  0.64726884 0.7902482  0.56459333 0.4330258 ]\n",
      " [0.79997081 0.24976879 0.6962177  0.59541959 0.07956659 0.08307766\n",
      "  0.50929101 0.49260621 0.6365585  0.66697481 0.16539866 0.66166004\n",
      "  0.54171679 0.97216332 0.81357491 0.4764641  0.69834894 0.81945015\n",
      "  0.68542847 0.45599693 0.27569194 0.59680744 0.60751911 0.22461327\n",
      "  0.49309944 0.17139982 0.96827758 0.84629827 0.81564293 0.79809755\n",
      "  0.44624518 0.18715968 0.15618969 0.69316679 0.7428279  0.20664806\n",
      "  0.47846212 0.50301268 0.72193788 0.42761247 0.42306764 0.73271234\n",
      "  0.66041813 0.70821561 0.67265516 0.34753302 0.70617275 0.78794752\n",
      "  0.07734794 0.51927219 0.49817964 0.84546331 0.49523712 0.05518801\n",
      "  0.39180032 0.76915339 0.23391323 0.64042437 0.40028013 0.71983635\n",
      "  0.26506393 0.68659983 0.6521957  0.76207608 0.70569416 0.58703248\n",
      "  0.85145154 0.21612236 0.41244735 0.71461429 0.22393819 0.86580784\n",
      "  0.6444228  1.07848844 0.8490632  0.         0.48713511 0.34694101\n",
      "  0.61533659 0.61368603 0.84270832 0.70407029 0.07316908 0.80752708\n",
      "  0.10569272 0.66362283 0.63938236 0.1946838  0.74065605 0.28955561\n",
      "  0.94998664 0.65083874 0.9733264  0.67611573 0.50750826 0.58895002\n",
      "  0.71449383 0.55836471 0.4549081  0.71346973]\n",
      " [0.72398773 0.38826171 0.63401924 0.83252942 0.53393859 0.42359056\n",
      "  0.09974014 0.8359601  0.66072816 0.28936324 0.32941914 0.46552269\n",
      "  0.92581588 0.82376982 0.52513779 0.7774901  0.9265648  0.77696736\n",
      "  0.86472139 0.5350624  0.53104216 0.48680193 0.79932039 0.44380602\n",
      "  0.49560472 0.36470353 0.86552327 0.66907269 0.77685906 0.7783483\n",
      "  0.05389417 0.5671164  0.569928   1.04964711 0.57983854 0.56495668\n",
      "  0.37428201 0.32909236 0.61721018 0.7489848  0.80671934 0.25988395\n",
      "  0.90875221 0.88125286 0.23270288 0.16846399 0.89618281 0.80718651\n",
      "  0.41762018 0.91413334 0.40784577 0.51034489 0.47961687 0.47538834\n",
      "  0.22058635 0.91897765 0.51068813 0.36972451 0.42657472 0.26704749\n",
      "  0.61743715 0.59922743 0.21212301 0.95731089 1.06742234 0.85757744\n",
      "  0.80777074 0.57389953 0.6864655  0.51259227 0.55807196 0.82844744\n",
      "  0.63465817 0.97817339 0.79827519 0.48713511 0.         0.42588141\n",
      "  0.44299449 0.27376685 0.52025141 0.94393219 0.44112053 0.78158605\n",
      "  0.49264235 0.99710613 0.87871186 0.36610521 0.33338195 0.51037588\n",
      "  0.88335616 0.60496812 0.92396722 0.53790303 0.43536333 0.10520542\n",
      "  1.02148864 0.07525709 0.23959364 0.91693163]\n",
      " [0.45491251 0.10241811 0.35041054 0.40671939 0.42649971 0.27150702\n",
      "  0.374645   0.42986326 0.30593777 0.43477718 0.33754266 0.33535768\n",
      "  0.53199879 0.62526237 0.50323022 0.36130289 0.50225097 0.47980777\n",
      "  0.44746969 0.13101568 0.58894267 0.25494565 0.37736634 0.12689067\n",
      "  0.14699946 0.40114163 0.6230834  0.50301722 0.47662099 0.46278124\n",
      "  0.42230874 0.52951459 0.50234338 0.63709606 0.4011319  0.24003753\n",
      "  0.16048956 0.21201833 0.37510425 0.34245101 0.42483463 0.57720488\n",
      "  0.48296587 0.4661507  0.48963423 0.40684133 0.47740596 0.46390219\n",
      "  0.28668274 0.52764408 0.16670526 0.553557   0.14829876 0.29427029\n",
      "  0.20961492 0.51235135 0.16220367 0.35072375 0.05509003 0.53915841\n",
      "  0.2599737  0.33965944 0.47503991 0.53896072 0.65608975 0.43268945\n",
      "  0.51249339 0.24284707 0.27038007 0.38392725 0.21830119 0.52858095\n",
      "  0.30469494 0.73479145 0.50868501 0.34694101 0.42588141 0.\n",
      "  0.28804979 0.3734813  0.54469036 0.51879237 0.27545848 0.47105025\n",
      "  0.25868685 0.57944317 0.45308187 0.42756337 0.5126894  0.11942345\n",
      "  0.60913629 0.30546025 0.63623201 0.3337422  0.16788329 0.48693879\n",
      "  0.59810244 0.46356807 0.22842272 0.49598405]\n",
      " [0.2821753  0.36842336 0.20223141 0.55453978 0.69333586 0.53336865\n",
      "  0.34731841 0.65542817 0.27215485 0.25661518 0.55123036 0.04737096\n",
      "  0.76589838 0.39341808 0.21841286 0.57484479 0.61858368 0.33890609\n",
      "  0.53211755 0.26798419 0.81706191 0.07235768 0.49336904 0.4113465\n",
      "  0.18997801 0.61651596 0.42471852 0.24539941 0.33965408 0.34637899\n",
      "  0.47318709 0.7846068  0.7640328  0.83520792 0.14409823 0.52711758\n",
      "  0.13687486 0.1301961  0.17514973 0.57650932 0.67768405 0.44632618\n",
      "  0.62103262 0.54049775 0.35363329 0.52667923 0.56488792 0.38717007\n",
      "  0.54418307 0.76945242 0.12146928 0.27984164 0.17246271 0.56767419\n",
      "  0.27734885 0.5552237  0.44958696 0.11769326 0.23473384 0.39077273\n",
      "  0.5392476  0.16269509 0.35108995 0.61854769 0.85570918 0.60172472\n",
      "  0.36817325 0.52913507 0.49732882 0.0993203  0.50438668 0.3892642\n",
      "  0.23122457 0.53882058 0.35779997 0.61533659 0.44299449 0.28804979\n",
      "  0.         0.21251825 0.26656567 0.64185181 0.54221986 0.34748792\n",
      "  0.5403402  0.76838889 0.59044825 0.63715601 0.31588843 0.40041608\n",
      "  0.44038122 0.18738297 0.48142755 0.09494601 0.12408597 0.43944817\n",
      "  0.76297113 0.43245978 0.21998175 0.59160774]\n",
      " [0.48645782 0.40608549 0.41438797 0.73118454 0.68245597 0.53243242\n",
      "  0.17512491 0.79679051 0.478434   0.06129974 0.49837811 0.21600931\n",
      "  0.90249644 0.55871401 0.25212692 0.72211973 0.80751894 0.54703391\n",
      "  0.72734639 0.42165001 0.75004185 0.27825038 0.67846546 0.46407803\n",
      "  0.35286244 0.55567878 0.60957373 0.40405682 0.54838994 0.55743434\n",
      "  0.31822115 0.75057379 0.74040733 0.99506418 0.32593711 0.59673559\n",
      "  0.2313465  0.16849081 0.38131539 0.71101818 0.79814759 0.23610641\n",
      "  0.80303907 0.73843371 0.14218252 0.40622609 0.76034623 0.59967571\n",
      "  0.53637781 0.89987631 0.25086072 0.24898703 0.33297119 0.57887591\n",
      "  0.22195894 0.75983208 0.52226433 0.10620614 0.33881784 0.18368733\n",
      "  0.62891867 0.37409094 0.13857471 0.81715048 1.01495043 0.77142526\n",
      "  0.57454428 0.60222804 0.63468587 0.25288825 0.57943055 0.59583772\n",
      "  0.44054177 0.71867406 0.56322145 0.61368603 0.27376685 0.3734813\n",
      "  0.21251825 0.         0.2543612  0.82927177 0.54650511 0.55778227\n",
      "  0.57022051 0.93219248 0.77189496 0.56858413 0.13938544 0.49123292\n",
      "  0.63696677 0.39894302 0.68079565 0.30070321 0.2744709  0.23913496\n",
      "  0.93762015 0.23972269 0.16213335 0.78567666]\n",
      " [0.40759428 0.60966408 0.39089294 0.80605747 0.91638259 0.75970917\n",
      "  0.42546634 0.92013079 0.49878394 0.23152979 0.74422416 0.22449372\n",
      "  1.0309464  0.3890422  0.06035772 0.83885521 0.85726911 0.473324\n",
      "  0.76494031 0.53399551 1.00138948 0.32879911 0.73949596 0.66041305\n",
      "  0.45606142 0.80432477 0.46495034 0.25952619 0.47743305 0.49964919\n",
      "  0.56842051 0.99368191 0.97988051 1.09276677 0.25158644 0.78442351\n",
      "  0.38447562 0.34319642 0.33433658 0.8425256  0.94424581 0.37429055\n",
      "  0.86683674 0.76864965 0.31608133 0.66050379 0.79627373 0.55885636\n",
      "  0.76679675 1.03532439 0.38093057 0.02352957 0.43894165 0.80124299\n",
      "  0.45826194 0.76832275 0.7065981  0.20241972 0.49468633 0.3188712\n",
      "  0.80191915 0.35281518 0.32961919 0.84291636 1.11339251 0.85683058\n",
      "  0.48964337 0.78750837 0.76337968 0.19979554 0.76299014 0.50917368\n",
      "  0.45290661 0.55486518 0.4761402  0.84270832 0.52025141 0.54469036\n",
      "  0.26656567 0.2543612  0.         0.88173789 0.77162872 0.49445517\n",
      "  0.78256437 1.02460323 0.83740236 0.81902851 0.21449335 0.66157858\n",
      "  0.51456389 0.4043103  0.56150703 0.28446238 0.3891541  0.46041537\n",
      "  1.01245345 0.47138751 0.39195244 0.82426656]\n",
      " [0.52533359 0.58053411 0.49580817 0.11472959 0.76182001 0.67521561\n",
      "  0.88403562 0.25452943 0.38303264 0.88519338 0.79440807 0.66978619\n",
      "  0.31172398 0.69316824 0.82261265 0.23164104 0.02511072 0.48078116\n",
      "  0.12046558 0.41601989 0.97843879 0.56967345 0.15083403 0.54437399\n",
      "  0.47704045 0.84283093 0.62528684 0.68159546 0.47440011 0.44232671\n",
      "  0.94084127 0.8724953  0.83297003 0.2588618  0.63585838 0.49761805\n",
      "  0.60396211 0.66646001 0.55491426 0.28324736 0.34624502 1.06078594\n",
      "  0.04388937 0.12537956 0.96710405 0.91360087 0.09488587 0.38142754\n",
      "  0.69399161 0.3391615  0.57950131 0.90089385 0.49678314 0.65624637\n",
      "  0.72462903 0.16847569 0.49326978 0.75618419 0.52019885 1.01229327\n",
      "  0.43969323 0.53051675 0.95756276 0.09313204 0.27720571 0.11974265\n",
      "  0.49140926 0.48798456 0.29425667 0.68240784 0.48257497 0.48671713\n",
      "  0.42895923 0.68327572 0.50116366 0.70407029 0.94393219 0.51879237\n",
      "  0.64185181 0.82927177 0.88173789 0.         0.66560402 0.45349345\n",
      "  0.60349618 0.19446316 0.06749244 0.87108096 0.95346168 0.4607159\n",
      "  0.56416957 0.47746062 0.55080003 0.5976074  0.55490309 0.99672072\n",
      "  0.14637501 0.97609427 0.72609265 0.06876616]\n",
      " [0.72970963 0.17694151 0.62555775 0.55387603 0.15214775 0.01765853\n",
      "  0.4524835  0.47202183 0.5699255  0.60125572 0.14599955 0.58859806\n",
      "  0.53465868 0.90025935 0.74149934 0.44438904 0.65769887 0.7510771\n",
      "  0.63666769 0.38880944 0.32829853 0.52390485 0.55872571 0.1566018\n",
      "  0.42217282 0.17971025 0.89800899 0.77338197 0.74744522 0.73087693\n",
      "  0.40522808 0.25465167 0.22693651 0.680515   0.66982427 0.17354917\n",
      "  0.40534567 0.4308546  0.64998838 0.39872041 0.41290671 0.67779981\n",
      "  0.62257461 0.6590331  0.61297681 0.31826351 0.65945903 0.72338117\n",
      "  0.03113388 0.51539164 0.42503214 0.77491475 0.42359694 0.03461552\n",
      "  0.3247092  0.71793499 0.17851528 0.56922384 0.32817359 0.66115278\n",
      "  0.23583735 0.61490251 0.59297019 0.71725072 0.69468161 0.55172443\n",
      "  0.78332118 0.18397857 0.37138121 0.64148468 0.18406161 0.7981916\n",
      "  0.57571174 1.00891511 0.78050471 0.07316908 0.44112053 0.27545848\n",
      "  0.54221986 0.54650511 0.77162872 0.66560402 0.         0.74001993\n",
      "  0.06734856 0.64441614 0.59938266 0.20738727 0.67617525 0.22911377\n",
      "  0.88137356 0.58035544 0.90588566 0.60319377 0.4345758  0.53946866\n",
      "  0.68984993 0.50919515 0.38616614 0.66900514]\n",
      " [0.08733865 0.57334992 0.14766182 0.42487277 0.88561347 0.73874357\n",
      "  0.69018852 0.60084939 0.17178712 0.59422884 0.80597196 0.34377863\n",
      "  0.7028989  0.24102071 0.43501704 0.52468436 0.42876589 0.02737355\n",
      "  0.33520391 0.35153857 1.05986862 0.29483383 0.35217206 0.58358959\n",
      "  0.32813158 0.87075067 0.18621375 0.24900886 0.02108733 0.01207013\n",
      "  0.80469422 0.99409681 0.9634329  0.70471741 0.25087896 0.64157857\n",
      "  0.41625189 0.45279361 0.17798616 0.55652889 0.66572518 0.78558582\n",
      "  0.45663742 0.32815329 0.695774   0.83600245 0.35866911 0.07390098\n",
      "  0.75515606 0.71999981 0.3821739  0.51718217 0.33430561 0.75258769\n",
      "  0.58517325 0.30222762 0.58181642 0.45483084 0.42657996 0.7277943\n",
      "  0.6179482  0.18490939 0.69552429 0.38686129 0.72446673 0.48235333\n",
      "  0.04720121 0.63768404 0.49455955 0.32239833 0.6165487  0.05831831\n",
      "  0.16663653 0.27961908 0.05141768 0.80752708 0.78158605 0.47105025\n",
      "  0.34748792 0.55778227 0.49445517 0.45349345 0.74001993 0.\n",
      "  0.70745201 0.63577479 0.43482905 0.89641109 0.63881257 0.52269682\n",
      "  0.14609908 0.17985166 0.16586745 0.25728682 0.35710104 0.78654246\n",
      "  0.59920596 0.77826669 0.54468247 0.38584147]\n",
      " [0.70449431 0.17336546 0.60203062 0.49314602 0.17943124 0.08228373\n",
      "  0.49370011 0.40493165 0.53586194 0.62759833 0.21273967 0.58753742\n",
      "  0.46770816 0.88113466 0.74796417 0.37951244 0.59662799 0.7205126\n",
      "  0.58058935 0.35679212 0.38024363 0.51332961 0.50261471 0.13184935\n",
      "  0.40083683 0.2461796  0.87246087 0.76170144 0.71646183 0.69769574\n",
      "  0.46056191 0.29125495 0.25754358 0.61316969 0.65967221 0.10756795\n",
      "  0.40494248 0.43937097 0.63183474 0.33286715 0.34580518 0.71936383\n",
      "  0.56014215 0.60328465 0.6490966  0.38031148 0.60194711 0.68509554\n",
      "  0.09844951 0.44889077 0.41982664 0.7878187  0.40533383 0.05307602\n",
      "  0.35192688 0.66382327 0.12885557 0.58091472 0.31364048 0.69828673\n",
      "  0.1694354  0.59564909 0.62984599 0.6585652  0.62736931 0.48815883\n",
      "  0.75211032 0.11785162 0.31002765 0.63857707 0.120976   0.76576867\n",
      "  0.5464729  0.98110816 0.75034357 0.10569272 0.49264235 0.25868685\n",
      "  0.5403402  0.57022051 0.78256437 0.60349618 0.06734856 0.70745201\n",
      "  0.         0.577313   0.53792307 0.27349052 0.7043532  0.18599262\n",
      "  0.85118329 0.55639197 0.87292685 0.59232694 0.42517066 0.58729315\n",
      "  0.62349741 0.55753286 0.40810352 0.61006147]\n",
      " [0.70034257 0.61115898 0.65432234 0.22106032 0.70489969 0.65790741\n",
      "  0.95386474 0.1723944  0.53671047 0.99171713 0.78690015 0.80342083\n",
      "  0.1532763  0.87679368 0.96779049 0.2196562  0.21572699 0.6625834\n",
      "  0.30219457 0.5113981  0.92421092 0.69906929 0.29282797 0.56113561\n",
      "  0.5850635  0.82329577 0.81356482 0.84885332 0.65617446 0.62411181\n",
      "  0.98362849 0.80690083 0.76626917 0.06974727 0.78972574 0.4715791\n",
      "  0.70085319 0.76390847 0.71305205 0.25214031 0.2456148  1.15244891\n",
      "  0.17986579 0.31367778 1.06168499 0.93414537 0.28446447 0.5663877\n",
      "  0.67527397 0.18434067 0.6834036  1.04168527 0.60472752 0.6256679\n",
      "  0.78806808 0.36278416 0.49776237 0.87489535 0.59860688 1.10979964\n",
      "  0.40927494 0.68379695 1.0490603  0.28522651 0.09020347 0.16781581\n",
      "  0.67664603 0.4610927  0.31091852 0.82557874 0.46577367 0.67399151\n",
      "  0.58140692 0.87631812 0.68535553 0.66362283 0.99710613 0.57944317\n",
      "  0.76838889 0.93219248 1.02460323 0.19446316 0.64441614 0.63577479\n",
      "  0.577313   0.         0.20121909 0.85025107 1.06539728 0.48726194\n",
      "  0.75463224 0.62758238 0.74354495 0.7420723  0.66302273 1.06572359\n",
      "  0.07148819 1.04138992 0.80522547 0.26154036]\n",
      " [0.49941004 0.51320747 0.4580091  0.04728603 0.69880375 0.60870707\n",
      "  0.82067155 0.21056036 0.34170656 0.82886528 0.72721253 0.62105543\n",
      "  0.28717209 0.67583142 0.77913964 0.17255056 0.0591107  0.46153703\n",
      "  0.10510023 0.35452781 0.91434688 0.51886711 0.09793344 0.47689614\n",
      "  0.41903281 0.77610359 0.61426898 0.64994256 0.45513139 0.42310896\n",
      "  0.87470816 0.81019003 0.77098742 0.27061181 0.59603012 0.43274383\n",
      "  0.54426278 0.60720453 0.51715047 0.2242346  0.29969453 1.00151661\n",
      "  0.03116101 0.12153981 0.90823756 0.84629811 0.09758858 0.36630657\n",
      "  0.62752016 0.31117346 0.52124264 0.85573149 0.43892601 0.59081392\n",
      "  0.66002    0.18231794 0.42619184 0.70277906 0.4566509  0.95415942\n",
      "  0.37597152 0.48993612 0.89803891 0.13227315 0.29069663 0.06692294\n",
      "  0.47632165 0.42328917 0.22806784 0.63760691 0.41694717 0.47451592\n",
      "  0.38731836 0.68220417 0.48471452 0.63938236 0.87871186 0.45308187\n",
      "  0.59044825 0.77189496 0.83740236 0.06749244 0.59938266 0.43482905\n",
      "  0.53792307 0.20121909 0.         0.80438198 0.8987265  0.39322351\n",
      "  0.55716472 0.43492878 0.54934203 0.55302158 0.49752808 0.93347715\n",
      "  0.17531796 0.91231491 0.66365447 0.08696977]\n",
      " [0.87079609 0.32764368 0.76619674 0.75829579 0.19768942 0.19619338\n",
      "  0.42218087 0.67798988 0.73348046 0.61021204 0.09044736 0.6784778\n",
      "  0.73426611 1.02334087 0.80313274 0.65171648 0.86219787 0.90308562\n",
      "  0.8352932  0.55613949 0.18273548 0.64081575 0.75789483 0.3383709\n",
      "  0.56839151 0.0283567  1.03611341 0.88172923 0.90040699 0.88870771\n",
      "  0.31520051 0.20182523 0.2100351  0.88367485 0.77824272 0.38074753\n",
      "  0.5086434  0.50914359 0.77794377 0.60605062 0.61410019 0.62580856\n",
      "  0.82839273 0.85708317 0.58643508 0.2000928  0.85983852 0.8914323\n",
      "  0.17764595 0.71271863 0.53736575 0.81632057 0.56372536 0.22474284\n",
      "  0.36716662 0.91330188 0.37893082 0.62592775 0.46984502 0.62747757\n",
      "  0.44287589 0.74668415 0.56510779 0.91888845 0.89698125 0.75843982\n",
      "  0.93601862 0.39113144 0.57696934 0.73315472 0.39124072 0.95314438\n",
      "  0.72981547 1.15035906 0.93104244 0.1946838  0.36610521 0.42756337\n",
      "  0.63715601 0.56858413 0.81902851 0.87108096 0.20738727 0.89641109\n",
      "  0.27349052 0.85025107 0.80438198 0.         0.67384022 0.42099728\n",
      "  1.0301009  0.72360607 1.06020003 0.71636979 0.55538967 0.47103186\n",
      "  0.89696979 0.44135894 0.43302878 0.8711171 ]\n",
      " [0.55857772 0.54358381 0.50589196 0.85976341 0.80569888 0.66122931\n",
      "  0.25299601 0.93389479 0.58793134 0.07836261 0.61271735 0.30062321\n",
      "  1.04041344 0.58745047 0.24555535 0.85809519 0.93085143 0.62338639\n",
      "  0.84667072 0.55400179 0.85080828 0.38771144 0.80332901 0.60218209\n",
      "  0.48162359 0.66472995 0.65353168 0.44119275 0.62595444 0.64073502\n",
      "  0.38600621 0.86504738 0.85868564 1.1293737  0.39016667 0.73519693\n",
      "  0.36647212 0.30498938 0.46166088 0.84869522 0.9371437  0.1618986\n",
      "  0.92972782 0.85581391 0.10660755 0.49211382 0.87957395 0.6907715\n",
      "  0.66344043 1.03836848 0.38199441 0.19733318 0.46174012 0.70942352\n",
      "  0.35274023 0.8709389  0.66123073 0.19852411 0.47661293 0.10474639\n",
      "  0.76820965 0.46422771 0.12418112 0.93408521 1.14944033 0.90248414\n",
      "  0.64678869 0.74089075 0.77172828 0.31667222 0.7182914  0.66783296\n",
      "  0.54611525 0.75339453 0.63419784 0.74065605 0.33338195 0.5126894\n",
      "  0.31588843 0.13938544 0.21449335 0.95346168 0.67617525 0.63881257\n",
      "  0.7043532  1.06539728 0.8987265  0.67384022 0.         0.63060971\n",
      "  0.69302168 0.50032137 0.73920047 0.38704185 0.40301901 0.25570643\n",
      "  1.06755188 0.27228671 0.29826632 0.90588917]\n",
      " [0.52471397 0.12441677 0.42483452 0.34602789 0.3653707  0.23300361\n",
      "  0.47438555 0.32639499 0.35091503 0.55243911 0.33818628 0.44714069\n",
      "  0.42218969 0.7063745  0.61798812 0.26811119 0.44868677 0.53672398\n",
      "  0.41462205 0.17502789 0.55741122 0.35750539 0.33765048 0.08428905\n",
      "  0.23169409 0.39273145 0.69159492 0.5978623  0.53245424 0.51270627\n",
      "  0.496546   0.47653056 0.44348902 0.53935439 0.50005834 0.13005028\n",
      "  0.27882131 0.33142489 0.46074517 0.23892879 0.30988724 0.68670193\n",
      "  0.42022145 0.43622525 0.60201016 0.45522508 0.44003132 0.49910348\n",
      "  0.25154206 0.41502421 0.280993   0.67124549 0.24116951 0.2344651\n",
      "  0.30882588 0.49246763 0.05934633 0.46974309 0.16690615 0.65195491\n",
      "  0.14083825 0.42370324 0.58624182 0.49997403 0.55730218 0.35812547\n",
      "  0.56789447 0.13032751 0.17834651 0.49260551 0.10570881 0.58096652\n",
      "  0.36444643 0.7983436  0.56669896 0.28955561 0.51037588 0.11942345\n",
      "  0.40041608 0.49123292 0.66157858 0.4607159  0.22911377 0.52269682\n",
      "  0.18599262 0.48726194 0.39322351 0.42099728 0.63060971 0.\n",
      "  0.66728591 0.37931732 0.68777942 0.43320647 0.27679417 0.58394016\n",
      "  0.51603342 0.55808282 0.34026183 0.45296432]\n",
      " [0.1623806  0.71149744 0.26467444 0.55429324 1.02855044 0.87925904\n",
      "  0.78736675 0.73711644 0.31692285 0.66253158 0.9397703  0.42257011\n",
      "  0.8353261  0.15708381 0.46101336 0.66361967 0.54073038 0.13067069\n",
      "  0.45300664 0.49446673 1.19757023 0.40395716 0.4838803  0.72549649\n",
      "  0.46324877 1.0052266  0.06896441 0.2558848  0.13483167 0.15716703\n",
      "  0.91216726 1.13592302 1.10612044 0.82183821 0.31114928 0.7873724\n",
      "  0.53465161 0.56081837 0.26694297 0.69812582 0.80618008 0.84971401\n",
      "  0.57502135 0.44104052 0.76596842 0.95502323 0.47068114 0.19543232\n",
      "  0.89517966 0.85436713 0.50178559 0.53808902 0.46651717 0.89528279\n",
      "  0.70192658 0.39942517 0.72654438 0.53077964 0.56160965 0.7907879\n",
      "  0.76402347 0.29024804 0.76941741 0.48502583 0.84077196 0.61097974\n",
      "  0.0996015  0.78359402 0.63872248 0.38521124 0.7622977  0.08980503\n",
      "  0.30567035 0.1338466  0.10092408 0.94998664 0.88335616 0.60913629\n",
      "  0.44038122 0.63696677 0.51456389 0.56416957 0.88137356 0.14609908\n",
      "  0.85118329 0.75463224 0.55716472 1.0301009  0.69302168 0.66728591\n",
      "  0.         0.30649523 0.04694651 0.34545407 0.47945443 0.87423935\n",
      "  0.7101785  0.87014818 0.65400427 0.4954236 ]\n",
      " [0.14945234 0.40720817 0.04566866 0.40677396 0.73017531 0.57692142\n",
      "  0.51622829 0.54504006 0.0944793  0.44389409 0.63328334 0.20115486\n",
      "  0.65519774 0.3271273  0.3451745  0.46291772 0.45296206 0.1813803\n",
      "  0.36093138 0.20513591 0.89200442 0.12230715 0.33746084 0.42676136\n",
      "  0.15847812 0.69877928 0.31767772 0.23531676 0.17956131 0.17498623\n",
      "  0.62612666 0.83479891 0.80683099 0.69683769 0.16218039 0.50700923\n",
      "  0.23649187 0.27597867 0.09099931 0.47979357 0.58938564 0.6336416\n",
      "  0.46373952 0.36569164 0.54066899 0.65625913 0.39261316 0.20394765\n",
      "  0.59212594 0.66528497 0.20236406 0.42370876 0.16019332 0.59701856\n",
      "  0.40536464 0.37251483 0.43807013 0.30409452 0.25589769 0.57814092\n",
      "  0.49686635 0.056931   0.53735332 0.44165896 0.71746967 0.46040336\n",
      "  0.21423414 0.50525265 0.40511371 0.20546489 0.48183359 0.23287416\n",
      "  0.04869314 0.42952539 0.20810452 0.65083874 0.60496812 0.30546025\n",
      "  0.18738297 0.39894302 0.4043103  0.47746062 0.58035544 0.17985166\n",
      "  0.55639197 0.62758238 0.43492878 0.72360607 0.50032137 0.37931732\n",
      "  0.30649523 0.         0.33799125 0.12100222 0.17729881 0.61708062\n",
      "  0.61024614 0.60641919 0.36650712 0.42043895]\n",
      " [0.2002559  0.73862134 0.29848632 0.55045442 1.05130955 0.9045546\n",
      "  0.82873766 0.73681363 0.33706583 0.70759856 0.96976245 0.46564971\n",
      "  0.8317433  0.1984486  0.50791734 0.66596539 0.52818505 0.15713589\n",
      "  0.44433098 0.51736713 1.22517302 0.44143804 0.48222006 0.74945463\n",
      "  0.49194346 1.03486346 0.10850811 0.3027907  0.15983627 0.17526473\n",
      "  0.95154873 1.15994849 1.12917472 0.8095525  0.35547652 0.80474152\n",
      "  0.57029053 0.59934908 0.3067602  0.70303717 0.8094343  0.8953826\n",
      "  0.56504409 0.43036845 0.81101656 0.99124786 0.45912229 0.19943393\n",
      "  0.92090676 0.85211822 0.53692583 0.58503167 0.49670096 0.91835608\n",
      "  0.73850358 0.38344383 0.74673834 0.57470484 0.59055087 0.83648542\n",
      "  0.7781664  0.32734866 0.8140969  0.46772682 0.82800573 0.60617094\n",
      "  0.12418696 0.80043043 0.64739718 0.42987747 0.77987388 0.10776066\n",
      "  0.33153822 0.1329168  0.12998664 0.9733264  0.92396722 0.63623201\n",
      "  0.48142755 0.68079565 0.56150703 0.55080003 0.90588566 0.16586745\n",
      "  0.87292685 0.74354495 0.54934203 1.06020003 0.73920047 0.68777942\n",
      "  0.04694651 0.33799125 0.         0.38654146 0.5136103  0.91731654\n",
      "  0.69569394 0.91256742 0.69249251 0.48245391]\n",
      " [0.18775949 0.42634965 0.11888568 0.52245438 0.7553403  0.59634479\n",
      "  0.44220205 0.64741074 0.21519658 0.33765598 0.6283471  0.08721066\n",
      "  0.75843616 0.30725906 0.22620411 0.5652038  0.57326188 0.24646876\n",
      "  0.48177275 0.27450679 0.89352654 0.07932218 0.45514943 0.46061994\n",
      "  0.20284608 0.69423449 0.33159506 0.17018821 0.24771308 0.25744745\n",
      "  0.56748069 0.85227494 0.82882214 0.81075835 0.06742237 0.56314543\n",
      "  0.20775081 0.21935848 0.08105832 0.57537919 0.68212526 0.52908875\n",
      "  0.58238614 0.48669348 0.43861997 0.61714202 0.51355863 0.30406205\n",
      "  0.60898544 0.7657799  0.18079652 0.30329791 0.19203717 0.62547265\n",
      "  0.36519817 0.49202902 0.48798993 0.19769131 0.27870515 0.47176937\n",
      "  0.56513499 0.0772187  0.43824288 0.56252105 0.83140843 0.57428863\n",
      "  0.27471632 0.56347824 0.49750266 0.08480483 0.53891079 0.29593613\n",
      "  0.1696536  0.4462604  0.26391959 0.67611573 0.53790303 0.3337422\n",
      "  0.09494601 0.30070321 0.28446238 0.5976074  0.60319377 0.25728682\n",
      "  0.59232694 0.7420723  0.55302158 0.71636979 0.38704185 0.43320647\n",
      "  0.34545407 0.12100222 0.38654146 0.         0.16861798 0.53270999\n",
      "  0.72816867 0.52664901 0.31170035 0.54133579]\n",
      " [0.31778046 0.25775122 0.21519091 0.45735661 0.58672236 0.42781169\n",
      "  0.35328085 0.53946213 0.22561994 0.33149845 0.46596105 0.17041544\n",
      "  0.64892651 0.47043368 0.34244405 0.46056118 0.53334269 0.35805304\n",
      "  0.45529803 0.15258864 0.72941172 0.08935141 0.40407317 0.29401254\n",
      "  0.0787184  0.53194839 0.48102553 0.33880617 0.35654448 0.35188311\n",
      "  0.45233365 0.68422632 0.66032757 0.72788469 0.23540892 0.40452139\n",
      "  0.06118434 0.11520702 0.22263157 0.45794323 0.55645684 0.50673863\n",
      "  0.52865835 0.46779433 0.41270856 0.47896456 0.48821154 0.37368059\n",
      "  0.44066127 0.65077877 0.02775259 0.40104304 0.05879169 0.45707199\n",
      "  0.22862395 0.49524544 0.32742569 0.21316412 0.11311261 0.45741239\n",
      "  0.41519684 0.19162907 0.40416131 0.54640256 0.74812765 0.49946969\n",
      "  0.3906924  0.40614154 0.37897924 0.21663207 0.38137446 0.40980553\n",
      "  0.20031504 0.59562612 0.38369034 0.50750826 0.43536333 0.16788329\n",
      "  0.12408597 0.2744709  0.3891541  0.55490309 0.4345758  0.35710104\n",
      "  0.42517066 0.66302273 0.49752808 0.55538967 0.40301901 0.27679417\n",
      "  0.47945443 0.17729881 0.5136103  0.16861798 0.         0.46096515\n",
      "  0.6646954  0.44608344 0.19593702 0.51284365]\n",
      " [0.72035045 0.46679263 0.6398215  0.88855971 0.63810004 0.52215569\n",
      "  0.11285129 0.91009781 0.68440622 0.23229577 0.43365496 0.45171754\n",
      "  1.00480537 0.79728064 0.4761169  0.84657333 0.97770737 0.77834033\n",
      "  0.90878406 0.5814354  0.63326096 0.49506844 0.84846647 0.52514839\n",
      "  0.53046926 0.4699079  0.84853629 0.64289514 0.77909795 0.78489067\n",
      "  0.15637074 0.67224031 0.67509748 1.1215147  0.56395156 0.65196695\n",
      "  0.40255946 0.34674476 0.61374329 0.82238995 0.88812204 0.15619394\n",
      "  0.96418036 0.92347823 0.14920523 0.27226417 0.94112145 0.82099573\n",
      "  0.51753883 0.99520034 0.43336677 0.44691411 0.51245355 0.57400292\n",
      "  0.27766217 0.95526686 0.59193794 0.34472808 0.47682723 0.17226733\n",
      "  0.70091494 0.60164844 0.13213148 1.00121335 1.13998118 0.9186548\n",
      "  0.80731856 0.66033437 0.75519769 0.49169706 0.6426676  0.82848442\n",
      "  0.65274699 0.95779927 0.79662838 0.58895002 0.10520542 0.48693879\n",
      "  0.43944817 0.23913496 0.46041537 0.99672072 0.53946866 0.78654246\n",
      "  0.58729315 1.06572359 0.93347715 0.47103186 0.25570643 0.58394016\n",
      "  0.87423935 0.61708062 0.91731654 0.53270999 0.46096515 0.\n",
      "  1.08474802 0.0306302  0.27158043 0.96371714]\n",
      " [0.66915873 0.64041043 0.6327972  0.20848563 0.76025285 0.70235514\n",
      "  0.97213418 0.22285206 0.51691759 0.99589889 0.8294719  0.79496084\n",
      "  0.22337952 0.83929518 0.95433635 0.25014069 0.17065206 0.62642624\n",
      "  0.26438601 0.51629429 0.97991901 0.69195941 0.27303622 0.59422926\n",
      "  0.58600022 0.86951218 0.77162304 0.82294665 0.62003081 0.58791449\n",
      "  1.01149936 0.86483629 0.82427965 0.1187222  0.77124079 0.51630404\n",
      "  0.7073329  0.77063252 0.69199159 0.29152645 0.30544914 1.1631664\n",
      "  0.1471353  0.27149239 1.07096331 0.96902781 0.24108836 0.52754271\n",
      "  0.72027038 0.25438766 0.68695446 1.03060568 0.60591245 0.67355815\n",
      "  0.80771621 0.31228199 0.53375634 0.87343879 0.6111067  1.11806176\n",
      "  0.45409607 0.66517543 1.05951402 0.22970281 0.13473185 0.16702069\n",
      "  0.63764394 0.50588775 0.3377034  0.81266958 0.50768942 0.63308907\n",
      "  0.56258903 0.82774874 0.64726884 0.71449383 1.02148864 0.59810244\n",
      "  0.76297113 0.93762015 1.01245345 0.14637501 0.68984993 0.59920596\n",
      "  0.62349741 0.07148819 0.17531796 0.89696979 1.06755188 0.51603342\n",
      "  0.7101785  0.61024614 0.69569394 0.72816867 0.6646954  1.08474802\n",
      "  0.         1.06166716 0.81926028 0.21506607]\n",
      " [0.71439234 0.43972121 0.63097933 0.86705004 0.60750909 0.49185209\n",
      "  0.09331607 0.88444121 0.67078672 0.24067903 0.40308403 0.44781338\n",
      "  0.97815543 0.79826231 0.48345827 0.82198902 0.95746922 0.77106415\n",
      "  0.89024221 0.56176403 0.60512423 0.48502296 0.82858911 0.49764015\n",
      "  0.51350075 0.43981994 0.84673008 0.64346026 0.77157709 0.77616591\n",
      "  0.12754789 0.64234482 0.64484824 1.09647137 0.56115846 0.62352732\n",
      "  0.38665157 0.33317451 0.60746334 0.79683144 0.86091534 0.18481181\n",
      "  0.94288435 0.90541674 0.16719087 0.24323897 0.92239317 0.81031392\n",
      "  0.48709323 0.96811125 0.41835846 0.45910094 0.49593374 0.54370805\n",
      "  0.25395343 0.93876079 0.56453508 0.34350041 0.45589572 0.19587732\n",
      "  0.67317921 0.59364804 0.14818685 0.9828038  1.11479064 0.89597199\n",
      "  0.80061508 0.63200678 0.73060598 0.4901308  0.61467112 0.82167696\n",
      "  0.64055174 0.95715506 0.7902482  0.55836471 0.07525709 0.46356807\n",
      "  0.43245978 0.23972269 0.47138751 0.97609427 0.50919515 0.77826669\n",
      "  0.55753286 1.04138992 0.91231491 0.44135894 0.27228671 0.55808282\n",
      "  0.87014818 0.60641919 0.91256742 0.52664901 0.44608344 0.0306302\n",
      "  1.06166716 0.         0.25347388 0.94454776]\n",
      " [0.49237042 0.245407   0.39778943 0.61943075 0.52622903 0.37272987\n",
      "  0.16017152 0.65828157 0.42151602 0.22046571 0.35382054 0.25405568\n",
      "  0.75986266 0.6130802  0.3709524  0.5886619  0.70669232 0.54176109\n",
      "  0.63724759 0.31024241 0.61564259 0.25138984 0.57722594 0.30437914\n",
      "  0.26014848 0.41591386 0.64329426 0.46270824 0.54121371 0.54084702\n",
      "  0.26004763 0.60179474 0.58812461 0.86440725 0.36376761 0.43768589\n",
      "  0.13506945 0.09319142 0.38722116 0.57086047 0.65006488 0.34879799\n",
      "  0.69454359 0.65212866 0.26189491 0.30679203 0.66955305 0.56783512\n",
      "  0.37795471 0.75446729 0.16833131 0.39258172 0.24288894 0.41793897\n",
      "  0.06660966 0.68543416 0.36514371 0.19350989 0.208211   0.31174945\n",
      "  0.47375204 0.36532667 0.24674701 0.72972052 0.88362321 0.65237783\n",
      "  0.57332398 0.44373732 0.49825686 0.30751609 0.42168243 0.59358979\n",
      "  0.39509881 0.75788589 0.56459333 0.4549081  0.23959364 0.22842272\n",
      "  0.21998175 0.16213335 0.39195244 0.72609265 0.38616614 0.54468247\n",
      "  0.40810352 0.80522547 0.66365447 0.43302878 0.29826632 0.34026183\n",
      "  0.65400427 0.36650712 0.69249251 0.31170035 0.19593702 0.27158043\n",
      "  0.81926028 0.25347388 0.         0.69215526]\n",
      " [0.45938162 0.56728859 0.43545705 0.12078704 0.77599409 0.67705297\n",
      "  0.85167603 0.29729468 0.32615261 0.83990919 0.79074062 0.61671374\n",
      "  0.36840401 0.62495764 0.76465087 0.25696049 0.04581573 0.41318034\n",
      "  0.05969767 0.3829019  0.98912401 0.51925408 0.11868737 0.53724361\n",
      "  0.43675593 0.84276099 0.55655799 0.61734523 0.40681966 0.37482121\n",
      "  0.91754962 0.88825692 0.84958238 0.32710573 0.57603461 0.50733711\n",
      "  0.5652994  0.62661043 0.49419625 0.30811783 0.38666422 1.01952263\n",
      "  0.0882765  0.05818516 0.92539962 0.89848024 0.02827335 0.31333375\n",
      "  0.69595982 0.39399998 0.53860715 0.84400893 0.45603278 0.6631373\n",
      "  0.69644731 0.10199076 0.49233609 0.70763825 0.49048043 0.96930468\n",
      "  0.45330747 0.47171786 0.91699048 0.04866951 0.34567807 0.1538389\n",
      "  0.42309632 0.4983584  0.30128623 0.62590378 0.48964231 0.41811515\n",
      "  0.3717459  0.61506932 0.4330258  0.71346973 0.91693163 0.49598405\n",
      "  0.59160774 0.78567666 0.82426656 0.06876616 0.66900514 0.38584147\n",
      "  0.61006147 0.26154036 0.08696977 0.8711171  0.90588917 0.45296432\n",
      "  0.4954236  0.42043895 0.48245391 0.54133579 0.51284365 0.96371714\n",
      "  0.21506607 0.94454776 0.69215526 0.        ]]\n"
     ]
    }
   ],
   "source": [
    "#52.Consider a random vector with shape (100,2) representing coordinates, find point by point distances \n",
    "#(hint: np.atleast_2d, T, np.sqrt)\n",
    "a= np.random.random((100,2))\n",
    "x,y = np.atleast_2d(a[:,0], a[:,1])\n",
    "d = np.sqrt( (x-x.T)**2 + (y-y.T)**2)\n",
    "print(d)"
   ]
  },
  {
   "cell_type": "code",
   "execution_count": 53,
   "id": "28b8d80d",
   "metadata": {},
   "outputs": [
    {
     "name": "stdout",
     "output_type": "stream",
     "text": [
      "[0 1 2 3 4 5 6 7 8 9]\n"
     ]
    }
   ],
   "source": [
    "#53.How to convert a float (32 bits) array into an integer (32 bits) in place?\n",
    "#(hint: astype(copy=False))\n",
    "Z = np.arange(10, dtype=np.float32)\n",
    "Z = Z.astype(np.int32, copy=False)\n",
    "print(Z)"
   ]
  },
  {
   "cell_type": "code",
   "execution_count": 54,
   "id": "3d13809f",
   "metadata": {},
   "outputs": [
    {
     "name": "stdout",
     "output_type": "stream",
     "text": [
      "[[ 1  2  3  4  5]\n",
      " [ 6 -1 -1  7  8]\n",
      " [-1 -1  9 10 11]]\n"
     ]
    },
    {
     "name": "stderr",
     "output_type": "stream",
     "text": [
      "C:\\Users\\bharath.g\\AppData\\Local\\Temp\\ipykernel_12236\\1802376389.py:12: DeprecationWarning: `np.int` is a deprecated alias for the builtin `int`. To silence this warning, use `int` by itself. Doing this will not modify any behavior and is safe. When replacing `np.int`, you may wish to use e.g. `np.int64` or `np.int32` to specify the precision. If you wish to review your current use, check the release note link for additional information.\n",
      "Deprecated in NumPy 1.20; for more details and guidance: https://numpy.org/devdocs/release/1.20.0-notes.html#deprecations\n",
      "  Z = np.genfromtxt(s, delimiter=\",\", dtype=np.int)\n"
     ]
    }
   ],
   "source": [
    "#54. How to read the following file?\n",
    "#(hint: np.genfromtxt)\n",
    "#1, 2, 3, 4, 5\n",
    "#6,  ,  , 7, 8\n",
    "#,  , 9,10,11\n",
    "from io import StringIO\n",
    "\n",
    "# Fake file \n",
    "s = StringIO(\"\"\"1, 2, 3, 4, 5\\n\n",
    "                6,  ,  , 7, 8\\n\n",
    "                 ,  , 9,10,11\\n\"\"\")\n",
    "Z = np.genfromtxt(s, delimiter=\",\", dtype=np.int)\n",
    "print(Z)"
   ]
  },
  {
   "cell_type": "code",
   "execution_count": 55,
   "id": "9875574c",
   "metadata": {},
   "outputs": [
    {
     "name": "stdout",
     "output_type": "stream",
     "text": [
      "(0, 0) 0\n",
      "(0, 1) 1\n",
      "(0, 2) 2\n",
      "(1, 0) 3\n",
      "(1, 1) 4\n",
      "(1, 2) 5\n",
      "(2, 0) 6\n",
      "(2, 1) 7\n",
      "(2, 2) 8\n",
      "(0, 0) 0\n",
      "(0, 1) 1\n",
      "(0, 2) 2\n",
      "(1, 0) 3\n",
      "(1, 1) 4\n",
      "(1, 2) 5\n",
      "(2, 0) 6\n",
      "(2, 1) 7\n",
      "(2, 2) 8\n"
     ]
    }
   ],
   "source": [
    "#55.What is the equivalent of enumerate for numpy arrays? \n",
    "#(hint: np.ndenumerate, np.ndindex)\n",
    "Z = np.arange(9).reshape(3,3)\n",
    "for index, value in np.ndenumerate(Z):\n",
    "    print(index, value)\n",
    "for index in np.ndindex(Z.shape):\n",
    "    print(index, Z[index])"
   ]
  },
  {
   "cell_type": "code",
   "execution_count": 56,
   "id": "412d696d",
   "metadata": {},
   "outputs": [
    {
     "name": "stdout",
     "output_type": "stream",
     "text": [
      "[[0.36787944 0.44822088 0.51979489 0.57375342 0.60279818 0.60279818\n",
      "  0.57375342 0.51979489 0.44822088 0.36787944]\n",
      " [0.44822088 0.54610814 0.63331324 0.69905581 0.73444367 0.73444367\n",
      "  0.69905581 0.63331324 0.54610814 0.44822088]\n",
      " [0.51979489 0.63331324 0.73444367 0.81068432 0.85172308 0.85172308\n",
      "  0.81068432 0.73444367 0.63331324 0.51979489]\n",
      " [0.57375342 0.69905581 0.81068432 0.89483932 0.9401382  0.9401382\n",
      "  0.89483932 0.81068432 0.69905581 0.57375342]\n",
      " [0.60279818 0.73444367 0.85172308 0.9401382  0.98773022 0.98773022\n",
      "  0.9401382  0.85172308 0.73444367 0.60279818]\n",
      " [0.60279818 0.73444367 0.85172308 0.9401382  0.98773022 0.98773022\n",
      "  0.9401382  0.85172308 0.73444367 0.60279818]\n",
      " [0.57375342 0.69905581 0.81068432 0.89483932 0.9401382  0.9401382\n",
      "  0.89483932 0.81068432 0.69905581 0.57375342]\n",
      " [0.51979489 0.63331324 0.73444367 0.81068432 0.85172308 0.85172308\n",
      "  0.81068432 0.73444367 0.63331324 0.51979489]\n",
      " [0.44822088 0.54610814 0.63331324 0.69905581 0.73444367 0.73444367\n",
      "  0.69905581 0.63331324 0.54610814 0.44822088]\n",
      " [0.36787944 0.44822088 0.51979489 0.57375342 0.60279818 0.60279818\n",
      "  0.57375342 0.51979489 0.44822088 0.36787944]]\n"
     ]
    }
   ],
   "source": [
    "#56.Generate a generic 2D Gaussian-like array \n",
    "#(hint: np.meshgrid, np.exp)\n",
    "X, Y = np.meshgrid(np.linspace(-1,1,10), np.linspace(-1,1,10))\n",
    "D = np.sqrt(X*X+Y*Y)\n",
    "sigma, mu = 1.0, 0.0\n",
    "G = np.exp(-( (D-mu)**2 / ( 2.0 * sigma**2 ) ) )\n",
    "print(G)"
   ]
  },
  {
   "cell_type": "code",
   "execution_count": 57,
   "id": "f7dabffc",
   "metadata": {},
   "outputs": [
    {
     "name": "stdout",
     "output_type": "stream",
     "text": [
      "[[0. 0. 0. 0. 0. 0. 0. 0. 0. 0.]\n",
      " [0. 0. 0. 0. 0. 0. 0. 0. 0. 0.]\n",
      " [0. 0. 0. 0. 0. 0. 0. 0. 0. 0.]\n",
      " [0. 0. 0. 0. 0. 0. 0. 0. 1. 0.]\n",
      " [0. 0. 0. 0. 0. 0. 0. 0. 0. 0.]\n",
      " [0. 1. 0. 0. 0. 0. 0. 0. 0. 0.]\n",
      " [0. 0. 0. 0. 0. 0. 0. 0. 0. 0.]\n",
      " [0. 0. 0. 0. 0. 0. 0. 0. 0. 0.]\n",
      " [0. 0. 0. 0. 0. 0. 0. 0. 0. 0.]\n",
      " [1. 0. 0. 0. 0. 0. 0. 0. 0. 0.]]\n"
     ]
    }
   ],
   "source": [
    "#57.How to randomly place p elements in a 2D array? \n",
    "#(hint: np.put, np.random.choice)\n",
    "n = 10\n",
    "p = 3\n",
    "Z = np.zeros((n,n))\n",
    "np.put(Z, np.random.choice(range(n*n), p, replace=False),1)\n",
    "print(Z)"
   ]
  },
  {
   "cell_type": "code",
   "execution_count": 58,
   "id": "e50f5383",
   "metadata": {},
   "outputs": [
    {
     "name": "stdout",
     "output_type": "stream",
     "text": [
      "[[ 0.28360709 -0.22889815 -0.11725724  0.41384261  0.08736914 -0.33417372\n",
      "  -0.52386527  0.07575659 -0.06824933  0.41186828]\n",
      " [-0.09484334  0.51880642 -0.33666177 -0.32208049  0.12649882 -0.08701493\n",
      "   0.41753621  0.07393325 -0.02501326 -0.2711609 ]\n",
      " [-0.21341412  0.04416753  0.58365834  0.0606369  -0.34970136 -0.00371797\n",
      "  -0.34266703 -0.20014124  0.16422081  0.25695814]\n",
      " [-0.07497674  0.29152598  0.22624763  0.00070516 -0.3895283   0.224585\n",
      "  -0.28441214 -0.09065693  0.0163008   0.08020953]\n",
      " [-0.58162899  0.27562802 -0.21761985 -0.01501916  0.1674756   0.21191955\n",
      "   0.31223891  0.02402153 -0.30193963  0.12492402]]\n"
     ]
    }
   ],
   "source": [
    "#58. Subtract the mean of each row of a matrix \n",
    "#(hint: mean(axis=,keepdims=))\n",
    "X = np.random.rand(5, 10)\n",
    "Y = X - X.mean(axis=1, keepdims=True)\n",
    "Y = X - X.mean(axis=1).reshape(-1, 1)\n",
    "print(Y)"
   ]
  },
  {
   "cell_type": "code",
   "execution_count": 59,
   "id": "c705d1fb",
   "metadata": {},
   "outputs": [
    {
     "name": "stdout",
     "output_type": "stream",
     "text": [
      "[[2 5 3]\n",
      " [0 7 9]\n",
      " [3 2 2]]\n",
      "[[3 2 2]\n",
      " [2 5 3]\n",
      " [0 7 9]]\n"
     ]
    }
   ],
   "source": [
    "#59.How to sort an array by the nth column?\n",
    "#(hint: argsort)\n",
    "Z = np.random.randint(0,10,(3,3))\n",
    "print(Z)\n",
    "print(Z[Z[:,1].argsort()])"
   ]
  },
  {
   "cell_type": "code",
   "execution_count": 60,
   "id": "3f096f7a",
   "metadata": {},
   "outputs": [
    {
     "name": "stdout",
     "output_type": "stream",
     "text": [
      "False\n"
     ]
    }
   ],
   "source": [
    "#60.How to tell if a given 2D array has null columns?\n",
    "#(hint: any, ~)\n",
    "Z = np.random.randint(0,3,(3,10))\n",
    "print((~Z.any(axis=0)).any())\n"
   ]
  },
  {
   "cell_type": "code",
   "execution_count": 61,
   "id": "5e60fd68",
   "metadata": {},
   "outputs": [
    {
     "name": "stdout",
     "output_type": "stream",
     "text": [
      "0.49178393605445525\n"
     ]
    }
   ],
   "source": [
    "#61.Find the nearest value from a given value in an array (★★☆)\n",
    "#(hint: np.abs, argmin, flat)\n",
    "Z = np.random.uniform(0,1,10)\n",
    "z = 0.5\n",
    "m = Z.flat[np.abs(Z - z).argmin()]\n",
    "print(m)"
   ]
  },
  {
   "cell_type": "code",
   "execution_count": 62,
   "id": "2946ee51",
   "metadata": {},
   "outputs": [
    {
     "name": "stdout",
     "output_type": "stream",
     "text": [
      "[[0 1 2]\n",
      " [1 2 3]\n",
      " [2 3 4]]\n"
     ]
    }
   ],
   "source": [
    "#62.Considering two arrays with shape (1,3) and (3,1), how to compute their sum using an iterator? \n",
    "#(hint: np.nditer)\n",
    "A = np.arange(3).reshape(3,1)\n",
    "B = np.arange(3).reshape(1,3)\n",
    "it = np.nditer([A,B,None])\n",
    "for x,y,z in it: z[...] = x + y\n",
    "print(it.operands[2])\n"
   ]
  },
  {
   "cell_type": "code",
   "execution_count": 63,
   "id": "0a306544",
   "metadata": {},
   "outputs": [
    {
     "name": "stdout",
     "output_type": "stream",
     "text": [
      "range_10\n"
     ]
    }
   ],
   "source": [
    "#63.Create an array class that has a name attribute \n",
    "#(hint: class method)\n",
    "class NamedArray(np.ndarray):\n",
    "    def __new__(cls, array, name=\"no name\"):\n",
    "        obj = np.asarray(array).view(cls)\n",
    "        obj.name = name\n",
    "        return obj\n",
    "    def __array_finalize__(self, obj):\n",
    "        if obj is None: return\n",
    "        self.info = getattr(obj, 'name', \"no name\")\n",
    "\n",
    "Z = NamedArray(np.arange(10), \"range_10\")\n",
    "print(Z.name)"
   ]
  },
  {
   "cell_type": "code",
   "execution_count": 64,
   "id": "0761d87e",
   "metadata": {},
   "outputs": [
    {
     "name": "stdout",
     "output_type": "stream",
     "text": [
      "[6. 2. 1. 3. 4. 3. 4. 2. 2. 3.]\n",
      "[11.  3.  1.  5.  7.  5.  7.  3.  3.  5.]\n"
     ]
    }
   ],
   "source": [
    "#64. Consider a given vector, how to add 1 to each element indexed by a second vector (be careful with repeated indices)?\n",
    "#(hint: np.bincount | np.add.at)\n",
    "Z = np.ones(10)\n",
    "I = np.random.randint(0,len(Z),20)\n",
    "Z += np.bincount(I, minlength=len(Z))\n",
    "print(Z)\n",
    "np.add.at(Z, I, 1)\n",
    "print(Z)"
   ]
  },
  {
   "cell_type": "code",
   "execution_count": 65,
   "id": "5bcee471",
   "metadata": {},
   "outputs": [
    {
     "name": "stdout",
     "output_type": "stream",
     "text": [
      "[0. 7. 0. 6. 5. 0. 0. 0. 0. 3.]\n"
     ]
    }
   ],
   "source": [
    "#65.How to accumulate elements of a vector (X) to an array (F) based on an index list (I)? (★★★)\n",
    "#(hint: np.bincount)\n",
    "X = [1,2,3,4,5,6]\n",
    "I = [1,3,9,3,4,1]\n",
    "F = np.bincount(I,X)\n",
    "print(F)"
   ]
  },
  {
   "cell_type": "code",
   "execution_count": 66,
   "id": "a3e16c66",
   "metadata": {},
   "outputs": [
    {
     "name": "stdout",
     "output_type": "stream",
     "text": [
      "8\n"
     ]
    }
   ],
   "source": [
    "#66. Considering a (w,h,3) image of (dtype=ubyte), compute the number of unique colors\n",
    "#(hint: np.unique)\n",
    "w,h = 16,16\n",
    "I = np.random.randint(0,2,(h,w,3)).astype(np.ubyte)\n",
    "F = I[...,0]*(256*256 )+ I[...,1]*256 +I[...,2]\n",
    "n = len(np.unique(F))\n",
    "print(n)"
   ]
  },
  {
   "cell_type": "code",
   "execution_count": 67,
   "id": "57ef31be",
   "metadata": {},
   "outputs": [
    {
     "name": "stdout",
     "output_type": "stream",
     "text": [
      "[[64 52 55 61]\n",
      " [53 46 38 53]\n",
      " [63 39 63 35]]\n",
      "[[64 52 55 61]\n",
      " [53 46 38 53]\n",
      " [63 39 63 35]]\n"
     ]
    }
   ],
   "source": [
    "#67.Considering a four dimensions array, how to get sum over the last two axis at once? \n",
    "#(hint: sum(axis=(-2,-1)))\n",
    "A = np.random.randint(0,10,(3,4,3,4))\n",
    "sum = A.sum(axis=(-2,-1))\n",
    "print(sum)\n",
    "sum = A.reshape(A.shape[:-2] + (-1,)).sum(axis=-1)\n",
    "print(sum)"
   ]
  },
  {
   "cell_type": "code",
   "execution_count": 68,
   "id": "6b0ec711",
   "metadata": {},
   "outputs": [
    {
     "name": "stdout",
     "output_type": "stream",
     "text": [
      "[0.47052765 0.54002201 0.40574791 0.40030077 0.40577026 0.52002347\n",
      " 0.5917547  0.68137784 0.50706435 0.49798194]\n"
     ]
    }
   ],
   "source": [
    "#68.Considering a one-dimensional vector D, how to compute means of subsets of D using a vector S of same size describing subset indices?\n",
    "#(hint: np.bincount)\n",
    "D = np.random.uniform(0,1,100)\n",
    "S = np.random.randint(0,10,100)\n",
    "D_sums = np.bincount(S, weights=D)\n",
    "D_counts = np.bincount(S)\n",
    "D_means = D_sums / D_counts\n",
    "print(D_means)\n",
    "\n"
   ]
  },
  {
   "cell_type": "code",
   "execution_count": 69,
   "id": "24d62e7b",
   "metadata": {},
   "outputs": [
    {
     "data": {
      "text/plain": [
       "array([0.92178666, 0.57840317, 1.11837427, 0.84257092, 1.99641782])"
      ]
     },
     "execution_count": 69,
     "metadata": {},
     "output_type": "execute_result"
    }
   ],
   "source": [
    "#69. How to get the diagonal of a dot product? \n",
    "#(hint: np.diag)\n",
    "A = np.random.uniform(0,1,(5,5))\n",
    "B = np.random.uniform(0,1,(5,5))\n",
    "np.diag(np.dot(A, B))\n",
    "np.sum(A * B.T, axis=1)\n",
    "np.einsum(\"ij,ji->i\", A, B)"
   ]
  },
  {
   "cell_type": "code",
   "execution_count": 70,
   "id": "9cce0d21",
   "metadata": {},
   "outputs": [
    {
     "name": "stdout",
     "output_type": "stream",
     "text": [
      "[1. 0. 0. 0. 2. 0. 0. 0. 3. 0. 0. 0. 4. 0. 0. 0. 5.]\n"
     ]
    }
   ],
   "source": [
    "#70.Consider the vector [1, 2, 3, 4, 5], how to build a new vector with 3 consecutive zeros interleaved between each value? \n",
    "#(hint: array[:, :, None])\n",
    "Z = np.array([1,2,3,4,5])\n",
    "nz = 3\n",
    "Z0 = np.zeros(len(Z) + (len(Z)-1)*(nz))\n",
    "Z0[::nz+1] = Z\n",
    "print(Z0)\n"
   ]
  },
  {
   "cell_type": "code",
   "execution_count": 71,
   "id": "a3098f30",
   "metadata": {},
   "outputs": [
    {
     "name": "stdout",
     "output_type": "stream",
     "text": [
      "[[[2. 2. 2.]\n",
      "  [2. 2. 2.]\n",
      "  [2. 2. 2.]\n",
      "  [2. 2. 2.]\n",
      "  [2. 2. 2.]]\n",
      "\n",
      " [[2. 2. 2.]\n",
      "  [2. 2. 2.]\n",
      "  [2. 2. 2.]\n",
      "  [2. 2. 2.]\n",
      "  [2. 2. 2.]]\n",
      "\n",
      " [[2. 2. 2.]\n",
      "  [2. 2. 2.]\n",
      "  [2. 2. 2.]\n",
      "  [2. 2. 2.]\n",
      "  [2. 2. 2.]]\n",
      "\n",
      " [[2. 2. 2.]\n",
      "  [2. 2. 2.]\n",
      "  [2. 2. 2.]\n",
      "  [2. 2. 2.]\n",
      "  [2. 2. 2.]]\n",
      "\n",
      " [[2. 2. 2.]\n",
      "  [2. 2. 2.]\n",
      "  [2. 2. 2.]\n",
      "  [2. 2. 2.]\n",
      "  [2. 2. 2.]]]\n"
     ]
    }
   ],
   "source": [
    "#71.Consider an array of dimension (5,5,3), how to mulitply it by an array with dimensions (5,5)? \n",
    "#(hint: array[[]] = array[[]])\n",
    "A = np.ones((5,5,3))\n",
    "B = 2*np.ones((5,5))\n",
    "print(A * B[:,:,None])\n"
   ]
  },
  {
   "cell_type": "code",
   "execution_count": 72,
   "id": "0430af1a",
   "metadata": {},
   "outputs": [
    {
     "name": "stdout",
     "output_type": "stream",
     "text": [
      "[[ 5  6  7  8  9]\n",
      " [ 0  1  2  3  4]\n",
      " [10 11 12 13 14]\n",
      " [15 16 17 18 19]\n",
      " [20 21 22 23 24]]\n"
     ]
    }
   ],
   "source": [
    "#72. How to swap two rows of an array?\n",
    "A = np.arange(25).reshape(5,5)\n",
    "A[[0,1]] = A[[1,0]]\n",
    "print(A)\n"
   ]
  },
  {
   "cell_type": "code",
   "execution_count": 73,
   "id": "5b5012dc",
   "metadata": {},
   "outputs": [
    {
     "name": "stdout",
     "output_type": "stream",
     "text": [
      "[( 2, 59) ( 2, 68) ( 7, 45) ( 7, 92) (11, 11) (11, 65) (21, 30) (21, 94)\n",
      " (25, 55) (25, 89) (28, 64) (28, 97) (29, 35) (29, 50) (30, 94) (33, 68)\n",
      " (33, 99) (34, 57) (34, 86) (35, 50) (45, 92) (55, 68) (55, 74) (55, 89)\n",
      " (57, 86) (59, 68) (64, 97) (68, 74) (68, 99)]\n"
     ]
    }
   ],
   "source": [
    "#73. Consider a set of 10 triplets describing 10 triangles (with shared vertices), find the set of unique line segments composing all the  triangles \n",
    "faces = np.random.randint(0,100,(10,3))\n",
    "F = np.roll(faces.repeat(2,axis=1),-1,axis=1)\n",
    "F = F.reshape(len(F)*3,2)\n",
    "F = np.sort(F,axis=1)\n",
    "G = F.view( dtype=[('p0',F.dtype),('p1',F.dtype)] )\n",
    "G = np.unique(G)\n",
    "print(G)\n"
   ]
  },
  {
   "cell_type": "code",
   "execution_count": 74,
   "id": "fedb02a4",
   "metadata": {},
   "outputs": [
    {
     "name": "stdout",
     "output_type": "stream",
     "text": [
      "[1 1 2 3 4 4 6]\n"
     ]
    }
   ],
   "source": [
    "#74. Given a sorted array C that corresponds to a bincount, how to produce an array A such that np.bincount(A) == C?\n",
    "C = np.bincount([1,1,2,3,4,4,6])\n",
    "A = np.repeat(np.arange(len(C)), C)\n",
    "print(A)\n"
   ]
  },
  {
   "cell_type": "code",
   "execution_count": 75,
   "id": "e650f0f7",
   "metadata": {},
   "outputs": [
    {
     "name": "stdout",
     "output_type": "stream",
     "text": [
      "[ 1.  2.  3.  4.  5.  6.  7.  8.  9. 10. 11. 12. 13. 14. 15. 16. 17. 18.]\n"
     ]
    }
   ],
   "source": [
    "# 75. How to compute averages using a sliding window over an array? \n",
    "def moving_average(a, n=3) :\n",
    "    ret = np.cumsum(a, dtype=float)\n",
    "    ret[n:] = ret[n:] - ret[:-n]\n",
    "    return ret[n - 1:] / n\n",
    "Z = np.arange(20)\n",
    "print(moving_average(Z, n=3))"
   ]
  },
  {
   "cell_type": "code",
   "execution_count": 76,
   "id": "27414d8a",
   "metadata": {},
   "outputs": [
    {
     "name": "stdout",
     "output_type": "stream",
     "text": [
      "[[0 1 2]\n",
      " [1 2 3]\n",
      " [2 3 4]\n",
      " [3 4 5]\n",
      " [4 5 6]\n",
      " [5 6 7]\n",
      " [6 7 8]\n",
      " [7 8 9]]\n"
     ]
    }
   ],
   "source": [
    "#76. Consider a one-dimensional array Z, build a two-dimensional array whose first row is (Z[0],Z[1],Z[2]) and each subsequent row is  shifted by 1 (last row should be (Z[-3],Z[-2],Z[-1])\n",
    "from numpy.lib import stride_tricks\n",
    "\n",
    "def rolling(a, window):\n",
    "    shape = (a.size - window + 1, window)\n",
    "    strides = (a.strides[0], a.strides[0])\n",
    "    return stride_tricks.as_strided(a, shape=shape, strides=strides)\n",
    "Z = rolling(np.arange(10), 3)\n",
    "print(Z)"
   ]
  },
  {
   "cell_type": "code",
   "execution_count": 77,
   "id": "efe9cd50",
   "metadata": {},
   "outputs": [
    {
     "data": {
      "text/plain": [
       "array([1, 1, 1, 1, 1, 1, 1, 0, 1, 0, 0, 0, 1, 0, 0, 0, 1, 1, 0, 0, 1, 1,\n",
       "       0, 0, 0, 0, 1, 1, 1, 1, 1, 1, 0, 0, 1, 1, 0, 0, 0, 1, 1, 0, 1, 0,\n",
       "       1, 1, 1, 1, 0, 0, 1, 0, 1, 0, 0, 0, 1, 0, 0, 0, 1, 1, 0, 1, 1, 0,\n",
       "       1, 0, 0, 0, 0, 0, 1, 1, 0, 1, 1, 0, 1, 0, 0, 1, 0, 0, 0, 0, 1, 0,\n",
       "       0, 0, 1, 1, 0, 0, 1, 0, 0, 0, 1, 1])"
      ]
     },
     "execution_count": 77,
     "metadata": {},
     "output_type": "execute_result"
    }
   ],
   "source": [
    "#77. How to negate a boolean, or to change the sign of a float inplace? \n",
    "Z = np.random.randint(0,2,100)\n",
    "np.logical_not(Z, out=Z)"
   ]
  },
  {
   "cell_type": "code",
   "execution_count": 78,
   "id": "a00d0cd3",
   "metadata": {},
   "outputs": [
    {
     "name": "stdout",
     "output_type": "stream",
     "text": [
      "[15.97017889 13.92867194  3.80905328 19.516412    1.19752657 13.66069549\n",
      " 11.96916404 13.98055199 17.34856252  9.41771558]\n"
     ]
    }
   ],
   "source": [
    "#78. Consider 2 sets of points P0,P1 describing lines (2d) and a point p, how to compute distance from p to each line i (P0[i],P1[i])?\n",
    "\n",
    "def distance(P0, P1, p):\n",
    "    T = P1 - P0\n",
    "    L = (T**2).sum(axis=1)\n",
    "    U = -((P0[:,0]-p[...,0])*T[:,0] + (P0[:,1]-p[...,1])*T[:,1]) / L\n",
    "    U = U.reshape(len(U),1)\n",
    "    D = P0 + U*T - p\n",
    "    return np.sqrt((D**2).sum(axis=1))\n",
    "\n",
    "P0 = np.random.uniform(-10,10,(10,2))\n",
    "P1 = np.random.uniform(-10,10,(10,2))\n",
    "p  = np.random.uniform(-10,10,( 1,2))\n",
    "print(distance(P0, P1, p))\n"
   ]
  },
  {
   "cell_type": "code",
   "execution_count": 79,
   "id": "dbf3d3f0",
   "metadata": {},
   "outputs": [
    {
     "name": "stdout",
     "output_type": "stream",
     "text": [
      "[[3.98575481e-01 3.80196623e-01 5.20015186e+00 6.82266280e-01\n",
      "  2.08836364e-01 1.91008924e+00 1.04051520e+01 4.04956349e+00\n",
      "  8.20164114e+00 2.10800864e+00]\n",
      " [7.51935818e+00 1.14860055e+00 9.17288810e+00 4.50340505e+00\n",
      "  7.70870119e+00 5.59106205e+00 9.02944174e+00 3.21036631e+00\n",
      "  9.65655163e-01 5.21148082e+00]\n",
      " [5.82078591e+00 1.78008430e+00 1.11818567e+01 1.66946122e+00\n",
      "  7.37155358e+00 5.25060137e+00 6.38441921e+00 6.10978017e+00\n",
      "  8.50573501e-01 5.21174723e+00]\n",
      " [2.71531811e+00 3.53984260e+00 2.54595320e+00 4.49172512e+00\n",
      "  7.10867419e-01 1.40362673e+00 1.39264056e+01 1.73376961e-01\n",
      "  8.30511088e+00 2.05763503e+00]\n",
      " [1.25848836e-01 1.00196194e+00 5.49471114e+00 1.90791037e-02\n",
      "  5.51905395e-02 2.17480787e+00 9.91603966e+00 4.64739537e+00\n",
      "  8.36892810e+00 2.30029042e+00]\n",
      " [3.69347817e+00 4.58806320e+00 1.27063003e+01 1.23503012e+00\n",
      "  6.46237644e+00 4.33828316e+00 4.06893194e+00 8.83574744e+00\n",
      "  1.32393504e+00 4.62641698e+00]\n",
      " [5.15623354e+00 6.66255833e+00 1.62766603e+01 2.24098560e+00\n",
      "  9.35549552e+00 7.22886604e+00 1.01662183e+00 1.11778708e+01\n",
      "  1.87762152e+00 7.75672458e+00]\n",
      " [2.71257629e+00 6.05281161e+00 9.23540499e+00 4.73966381e+00\n",
      "  2.34088902e-01 2.35944434e+00 5.20289264e+00 9.68482738e+00\n",
      "  7.76943435e+00 1.89751316e+00]\n",
      " [6.24758959e+00 9.16304541e+00 2.00390874e+01 3.70585739e+00\n",
      "  1.20535072e+01 9.92386846e+00 2.36544571e+00 1.39282799e+01\n",
      "  4.95040438e+00 1.07410880e+01]\n",
      " [1.24251487e+01 6.16606388e+00 2.15590842e+01 8.61791392e-01\n",
      "  1.76139203e+01 1.54873564e+01 1.62162579e+00 1.14414423e+01\n",
      "  1.00282374e+01 1.59531974e+01]]\n"
     ]
    }
   ],
   "source": [
    "#79. Consider 2 sets of points P0,P1 describing lines (2d) and a set of points P, how to compute distance from each point j (P[j]) to each line i (P0[i],P1[i])? (★★★)\n",
    "\n",
    "P0 = np.random.uniform(-10, 10, (10,2))\n",
    "P1 = np.random.uniform(-10,10,(10,2))\n",
    "p = np.random.uniform(-10, 10, (10,2))\n",
    "print(np.array([distance(P0,P1,p_i) for p_i in p]))"
   ]
  },
  {
   "cell_type": "code",
   "execution_count": 80,
   "id": "8be1744d",
   "metadata": {},
   "outputs": [
    {
     "name": "stdout",
     "output_type": "stream",
     "text": [
      "[[5 7 8 1 2 7 8 4 7 0]\n",
      " [7 0 7 1 0 5 4 2 6 7]\n",
      " [9 0 8 9 0 8 2 7 1 4]\n",
      " [7 0 2 9 8 5 3 9 2 2]\n",
      " [0 4 4 7 1 0 4 8 6 5]\n",
      " [8 7 0 4 1 2 2 4 8 5]\n",
      " [9 2 1 5 9 9 3 4 2 8]\n",
      " [8 9 7 8 7 0 0 9 7 0]\n",
      " [5 1 8 2 6 6 9 8 0 1]\n",
      " [2 2 0 6 9 4 0 2 9 7]]\n",
      "[[0 0 0 0 0]\n",
      " [0 5 7 8 1]\n",
      " [0 7 0 7 1]\n",
      " [0 9 0 8 9]\n",
      " [0 7 0 2 9]]\n"
     ]
    },
    {
     "name": "stderr",
     "output_type": "stream",
     "text": [
      "C:\\Users\\bharath.g\\AppData\\Local\\Temp\\ipykernel_12236\\1020413482.py:24: FutureWarning: Using a non-tuple sequence for multidimensional indexing is deprecated; use `arr[tuple(seq)]` instead of `arr[seq]`. In the future this will be interpreted as an array index, `arr[np.array(seq)]`, which will result either in an error or a different result.\n",
      "  R[r] = Z[z]\n"
     ]
    }
   ],
   "source": [
    "#80. Consider an arbitrary array, write a function that extract a subpart with a fixed shape and centered on a given element (pad with a `fill` value when necessary) (★★★)\n",
    "Z = np.random.randint(0,10,(10,10))\n",
    "shape = (5,5)\n",
    "fill  = 0\n",
    "position = (1,1)\n",
    "\n",
    "R = np.ones(shape, dtype=Z.dtype)*fill\n",
    "P  = np.array(list(position)).astype(int)\n",
    "Rs = np.array(list(R.shape)).astype(int)\n",
    "Zs = np.array(list(Z.shape)).astype(int)\n",
    "\n",
    "R_start = np.zeros((len(shape),)).astype(int)\n",
    "R_stop  = np.array(list(shape)).astype(int)\n",
    "Z_start = (P-Rs//2)\n",
    "Z_stop  = (P+Rs//2)+Rs%2\n",
    "\n",
    "R_start = (R_start - np.minimum(Z_start,0)).tolist()\n",
    "Z_start = (np.maximum(Z_start,0)).tolist()\n",
    "R_stop = np.maximum(R_start, (R_stop - np.maximum(Z_stop-Zs,0))).tolist()\n",
    "Z_stop = (np.minimum(Z_stop,Zs)).tolist()\n",
    "\n",
    "r = [slice(start,stop) for start,stop in zip(R_start,R_stop)]\n",
    "z = [slice(start,stop) for start,stop in zip(Z_start,Z_stop)]\n",
    "R[r] = Z[z]\n",
    "print(Z)\n",
    "print(R)\n"
   ]
  },
  {
   "cell_type": "code",
   "execution_count": 81,
   "id": "c1971141",
   "metadata": {},
   "outputs": [
    {
     "name": "stdout",
     "output_type": "stream",
     "text": [
      "[[ 1  2  3  4]\n",
      " [ 2  3  4  5]\n",
      " [ 3  4  5  6]\n",
      " [ 4  5  6  7]\n",
      " [ 5  6  7  8]\n",
      " [ 6  7  8  9]\n",
      " [ 7  8  9 10]\n",
      " [ 8  9 10 11]\n",
      " [ 9 10 11 12]\n",
      " [10 11 12 13]\n",
      " [11 12 13 14]]\n"
     ]
    }
   ],
   "source": [
    "#81. Consider an array Z = [1,2,3,4,5,6,7,8,9,10,11,12,13,14], how to generate an array R = [[1,2,3,4], [2,3,4,5], [3,4,5,6], ..., [11,12,13,14]]? \n",
    "Z = np.arange(1,15,dtype=np.uint32)\n",
    "R = stride_tricks.as_strided(Z,(11,4),(4,4))\n",
    "print(R)"
   ]
  },
  {
   "cell_type": "code",
   "execution_count": 82,
   "id": "2bf90723",
   "metadata": {},
   "outputs": [
    {
     "name": "stdout",
     "output_type": "stream",
     "text": [
      "10\n"
     ]
    }
   ],
   "source": [
    "#82. Compute a matrix rank (★★★)\n",
    "Z = np.random.uniform(0,1,(10,10))\n",
    "U, S, V = np.linalg.svd(Z) # Singular Value Decomposition\n",
    "rank = np.sum(S > 1e-10)\n",
    "print(rank)\n",
    "\n"
   ]
  },
  {
   "cell_type": "code",
   "execution_count": 83,
   "id": "954bc0de",
   "metadata": {},
   "outputs": [
    {
     "name": "stdout",
     "output_type": "stream",
     "text": [
      "3\n"
     ]
    }
   ],
   "source": [
    "#83. How to find the most frequent value in an array?\n",
    "Z = np.random.randint(0,10,50)\n",
    "print(np.bincount(Z).argmax())\n"
   ]
  },
  {
   "cell_type": "code",
   "execution_count": 84,
   "id": "725e207f",
   "metadata": {},
   "outputs": [
    {
     "name": "stdout",
     "output_type": "stream",
     "text": [
      "[[[[2 0 2]\n",
      "   [4 0 2]\n",
      "   [2 3 0]]\n",
      "\n",
      "  [[0 2 2]\n",
      "   [0 2 2]\n",
      "   [3 0 4]]\n",
      "\n",
      "  [[2 2 1]\n",
      "   [2 2 0]\n",
      "   [0 4 2]]\n",
      "\n",
      "  [[2 1 2]\n",
      "   [2 0 0]\n",
      "   [4 2 1]]\n",
      "\n",
      "  [[1 2 2]\n",
      "   [0 0 2]\n",
      "   [2 1 1]]\n",
      "\n",
      "  [[2 2 4]\n",
      "   [0 2 4]\n",
      "   [1 1 4]]\n",
      "\n",
      "  [[2 4 0]\n",
      "   [2 4 0]\n",
      "   [1 4 0]]\n",
      "\n",
      "  [[4 0 1]\n",
      "   [4 0 3]\n",
      "   [4 0 0]]]\n",
      "\n",
      "\n",
      " [[[4 0 2]\n",
      "   [2 3 0]\n",
      "   [4 4 0]]\n",
      "\n",
      "  [[0 2 2]\n",
      "   [3 0 4]\n",
      "   [4 0 3]]\n",
      "\n",
      "  [[2 2 0]\n",
      "   [0 4 2]\n",
      "   [0 3 3]]\n",
      "\n",
      "  [[2 0 0]\n",
      "   [4 2 1]\n",
      "   [3 3 4]]\n",
      "\n",
      "  [[0 0 2]\n",
      "   [2 1 1]\n",
      "   [3 4 0]]\n",
      "\n",
      "  [[0 2 4]\n",
      "   [1 1 4]\n",
      "   [4 0 2]]\n",
      "\n",
      "  [[2 4 0]\n",
      "   [1 4 0]\n",
      "   [0 2 0]]\n",
      "\n",
      "  [[4 0 3]\n",
      "   [4 0 0]\n",
      "   [2 0 1]]]\n",
      "\n",
      "\n",
      " [[[2 3 0]\n",
      "   [4 4 0]\n",
      "   [0 3 2]]\n",
      "\n",
      "  [[3 0 4]\n",
      "   [4 0 3]\n",
      "   [3 2 3]]\n",
      "\n",
      "  [[0 4 2]\n",
      "   [0 3 3]\n",
      "   [2 3 4]]\n",
      "\n",
      "  [[4 2 1]\n",
      "   [3 3 4]\n",
      "   [3 4 3]]\n",
      "\n",
      "  [[2 1 1]\n",
      "   [3 4 0]\n",
      "   [4 3 0]]\n",
      "\n",
      "  [[1 1 4]\n",
      "   [4 0 2]\n",
      "   [3 0 1]]\n",
      "\n",
      "  [[1 4 0]\n",
      "   [0 2 0]\n",
      "   [0 1 1]]\n",
      "\n",
      "  [[4 0 0]\n",
      "   [2 0 1]\n",
      "   [1 1 0]]]\n",
      "\n",
      "\n",
      " [[[4 4 0]\n",
      "   [0 3 2]\n",
      "   [2 0 4]]\n",
      "\n",
      "  [[4 0 3]\n",
      "   [3 2 3]\n",
      "   [0 4 2]]\n",
      "\n",
      "  [[0 3 3]\n",
      "   [2 3 4]\n",
      "   [4 2 3]]\n",
      "\n",
      "  [[3 3 4]\n",
      "   [3 4 3]\n",
      "   [2 3 1]]\n",
      "\n",
      "  [[3 4 0]\n",
      "   [4 3 0]\n",
      "   [3 1 2]]\n",
      "\n",
      "  [[4 0 2]\n",
      "   [3 0 1]\n",
      "   [1 2 2]]\n",
      "\n",
      "  [[0 2 0]\n",
      "   [0 1 1]\n",
      "   [2 2 3]]\n",
      "\n",
      "  [[2 0 1]\n",
      "   [1 1 0]\n",
      "   [2 3 2]]]\n",
      "\n",
      "\n",
      " [[[0 3 2]\n",
      "   [2 0 4]\n",
      "   [1 0 3]]\n",
      "\n",
      "  [[3 2 3]\n",
      "   [0 4 2]\n",
      "   [0 3 3]]\n",
      "\n",
      "  [[2 3 4]\n",
      "   [4 2 3]\n",
      "   [3 3 0]]\n",
      "\n",
      "  [[3 4 3]\n",
      "   [2 3 1]\n",
      "   [3 0 4]]\n",
      "\n",
      "  [[4 3 0]\n",
      "   [3 1 2]\n",
      "   [0 4 4]]\n",
      "\n",
      "  [[3 0 1]\n",
      "   [1 2 2]\n",
      "   [4 4 1]]\n",
      "\n",
      "  [[0 1 1]\n",
      "   [2 2 3]\n",
      "   [4 1 1]]\n",
      "\n",
      "  [[1 1 0]\n",
      "   [2 3 2]\n",
      "   [1 1 0]]]\n",
      "\n",
      "\n",
      " [[[2 0 4]\n",
      "   [1 0 3]\n",
      "   [3 2 4]]\n",
      "\n",
      "  [[0 4 2]\n",
      "   [0 3 3]\n",
      "   [2 4 2]]\n",
      "\n",
      "  [[4 2 3]\n",
      "   [3 3 0]\n",
      "   [4 2 3]]\n",
      "\n",
      "  [[2 3 1]\n",
      "   [3 0 4]\n",
      "   [2 3 4]]\n",
      "\n",
      "  [[3 1 2]\n",
      "   [0 4 4]\n",
      "   [3 4 1]]\n",
      "\n",
      "  [[1 2 2]\n",
      "   [4 4 1]\n",
      "   [4 1 1]]\n",
      "\n",
      "  [[2 2 3]\n",
      "   [4 1 1]\n",
      "   [1 1 0]]\n",
      "\n",
      "  [[2 3 2]\n",
      "   [1 1 0]\n",
      "   [1 0 2]]]\n",
      "\n",
      "\n",
      " [[[1 0 3]\n",
      "   [3 2 4]\n",
      "   [3 3 4]]\n",
      "\n",
      "  [[0 3 3]\n",
      "   [2 4 2]\n",
      "   [3 4 0]]\n",
      "\n",
      "  [[3 3 0]\n",
      "   [4 2 3]\n",
      "   [4 0 3]]\n",
      "\n",
      "  [[3 0 4]\n",
      "   [2 3 4]\n",
      "   [0 3 3]]\n",
      "\n",
      "  [[0 4 4]\n",
      "   [3 4 1]\n",
      "   [3 3 1]]\n",
      "\n",
      "  [[4 4 1]\n",
      "   [4 1 1]\n",
      "   [3 1 3]]\n",
      "\n",
      "  [[4 1 1]\n",
      "   [1 1 0]\n",
      "   [1 3 0]]\n",
      "\n",
      "  [[1 1 0]\n",
      "   [1 0 2]\n",
      "   [3 0 1]]]\n",
      "\n",
      "\n",
      " [[[3 2 4]\n",
      "   [3 3 4]\n",
      "   [2 4 1]]\n",
      "\n",
      "  [[2 4 2]\n",
      "   [3 4 0]\n",
      "   [4 1 2]]\n",
      "\n",
      "  [[4 2 3]\n",
      "   [4 0 3]\n",
      "   [1 2 0]]\n",
      "\n",
      "  [[2 3 4]\n",
      "   [0 3 3]\n",
      "   [2 0 2]]\n",
      "\n",
      "  [[3 4 1]\n",
      "   [3 3 1]\n",
      "   [0 2 1]]\n",
      "\n",
      "  [[4 1 1]\n",
      "   [3 1 3]\n",
      "   [2 1 1]]\n",
      "\n",
      "  [[1 1 0]\n",
      "   [1 3 0]\n",
      "   [1 1 0]]\n",
      "\n",
      "  [[1 0 2]\n",
      "   [3 0 1]\n",
      "   [1 0 1]]]]\n"
     ]
    }
   ],
   "source": [
    "#84. Extract all the contiguous 3x3 blocks from a random 10x10 matrix (★★★)\n",
    "Z = np.random.randint(0,5,(10,10))\n",
    "n = 3\n",
    "i = 1 + (Z.shape[0]-3)\n",
    "j = 1 + (Z.shape[1]-3)\n",
    "C = stride_tricks.as_strided(Z, shape=(i, j, n, n), strides=Z.strides + Z.strides)\n",
    "print(C)"
   ]
  },
  {
   "cell_type": "code",
   "execution_count": 85,
   "id": "ec532ca5",
   "metadata": {},
   "outputs": [
    {
     "name": "stdout",
     "output_type": "stream",
     "text": [
      "[[ 4  3 10 11  6]\n",
      " [ 3  7 16  5  8]\n",
      " [10 16  5 42  6]\n",
      " [11  5 42  2  9]\n",
      " [ 6  8  6  9  7]]\n"
     ]
    }
   ],
   "source": [
    "#85. Create a 2D array subclass such that Z[i,j] == Z[j,i] (★★★)\n",
    "class Symetric(np.ndarray):\n",
    "    def __setitem__(self, index, value):\n",
    "        i,j = index\n",
    "        super(Symetric, self).__setitem__((i,j), value)\n",
    "        super(Symetric, self).__setitem__((j,i), value)\n",
    "\n",
    "def symetric(Z):\n",
    "    return np.asarray(Z + Z.T - np.diag(Z.diagonal())).view(Symetric)\n",
    "\n",
    "S = symetric(np.random.randint(0,10,(5,5)))\n",
    "S[2,3] = 42\n",
    "print(S)"
   ]
  },
  {
   "cell_type": "code",
   "execution_count": 86,
   "id": "cfe98afa",
   "metadata": {},
   "outputs": [
    {
     "name": "stdout",
     "output_type": "stream",
     "text": [
      "[[200.]\n",
      " [200.]\n",
      " [200.]\n",
      " [200.]\n",
      " [200.]\n",
      " [200.]\n",
      " [200.]\n",
      " [200.]\n",
      " [200.]\n",
      " [200.]\n",
      " [200.]\n",
      " [200.]\n",
      " [200.]\n",
      " [200.]\n",
      " [200.]\n",
      " [200.]\n",
      " [200.]\n",
      " [200.]\n",
      " [200.]\n",
      " [200.]]\n"
     ]
    }
   ],
   "source": [
    "#86. Consider a set of p matrices with shape (n,n) and a set of p vectors with shape (n,1). How to compute the sum of of the p matrix products at once? (result has shape (n,1)) (★★★)\n",
    "p, n = 10, 20\n",
    "M = np.ones((p,n,n))\n",
    "V = np.ones((p,n,1))\n",
    "S = np.tensordot(M, V, axes=[[0, 2], [0, 1]])\n",
    "print(S)"
   ]
  },
  {
   "cell_type": "code",
   "execution_count": 87,
   "id": "68ab5f39",
   "metadata": {},
   "outputs": [
    {
     "name": "stdout",
     "output_type": "stream",
     "text": [
      "[[16. 16. 16. 16.]\n",
      " [16. 16. 16. 16.]\n",
      " [16. 16. 16. 16.]\n",
      " [16. 16. 16. 16.]]\n"
     ]
    }
   ],
   "source": [
    "#87. Consider a 16x16 array, how to get the block-sum (block size is 4x4)? (★★★)\n",
    "Z = np.ones((16,16))\n",
    "k = 4\n",
    "S = np.add.reduceat(np.add.reduceat(Z, np.arange(0, Z.shape[0], k), axis=0),\n",
    "                                       np.arange(0, Z.shape[1], k), axis=1)\n",
    "print(S)"
   ]
  },
  {
   "cell_type": "code",
   "execution_count": 88,
   "id": "92fc0143",
   "metadata": {},
   "outputs": [
    {
     "name": "stdout",
     "output_type": "stream",
     "text": [
      "[[0 0 0 0 0 0 0 0 0 0 0 0 0 0 0 0 0 0 0 0 0 0 0 0 0 0 0 0 0 0 0 0 0 0 0 0\n",
      "  0 0 0 0 0 0 0 0 0 0 0 0 0 0]\n",
      " [0 0 0 0 0 0 0 0 0 0 0 0 0 0 0 0 0 0 0 0 0 0 0 0 0 0 0 0 0 0 0 0 0 0 0 0\n",
      "  0 0 0 0 0 0 0 0 0 0 0 0 0 0]\n",
      " [0 0 0 0 0 0 0 0 0 0 0 0 0 0 0 0 0 0 0 0 0 0 0 0 0 0 0 0 0 0 0 0 0 0 0 0\n",
      "  0 0 0 0 0 0 0 0 0 0 0 0 0 0]\n",
      " [0 0 0 0 0 0 0 0 0 0 0 0 0 0 0 0 0 0 0 0 0 0 0 0 0 0 0 0 0 0 0 0 0 0 0 0\n",
      "  0 0 0 0 0 0 0 0 0 0 0 0 0 0]\n",
      " [0 0 0 0 0 0 0 0 0 0 0 0 0 0 0 0 0 0 0 0 0 0 0 0 0 0 0 0 0 0 0 0 0 0 0 0\n",
      "  0 0 0 0 0 0 0 0 0 0 0 0 0 0]\n",
      " [0 0 0 0 0 0 0 0 0 0 0 0 0 0 0 0 0 0 0 0 0 0 0 0 0 0 0 0 0 0 0 0 0 0 0 0\n",
      "  0 0 0 0 0 0 0 0 0 0 0 0 0 0]\n",
      " [0 0 0 0 0 0 0 0 0 0 0 0 0 0 0 0 0 0 0 0 0 0 0 0 0 0 0 0 0 0 0 0 0 0 0 0\n",
      "  0 0 0 0 0 0 0 0 0 0 0 0 0 0]\n",
      " [0 0 0 0 0 0 0 0 0 0 0 0 0 0 0 0 0 0 0 0 0 0 0 0 0 0 0 0 0 0 0 0 0 0 0 0\n",
      "  0 0 0 0 0 0 0 0 0 0 0 0 0 0]\n",
      " [0 0 0 0 0 0 0 0 0 0 0 0 0 0 0 0 0 0 0 0 0 0 0 0 0 0 0 0 0 0 0 0 0 0 0 0\n",
      "  0 0 0 0 0 0 0 0 0 0 0 0 0 0]\n",
      " [0 0 0 0 0 0 0 0 0 0 0 0 0 0 0 0 0 0 0 0 0 1 1 0 0 0 0 1 0 0 0 0 0 0 0 0\n",
      "  0 0 0 0 0 0 0 0 0 0 0 0 0 0]\n",
      " [0 0 0 0 0 0 0 0 0 0 0 0 0 0 0 0 0 0 0 0 1 0 0 1 0 0 0 1 0 0 0 0 0 0 0 0\n",
      "  0 0 0 0 0 0 0 0 0 0 0 0 0 0]\n",
      " [0 0 0 0 0 0 0 0 0 0 0 0 0 0 0 0 0 0 0 0 0 1 1 0 0 0 0 1 0 0 0 0 0 0 0 0\n",
      "  0 0 0 0 0 0 0 0 0 0 0 0 0 0]\n",
      " [0 0 0 0 0 0 0 0 0 0 0 0 0 0 0 0 0 0 0 0 0 0 0 0 0 0 0 0 0 0 0 0 0 0 0 0\n",
      "  0 0 0 0 0 0 0 0 0 0 0 0 0 0]\n",
      " [0 0 0 0 0 0 0 0 0 0 0 0 0 0 0 0 0 0 0 0 0 0 0 0 0 0 0 0 0 0 0 0 0 0 0 0\n",
      "  0 0 0 0 0 0 0 0 0 0 0 0 0 0]\n",
      " [0 0 0 0 0 0 0 0 0 0 0 0 0 0 0 0 0 0 0 0 0 0 0 0 0 0 0 0 0 0 0 0 0 0 0 0\n",
      "  0 0 0 0 0 0 0 0 0 0 0 0 0 0]\n",
      " [0 0 0 0 0 0 0 0 0 0 0 0 0 0 0 0 0 0 0 0 0 0 0 0 0 0 0 0 0 0 0 0 0 0 0 0\n",
      "  0 0 0 0 0 0 0 0 0 0 0 0 0 0]\n",
      " [0 0 0 0 0 0 0 0 0 0 0 0 0 0 0 0 0 0 0 0 0 0 0 0 0 0 0 0 0 0 0 0 0 0 0 0\n",
      "  0 0 0 0 0 0 0 0 0 0 0 0 0 0]\n",
      " [0 0 0 0 0 0 0 0 0 0 0 0 0 0 0 0 0 0 0 0 0 0 0 0 0 0 0 0 0 0 0 0 0 0 0 0\n",
      "  0 0 0 0 0 0 0 0 0 0 0 0 0 0]\n",
      " [0 0 0 0 0 0 0 0 0 0 0 0 0 0 0 0 0 0 0 0 0 0 0 0 0 0 0 0 0 0 0 0 0 0 0 0\n",
      "  0 0 0 0 0 0 0 0 0 0 0 0 0 0]\n",
      " [0 0 0 0 0 0 0 0 0 0 0 0 0 0 0 0 0 0 0 0 0 0 0 0 0 0 0 0 0 0 0 0 0 0 0 0\n",
      "  0 0 0 0 0 0 0 1 0 0 0 0 0 0]\n",
      " [0 0 0 0 0 0 0 0 0 0 0 0 0 0 0 0 0 0 0 0 0 0 0 0 0 0 0 0 0 0 0 0 0 0 0 0\n",
      "  0 0 0 0 0 0 0 1 0 0 0 0 0 0]\n",
      " [0 0 0 0 0 0 0 0 0 0 0 0 0 0 0 0 0 0 0 0 0 0 0 0 0 0 0 0 0 0 0 0 0 0 0 0\n",
      "  0 0 0 0 0 0 0 1 0 0 0 0 0 0]\n",
      " [0 0 0 0 0 0 0 0 0 0 0 0 0 0 0 0 0 0 0 0 0 0 0 0 0 0 0 0 0 0 0 0 0 0 0 0\n",
      "  0 0 0 0 0 0 0 0 0 0 0 0 0 0]\n",
      " [0 0 0 0 0 0 0 0 0 0 0 0 0 0 0 0 0 0 0 0 0 0 0 0 0 0 0 0 0 0 0 0 0 0 0 0\n",
      "  0 0 0 0 0 0 0 0 0 0 0 0 0 0]\n",
      " [0 0 0 0 0 0 0 0 0 0 0 0 0 0 0 0 0 0 0 0 0 0 0 0 0 0 0 0 0 0 0 0 0 0 0 0\n",
      "  0 0 0 0 0 0 0 0 0 0 0 0 0 0]\n",
      " [0 0 0 0 0 0 0 0 0 0 0 0 0 0 0 0 0 1 0 0 0 0 0 0 0 0 0 0 0 0 0 0 0 0 0 0\n",
      "  0 0 0 0 0 0 0 0 0 0 0 0 0 0]\n",
      " [0 0 0 0 0 0 0 0 0 0 0 0 0 0 0 0 0 1 0 0 0 0 0 0 0 0 0 0 0 0 0 0 0 0 0 0\n",
      "  0 0 0 0 0 0 0 0 0 0 0 0 0 0]\n",
      " [0 0 0 0 0 0 0 0 0 0 0 0 0 0 0 0 0 1 0 0 0 0 0 0 0 0 0 0 0 0 0 0 0 0 0 0\n",
      "  0 0 0 0 0 0 0 0 0 0 0 0 0 0]\n",
      " [0 0 0 0 0 0 0 0 0 0 0 0 0 0 0 0 0 0 0 0 0 0 0 0 0 0 0 0 0 0 0 0 0 0 0 0\n",
      "  0 0 0 0 0 0 0 0 0 0 0 0 0 0]\n",
      " [0 0 0 0 0 0 0 0 0 0 0 0 0 0 0 0 0 0 0 0 0 0 0 0 0 0 0 0 0 0 0 0 0 0 0 0\n",
      "  0 0 0 0 0 0 0 0 0 0 0 0 0 0]\n",
      " [0 0 0 0 0 0 0 0 0 0 0 0 0 0 0 0 0 0 0 0 0 0 0 1 0 1 0 0 0 0 0 0 0 0 0 0\n",
      "  0 0 0 0 0 0 0 0 0 0 0 0 0 0]\n",
      " [0 0 0 0 0 0 0 0 0 0 0 0 0 0 0 0 0 0 0 0 0 0 1 0 0 0 1 0 0 0 0 0 1 0 0 0\n",
      "  0 0 0 0 0 0 0 0 0 0 0 0 0 0]\n",
      " [0 0 0 0 0 0 0 0 1 0 0 0 0 0 0 0 0 0 0 0 0 0 0 1 0 1 0 0 0 0 0 1 0 1 0 0\n",
      "  0 0 0 0 0 0 0 0 0 0 0 1 1 0]\n",
      " [0 0 0 0 0 0 0 1 0 1 0 0 0 0 0 0 0 0 0 0 0 0 0 0 1 1 1 0 0 0 0 1 0 1 0 0\n",
      "  0 0 0 0 0 0 0 0 0 0 0 1 1 0]\n",
      " [0 0 0 0 0 0 0 1 0 1 0 0 0 0 0 0 0 0 0 0 0 0 0 0 0 0 1 1 0 0 0 0 1 0 0 0\n",
      "  0 0 0 0 0 0 0 0 0 0 0 0 0 0]\n",
      " [0 0 0 0 0 0 0 0 1 0 0 0 0 0 0 0 0 0 0 1 0 0 0 0 0 1 0 0 1 0 0 0 0 0 0 0\n",
      "  0 0 0 0 0 0 0 0 0 0 0 0 0 0]\n",
      " [0 0 0 0 0 0 0 0 0 0 0 0 0 0 0 0 1 0 0 1 1 0 0 0 0 0 0 0 0 0 0 0 0 0 0 0\n",
      "  0 0 0 0 0 0 0 0 0 0 0 0 0 0]\n",
      " [0 0 0 0 0 0 0 0 0 0 0 0 0 0 1 0 1 0 0 0 1 0 0 0 0 1 1 1 0 0 0 0 0 0 0 0\n",
      "  0 0 0 0 0 0 0 0 0 0 0 0 0 0]\n",
      " [0 0 0 0 0 0 0 0 0 0 0 0 0 1 0 0 0 1 1 0 0 0 0 0 0 0 0 0 0 0 0 0 0 0 0 0\n",
      "  0 0 0 0 0 0 0 0 0 0 0 0 0 0]\n",
      " [0 0 0 0 0 0 0 0 0 0 0 0 0 1 1 0 0 0 0 0 0 0 0 0 0 0 0 0 0 0 0 0 0 0 0 0\n",
      "  0 0 0 0 0 0 0 0 0 0 0 0 0 0]\n",
      " [0 0 0 0 0 0 0 0 0 0 0 0 1 1 0 0 0 0 0 0 0 0 0 0 0 0 0 0 0 0 0 0 0 0 0 0\n",
      "  0 0 0 0 0 0 0 0 1 1 0 0 0 0]\n",
      " [0 0 0 0 0 0 0 0 0 0 0 0 0 0 0 0 0 0 0 0 0 0 0 0 0 0 0 0 0 0 0 0 0 0 0 0\n",
      "  0 0 0 0 0 0 0 0 1 1 0 0 0 0]\n",
      " [0 0 0 0 0 0 0 0 0 0 0 0 0 0 0 0 0 0 1 0 0 0 0 0 0 0 0 0 0 0 0 0 0 0 0 0\n",
      "  0 0 0 0 0 0 0 0 0 0 0 0 0 0]\n",
      " [0 0 0 0 0 0 0 0 0 0 0 0 0 0 0 1 0 0 0 1 0 0 0 0 0 0 0 0 0 0 1 1 1 0 0 0\n",
      "  0 0 0 0 0 0 0 0 0 0 0 0 0 0]\n",
      " [0 0 0 0 0 0 0 0 0 0 0 0 0 0 1 0 0 0 1 0 0 0 0 0 0 0 0 0 0 0 0 0 0 0 0 0\n",
      "  0 0 0 0 0 0 0 0 0 0 0 0 0 0]\n",
      " [0 0 0 0 0 0 0 0 0 0 0 0 0 0 1 0 0 0 0 0 0 0 0 0 0 0 0 0 0 0 0 0 0 0 0 0\n",
      "  0 0 0 0 0 0 0 0 0 0 0 0 0 0]\n",
      " [0 0 0 0 0 0 0 0 0 0 0 0 0 0 0 0 1 0 0 0 0 0 0 0 0 0 0 0 0 0 0 0 0 0 0 0\n",
      "  0 0 0 0 0 0 0 0 0 0 0 0 0 0]\n",
      " [0 0 0 0 0 0 0 0 0 0 0 0 0 0 0 0 0 0 0 0 0 0 0 0 0 0 0 0 0 0 0 0 0 0 0 0\n",
      "  0 0 0 0 0 0 0 0 0 0 0 0 0 0]\n",
      " [0 0 0 0 0 0 0 0 0 0 0 0 0 0 0 0 0 0 0 0 0 0 0 0 0 0 0 0 0 0 0 0 0 0 0 0\n",
      "  0 0 0 0 0 0 0 0 0 0 0 0 0 0]\n",
      " [0 0 0 0 0 0 0 0 0 0 0 0 0 0 0 0 0 0 0 0 0 0 0 0 0 0 0 0 0 0 0 0 0 0 0 0\n",
      "  0 0 0 0 0 0 0 0 0 0 0 0 0 0]]\n"
     ]
    }
   ],
   "source": [
    "#88. How to implement the Game of Life using numpy arrays? (★★★)\n",
    "def iterate(Z):\n",
    "    # Count neighbours\n",
    "    N = (Z[0:-2,0:-2] + Z[0:-2,1:-1] + Z[0:-2,2:] +\n",
    "         Z[1:-1,0:-2]                + Z[1:-1,2:] +\n",
    "         Z[2:  ,0:-2] + Z[2:  ,1:-1] + Z[2:  ,2:])\n",
    "\n",
    "    # Apply rules\n",
    "    birth = (N==3) & (Z[1:-1,1:-1]==0)\n",
    "    survive = ((N==2) | (N==3)) & (Z[1:-1,1:-1]==1)\n",
    "    Z[...] = 0\n",
    "    Z[1:-1,1:-1][birth | survive] = 1\n",
    "    return Z\n",
    "\n",
    "Z = np.random.randint(0,2,(50,50))\n",
    "for i in range(100): Z = iterate(Z)\n",
    "print(Z)\n"
   ]
  },
  {
   "cell_type": "code",
   "execution_count": 89,
   "id": "1085f562",
   "metadata": {},
   "outputs": [
    {
     "name": "stdout",
     "output_type": "stream",
     "text": [
      "[9999 9998 9997 9996 9995]\n"
     ]
    }
   ],
   "source": [
    "#89. How to get the n largest values of an array (★★★)\n",
    "Z = np.arange(10000)\n",
    "np.random.shuffle(Z)\n",
    "n = 5\n",
    "print (Z[np.argpartition(-Z,n)[:n]])\n"
   ]
  },
  {
   "cell_type": "code",
   "execution_count": 90,
   "id": "d4e186c3",
   "metadata": {},
   "outputs": [
    {
     "name": "stdout",
     "output_type": "stream",
     "text": [
      "[(b'Hello', 2.5, 3) (b'World', 3.6, 2)]\n"
     ]
    }
   ],
   "source": [
    "#91. How to create a record array from a regular array? (★★★)\n",
    "Z = np.array([(\"Hello\", 2.5, 3),\n",
    "              (\"World\", 3.6, 2)])\n",
    "R = np.core.records.fromarrays(Z.T,\n",
    "                               names='col1, col2, col3',\n",
    "                               formats = 'S8, f8, i8')\n",
    "print(R)"
   ]
  },
  {
   "cell_type": "code",
   "execution_count": 91,
   "id": "d57bd8ee",
   "metadata": {},
   "outputs": [
    {
     "name": "stdout",
     "output_type": "stream",
     "text": [
      "1.7 µs ± 216 ns per loop (mean ± std. dev. of 7 runs, 100,000 loops each)\n",
      "221 ns ± 30.7 ns per loop (mean ± std. dev. of 7 runs, 1,000,000 loops each)\n"
     ]
    },
    {
     "ename": "ValueError",
     "evalue": "einstein sum subscripts string contains too many subscripts for operand 0",
     "output_type": "error",
     "traceback": [
      "\u001b[1;31m---------------------------------------------------------------------------\u001b[0m",
      "\u001b[1;31mValueError\u001b[0m                                Traceback (most recent call last)",
      "Input \u001b[1;32mIn [91]\u001b[0m, in \u001b[0;36m<cell line: 6>\u001b[1;34m()\u001b[0m\n\u001b[0;32m      4\u001b[0m get_ipython()\u001b[38;5;241m.\u001b[39mrun_line_magic(\u001b[38;5;124m'\u001b[39m\u001b[38;5;124mtimeit\u001b[39m\u001b[38;5;124m'\u001b[39m, \u001b[38;5;124m'\u001b[39m\u001b[38;5;124mnp.power(x,3)\u001b[39m\u001b[38;5;124m'\u001b[39m)\n\u001b[0;32m      5\u001b[0m get_ipython()\u001b[38;5;241m.\u001b[39mrun_line_magic(\u001b[38;5;124m'\u001b[39m\u001b[38;5;124mtimeit\u001b[39m\u001b[38;5;124m'\u001b[39m, \u001b[38;5;124m'\u001b[39m\u001b[38;5;124mx*x*x\u001b[39m\u001b[38;5;124m'\u001b[39m)\n\u001b[1;32m----> 6\u001b[0m \u001b[43mget_ipython\u001b[49m\u001b[43m(\u001b[49m\u001b[43m)\u001b[49m\u001b[38;5;241;43m.\u001b[39;49m\u001b[43mrun_line_magic\u001b[49m\u001b[43m(\u001b[49m\u001b[38;5;124;43m'\u001b[39;49m\u001b[38;5;124;43mtimeit\u001b[39;49m\u001b[38;5;124;43m'\u001b[39;49m\u001b[43m,\u001b[49m\u001b[43m \u001b[49m\u001b[38;5;124;43m\"\u001b[39;49m\u001b[38;5;124;43mnp.einsum(\u001b[39;49m\u001b[38;5;124;43m'\u001b[39;49m\u001b[38;5;124;43mi,i,i->i\u001b[39;49m\u001b[38;5;124;43m'\u001b[39;49m\u001b[38;5;124;43m,x,x,x)\u001b[39;49m\u001b[38;5;124;43m\"\u001b[39;49m\u001b[43m)\u001b[49m\n",
      "File \u001b[1;32mC:\\ProgramData\\Anaconda3\\lib\\site-packages\\IPython\\core\\interactiveshell.py:2294\u001b[0m, in \u001b[0;36mInteractiveShell.run_line_magic\u001b[1;34m(self, magic_name, line, _stack_depth)\u001b[0m\n\u001b[0;32m   2292\u001b[0m     kwargs[\u001b[38;5;124m'\u001b[39m\u001b[38;5;124mlocal_ns\u001b[39m\u001b[38;5;124m'\u001b[39m] \u001b[38;5;241m=\u001b[39m \u001b[38;5;28mself\u001b[39m\u001b[38;5;241m.\u001b[39mget_local_scope(stack_depth)\n\u001b[0;32m   2293\u001b[0m \u001b[38;5;28;01mwith\u001b[39;00m \u001b[38;5;28mself\u001b[39m\u001b[38;5;241m.\u001b[39mbuiltin_trap:\n\u001b[1;32m-> 2294\u001b[0m     result \u001b[38;5;241m=\u001b[39m fn(\u001b[38;5;241m*\u001b[39margs, \u001b[38;5;241m*\u001b[39m\u001b[38;5;241m*\u001b[39mkwargs)\n\u001b[0;32m   2295\u001b[0m \u001b[38;5;28;01mreturn\u001b[39;00m result\n",
      "File \u001b[1;32mC:\\ProgramData\\Anaconda3\\lib\\site-packages\\IPython\\core\\magics\\execution.py:1162\u001b[0m, in \u001b[0;36mExecutionMagics.timeit\u001b[1;34m(self, line, cell, local_ns)\u001b[0m\n\u001b[0;32m   1160\u001b[0m \u001b[38;5;28;01mfor\u001b[39;00m index \u001b[38;5;129;01min\u001b[39;00m \u001b[38;5;28mrange\u001b[39m(\u001b[38;5;241m0\u001b[39m, \u001b[38;5;241m10\u001b[39m):\n\u001b[0;32m   1161\u001b[0m     number \u001b[38;5;241m=\u001b[39m \u001b[38;5;241m10\u001b[39m \u001b[38;5;241m*\u001b[39m\u001b[38;5;241m*\u001b[39m index\n\u001b[1;32m-> 1162\u001b[0m     time_number \u001b[38;5;241m=\u001b[39m \u001b[43mtimer\u001b[49m\u001b[38;5;241;43m.\u001b[39;49m\u001b[43mtimeit\u001b[49m\u001b[43m(\u001b[49m\u001b[43mnumber\u001b[49m\u001b[43m)\u001b[49m\n\u001b[0;32m   1163\u001b[0m     \u001b[38;5;28;01mif\u001b[39;00m time_number \u001b[38;5;241m>\u001b[39m\u001b[38;5;241m=\u001b[39m \u001b[38;5;241m0.2\u001b[39m:\n\u001b[0;32m   1164\u001b[0m         \u001b[38;5;28;01mbreak\u001b[39;00m\n",
      "File \u001b[1;32mC:\\ProgramData\\Anaconda3\\lib\\site-packages\\IPython\\core\\magics\\execution.py:156\u001b[0m, in \u001b[0;36mTimer.timeit\u001b[1;34m(self, number)\u001b[0m\n\u001b[0;32m    154\u001b[0m gc\u001b[38;5;241m.\u001b[39mdisable()\n\u001b[0;32m    155\u001b[0m \u001b[38;5;28;01mtry\u001b[39;00m:\n\u001b[1;32m--> 156\u001b[0m     timing \u001b[38;5;241m=\u001b[39m \u001b[38;5;28;43mself\u001b[39;49m\u001b[38;5;241;43m.\u001b[39;49m\u001b[43minner\u001b[49m\u001b[43m(\u001b[49m\u001b[43mit\u001b[49m\u001b[43m,\u001b[49m\u001b[43m \u001b[49m\u001b[38;5;28;43mself\u001b[39;49m\u001b[38;5;241;43m.\u001b[39;49m\u001b[43mtimer\u001b[49m\u001b[43m)\u001b[49m\n\u001b[0;32m    157\u001b[0m \u001b[38;5;28;01mfinally\u001b[39;00m:\n\u001b[0;32m    158\u001b[0m     \u001b[38;5;28;01mif\u001b[39;00m gcold:\n",
      "File \u001b[1;32m<magic-timeit>:1\u001b[0m, in \u001b[0;36minner\u001b[1;34m(_it, _timer)\u001b[0m\n",
      "File \u001b[1;32m<__array_function__ internals>:5\u001b[0m, in \u001b[0;36meinsum\u001b[1;34m(*args, **kwargs)\u001b[0m\n",
      "File \u001b[1;32mC:\\ProgramData\\Anaconda3\\lib\\site-packages\\numpy\\core\\einsumfunc.py:1359\u001b[0m, in \u001b[0;36meinsum\u001b[1;34m(out, optimize, *operands, **kwargs)\u001b[0m\n\u001b[0;32m   1357\u001b[0m     \u001b[38;5;28;01mif\u001b[39;00m specified_out:\n\u001b[0;32m   1358\u001b[0m         kwargs[\u001b[38;5;124m'\u001b[39m\u001b[38;5;124mout\u001b[39m\u001b[38;5;124m'\u001b[39m] \u001b[38;5;241m=\u001b[39m out\n\u001b[1;32m-> 1359\u001b[0m     \u001b[38;5;28;01mreturn\u001b[39;00m c_einsum(\u001b[38;5;241m*\u001b[39moperands, \u001b[38;5;241m*\u001b[39m\u001b[38;5;241m*\u001b[39mkwargs)\n\u001b[0;32m   1361\u001b[0m \u001b[38;5;66;03m# Check the kwargs to avoid a more cryptic error later, without having to\u001b[39;00m\n\u001b[0;32m   1362\u001b[0m \u001b[38;5;66;03m# repeat default values here\u001b[39;00m\n\u001b[0;32m   1363\u001b[0m valid_einsum_kwargs \u001b[38;5;241m=\u001b[39m [\u001b[38;5;124m'\u001b[39m\u001b[38;5;124mdtype\u001b[39m\u001b[38;5;124m'\u001b[39m, \u001b[38;5;124m'\u001b[39m\u001b[38;5;124morder\u001b[39m\u001b[38;5;124m'\u001b[39m, \u001b[38;5;124m'\u001b[39m\u001b[38;5;124mcasting\u001b[39m\u001b[38;5;124m'\u001b[39m]\n",
      "\u001b[1;31mValueError\u001b[0m: einstein sum subscripts string contains too many subscripts for operand 0"
     ]
    }
   ],
   "source": [
    "#92. Consider a large vector Z, compute Z to the power of 3 using 3 different methods (★★★)\n",
    "\n",
    "x = np.random.randint(5e7)\n",
    "%timeit np.power(x,3)\n",
    "%timeit x*x*x\n",
    "%timeit np.einsum('i,i,i->i',x,x,x)"
   ]
  },
  {
   "cell_type": "code",
   "execution_count": 92,
   "id": "26b43c0f",
   "metadata": {},
   "outputs": [
    {
     "name": "stdout",
     "output_type": "stream",
     "text": [
      "[0 1 2 3 4 5 6]\n"
     ]
    }
   ],
   "source": [
    "#93.Consider two arrays A and B of shape (8,3) and (2,2). How to find rows of A that contain elements of each row of B regardless of the order of the elements in B?\n",
    "#(hint: np.where)\n",
    "A = np.random.randint(0,5,(8,3))\n",
    "B = np.random.randint(0,5,(2,2))\n",
    "\n",
    "C = (A[..., np.newaxis, np.newaxis] == B)\n",
    "rows = np.where(C.any((3,1)).all(1))[0]\n",
    "print(rows)"
   ]
  },
  {
   "cell_type": "code",
   "execution_count": 93,
   "id": "a08b856a",
   "metadata": {},
   "outputs": [
    {
     "name": "stdout",
     "output_type": "stream",
     "text": [
      "[[1 2 1]\n",
      " [0 0 2]\n",
      " [1 3 4]\n",
      " [2 3 2]\n",
      " [2 2 0]\n",
      " [2 4 1]\n",
      " [2 3 0]\n",
      " [3 4 1]\n",
      " [2 3 3]\n",
      " [1 2 3]]\n",
      "[[1 2 1]\n",
      " [0 0 2]\n",
      " [1 3 4]\n",
      " [2 3 2]\n",
      " [2 2 0]\n",
      " [2 4 1]\n",
      " [2 3 0]\n",
      " [3 4 1]\n",
      " [2 3 3]\n",
      " [1 2 3]]\n",
      "[[1 2 1]\n",
      " [0 0 2]\n",
      " [1 3 4]\n",
      " [2 3 2]\n",
      " [2 2 0]\n",
      " [2 4 1]\n",
      " [2 3 0]\n",
      " [3 4 1]\n",
      " [2 3 3]\n",
      " [1 2 3]]\n"
     ]
    }
   ],
   "source": [
    "#94.Considering a 10x3 matrix, extract rows with unequal values (e.g. [2,2,3])\n",
    "Z = np.random.randint(0,5,(10,3))\n",
    "print(Z)\n",
    "E = np.all(Z[:,1:] == Z[:,:-1], axis=1)\n",
    "U = Z[~E]\n",
    "print(U)\n",
    "U = Z[Z.max(axis=1) != Z.min(axis=1),:]\n",
    "print(U)"
   ]
  },
  {
   "cell_type": "code",
   "execution_count": 94,
   "id": "6239d4f2",
   "metadata": {},
   "outputs": [
    {
     "name": "stdout",
     "output_type": "stream",
     "text": [
      "[[0 0 0 0 0 0 0 0]\n",
      " [0 0 0 0 0 0 0 1]\n",
      " [0 0 0 0 0 0 1 0]\n",
      " [0 0 0 0 0 0 1 1]\n",
      " [0 0 0 0 1 1 1 1]\n",
      " [0 0 0 1 0 0 0 0]\n",
      " [0 0 1 0 0 0 0 0]\n",
      " [0 1 0 0 0 0 0 0]\n",
      " [1 0 0 0 0 0 0 0]]\n",
      "[[0 0 0 0 0 0 0 0]\n",
      " [0 0 0 0 0 0 0 1]\n",
      " [0 0 0 0 0 0 1 0]\n",
      " [0 0 0 0 0 0 1 1]\n",
      " [0 0 0 0 1 1 1 1]\n",
      " [0 0 0 1 0 0 0 0]\n",
      " [0 0 1 0 0 0 0 0]\n",
      " [0 1 0 0 0 0 0 0]\n",
      " [1 0 0 0 0 0 0 0]]\n"
     ]
    }
   ],
   "source": [
    "#95. Convert a vector of ints into a matrix binary representation\n",
    "I = np.array([0, 1, 2, 3, 15, 16, 32, 64, 128])\n",
    "B = ((I.reshape(-1,1) & (2**np.arange(8))) != 0).astype(int)\n",
    "print(B[:,::-1])\n",
    "I = np.array([0, 1, 2, 3, 15, 16, 32, 64, 128], dtype=np.uint8)\n",
    "print(np.unpackbits(I[:, np.newaxis], axis=1))"
   ]
  },
  {
   "cell_type": "code",
   "execution_count": 95,
   "id": "bf4f5a35",
   "metadata": {},
   "outputs": [
    {
     "name": "stdout",
     "output_type": "stream",
     "text": [
      "[[0 0 1]\n",
      " [0 1 0]\n",
      " [0 1 1]\n",
      " [1 1 0]]\n"
     ]
    }
   ],
   "source": [
    "#96. Given a two dimensional array, how to extract unique rows? \n",
    "#(hint: np.ascontiguousarray)\n",
    "Z = np.random.randint(0,2,(6,3))\n",
    "T = np.ascontiguousarray(Z).view(np.dtype((np.void, Z.dtype.itemsize * Z.shape[1])))\n",
    "_, idx = np.unique(T, return_index=True)\n",
    "uZ = Z[idx]\n",
    "print(uZ)"
   ]
  },
  {
   "cell_type": "code",
   "execution_count": 96,
   "id": "f828dcaa",
   "metadata": {},
   "outputs": [
    {
     "data": {
      "text/plain": [
       "array([[0.10924404, 0.00788139, 0.23743312, 0.20651134, 0.15864529,\n",
       "        0.24694304, 0.12563864, 0.19124   , 0.27947096, 0.12946394],\n",
       "       [0.14011719, 0.01010873, 0.30453341, 0.26487292, 0.20347958,\n",
       "        0.3167309 , 0.16114502, 0.24528579, 0.35845145, 0.16605137],\n",
       "       [0.17968134, 0.01296308, 0.3905229 , 0.33966368, 0.26093504,\n",
       "        0.40616453, 0.20664669, 0.31454584, 0.45966549, 0.21293842],\n",
       "       [0.29521635, 0.02129834, 0.64162893, 0.55806726, 0.42871614,\n",
       "        0.66732812, 0.3395204 , 0.51679865, 0.75523017, 0.34985771],\n",
       "       [0.24449097, 0.01763876, 0.53138141, 0.46217768, 0.35505223,\n",
       "        0.55266485, 0.2811825 , 0.42800002, 0.62546318, 0.28974361],\n",
       "       [0.2421642 , 0.0174709 , 0.52632437, 0.45777923, 0.35167328,\n",
       "        0.54740526, 0.27850655, 0.42392684, 0.61951078, 0.28698619],\n",
       "       [0.2304825 , 0.01662813, 0.50093514, 0.43569654, 0.334709  ,\n",
       "        0.52099912, 0.26507175, 0.40347714, 0.58962636, 0.27314233],\n",
       "       [0.32369925, 0.02335323, 0.70353421, 0.6119104 , 0.47007929,\n",
       "        0.7317129 , 0.37227782, 0.56666013, 0.82809586, 0.38361249],\n",
       "       [0.05934051, 0.00428111, 0.12897181, 0.11217534, 0.08617488,\n",
       "        0.13413753, 0.06824593, 0.10388007, 0.15180644, 0.0703238 ],\n",
       "       [0.36094566, 0.02604037, 0.78448629, 0.68231979, 0.5241689 ,\n",
       "        0.81590736, 0.41511392, 0.63186281, 0.92338061, 0.42775281]])"
      ]
     },
     "execution_count": 96,
     "metadata": {},
     "output_type": "execute_result"
    }
   ],
   "source": [
    "#97. Considering 2 vectors A & B, write the einsum equivalent of inner, outer, sum, and mul function \n",
    "#(hint: np.einsum)\n",
    "A = np.random.uniform(0,1,10)\n",
    "B = np.random.uniform(0,1,10)\n",
    "\n",
    "np.einsum('i->', A)       \n",
    "np.einsum('i,i->i', A, B) \n",
    "np.einsum('i,i', A, B)    \n",
    "np.einsum('i,j->ij', A, B) "
   ]
  },
  {
   "cell_type": "code",
   "execution_count": 97,
   "id": "aa966197",
   "metadata": {},
   "outputs": [],
   "source": [
    "#98. Considering a path described by two vectors (X,Y), how to sample it using equidistant samples?\n",
    "#(hint: np.cumsum, np.interp)\n",
    "phi = np.arange(0, 10*np.pi, 0.1)\n",
    "a = 1\n",
    "x = a*phi*np.cos(phi)\n",
    "y = a*phi*np.sin(phi)\n",
    "\n",
    "dr = (np.diff(x)**2 + np.diff(y)**2)**.5 \n",
    "r = np.zeros_like(x)\n",
    "r[1:] = np.cumsum(dr)                \n",
    "r_int = np.linspace(0, r.max(), 200)\n",
    "x_int = np.interp(r_int, r, x)       \n",
    "y_int = np.interp(r_int, r, y)"
   ]
  },
  {
   "cell_type": "code",
   "execution_count": 98,
   "id": "f61a1e30",
   "metadata": {},
   "outputs": [
    {
     "name": "stdout",
     "output_type": "stream",
     "text": [
      "[[2. 0. 1. 1.]]\n"
     ]
    }
   ],
   "source": [
    "#99. Given an integer n and a 2D array X, select from X the rows which can be interpreted as draws from a multinomial distribution with n degrees, i.e., the rows which only contain integers and which sum to n.\n",
    "#(hint: np.logical_and.reduce, np.mod)\n",
    "X = np.asarray([[1.0, 0.0, 3.0, 8.0],\n",
    "                [2.0, 0.0, 1.0, 1.0],\n",
    "                [1.5, 2.5, 1.0, 0.0]])\n",
    "n = 4\n",
    "M = np.logical_and.reduce(np.mod(X, 1) == 0, axis=-1)\n",
    "M &= (X.sum(axis=-1) == n)\n",
    "print(X[M])"
   ]
  },
  {
   "cell_type": "code",
   "execution_count": 99,
   "id": "d83a28a7",
   "metadata": {},
   "outputs": [
    {
     "name": "stdout",
     "output_type": "stream",
     "text": [
      "[-0.36047273  0.04044728]\n"
     ]
    }
   ],
   "source": [
    "#100.Compute bootstrapped 95% confidence intervals for the mean of a 1D array X (i.e., resample the elements of an array with replacement N times, compute the mean of each sample, and then compute percentiles over the means).\n",
    "#(hint: np.percentile)\n",
    "X = np.random.randn(100) # random 1D array\n",
    "N = 1000 # number of bootstrap samples\n",
    "idx = np.random.randint(0, X.size, (N, X.size))\n",
    "means = X[idx].mean(axis=1)\n",
    "confint = np.percentile(means, [2.5, 97.5])\n",
    "print(confint)"
   ]
  },
  {
   "cell_type": "code",
   "execution_count": null,
   "id": "1ec5500c",
   "metadata": {},
   "outputs": [],
   "source": []
  }
 ],
 "metadata": {
  "kernelspec": {
   "display_name": "Python 3 (ipykernel)",
   "language": "python",
   "name": "python3"
  },
  "language_info": {
   "codemirror_mode": {
    "name": "ipython",
    "version": 3
   },
   "file_extension": ".py",
   "mimetype": "text/x-python",
   "name": "python",
   "nbconvert_exporter": "python",
   "pygments_lexer": "ipython3",
   "version": "3.9.12"
  }
 },
 "nbformat": 4,
 "nbformat_minor": 5
}
